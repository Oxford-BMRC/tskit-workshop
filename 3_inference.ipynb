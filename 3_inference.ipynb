{
 "cells": [
  {
   "cell_type": "markdown",
   "metadata": {
    "colab_type": "text",
    "id": "vO9IP0P3aeir"
   },
   "source": [
    "# tree sequence workshop- Part 3: Inference"
   ]
  },
  {
   "cell_type": "markdown",
   "metadata": {
    "colab_type": "text",
    "id": "_JrVmHtqaeit"
   },
   "source": [
    "### Friday 14 December"
   ]
  },
  {
   "cell_type": "code",
   "execution_count": null,
   "metadata": {
    "colab_type": "text",
    "id": "5FHoBkSsaeit"
   },
   "outputs": [],
   "source": [
    "Welcome to the tree sequence workshop. Today we will give you an overview of the tree sequence data structure, the $\\texttt{msprime}$ coalescent simulator, and our efficient inference framework: $\\texttt{tsinfer}$. "
   ]
  },
  {
   "cell_type": "markdown",
   "metadata": {
    "colab_type": "text",
    "id": "ixMoi6pcaeiu"
   },
   "source": [
    "# Contents"
   ]
  },
  {
   "cell_type": "markdown",
   "metadata": {
    "colab_type": "text",
    "id": "xMWuwAnDaeiv"
   },
   "source": [
    "0. [Import](#import)\n",
    "1. [Inferring tree sequences (tsinfer)](#tsinfer)\n",
    "2. [Metadata](#metadata)\n",
    "3. [References and Documentation](#ref)"
   ]
  },
  {
   "cell_type": "markdown",
   "metadata": {
    "colab_type": "text",
    "id": "Vdrk6sgTaeix"
   },
   "source": [
    "<a id='import'></a>\n",
    "# 0. Import\n"
   ]
  },
  {
   "cell_type": "code",
   "execution_count": 1,
   "metadata": {
    "colab": {},
    "colab_type": "code",
    "id": "IIt2MpE3aeix"
   },
   "outputs": [
    {
     "name": "stderr",
     "output_type": "stream",
     "text": [
      "/Users/anthonywohns/anaconda_ete/lib/python3.6/importlib/_bootstrap.py:219: RuntimeWarning: numpy.dtype size changed, may indicate binary incompatibility. Expected 96, got 88\n",
      "  return f(*args, **kwds)\n"
     ]
    }
   ],
   "source": [
    "import numpy as np\n",
    "from IPython.display import SVG, display\n",
    "import tqdm\n",
    "\n",
    "import msprime #NB some functions here e.g. msprime.load() will change soon to tskit.load()\n",
    "import tsinfer"
   ]
  },
  {
   "cell_type": "markdown",
   "metadata": {},
   "source": [
    "<a id='tsinfer'></a>\n",
    "# 4. Genealogical inference\n",
    "\n",
    "Simulating a tree sequence is relatively simple compared to *inferring* a tree sequence from existing data. The [`tsinfer` software](https://tsinfer.readthedocs.io/en/latest/) (pronounced T. S. Infer), currently in active development, implements a heuristic algorithm which does this in a scalable manner.\n",
    "\n",
    "`Tsinfer` is comparable in some ways to other ancestral inference software such as [ARGweaver](https://doi.org/10.1371/journal.pgen.1004342), [Relate](https://myersgroup.github.io/relate/), and [Rent+](https://doi.org/10.1093/bioinformatics/btw735). However, it differs considerably in approach and scalability. Note that none of these other software packages produce tree sequences as output, although is possible (but unsupported and tedious) to convert their output to tree sequences. Also note that `tsinfer` produces trees with a relatively accurate topology, but unlike other ancestral inference tools, makes no attempt at the moment to produce precise branch length estimates."
   ]
  },
  {
   "cell_type": "markdown",
   "metadata": {
    "colab_type": "text",
    "id": "atAY0ILLaejM"
   },
   "source": [
    "## Algorithm details\n",
    "\n",
    "The best current description of `tsinfer` in the [preprint on Biorxiv](https://www.biorxiv.org/content/early/2018/11/01/458067).\n",
    "\n",
    "The key `tsinfer`'s scalability is that, rather than compare sample genomes with each other in a pairwise manner, we use them to reconstruct the genomic sequence of their **ancestors**. These ancestors can consist of partial chunks of sequence, since we know that the older the ancestor, the shorter the inherited chunks (or \"ancestral haplotypes\") are likely to be.\n",
    "\n",
    "If we have reasonably estimated ancestral haplotypes (and a rough age order) we can take advantage of a modified version of the Li & Stephens matching algorithm to calculate which ancestors immediately descend (or \"copy\") from which others. Once we have done this, we can apply the same method to deduce from which ancestors the current samples descend. This obviates the need to make pairwise comparisons between samples, which is computationally extortionate.\n",
    "\n",
    "The \"copying order\" created during the matching process directly corresponds to the edges in a tree sequence (in fact, the tree sequence format is created during the matching process, and tree sequence technology is integral to the fast performance of the matching algorithm).\n",
    "\n",
    "With simulation, we can show that with ideal ancestors"
   ]
  },
  {
   "attachments": {},
   "cell_type": "markdown",
   "metadata": {
    "colab_type": "text",
    "id": "HlNo0-mkkIOt"
   },
   "source": [
    "The `tsinfer` method is split into two main parts: (1) the reconstruction and time ordering of ancestral haplotypes and (2) the inference of the copying process. Via simulation, we can show that using \"perfect ancestors\" in the copying process results in perfect inference of the copying process. Thus, although part (2) is the most technically challenging part of the algorithm, we suspect that most inaccuracy in our algorithm can be traced to assumptions and simplifications made in part (1). For this reason we mainly focus on the details of ancestral haplotype reconstruction and ordering.\n",
    "\n",
    "The preprint contains the following schematic overview of the method:\n",
    "\n",
    "Figure 2b:<img src=\"images/tsinfer-schematic.png\">"
   ]
  },
  {
   "cell_type": "markdown",
   "metadata": {
    "colab": {},
    "colab_type": "code",
    "id": "gED9usAsgf-B"
   },
   "source": [
    "### Part 1: Ancestor reconstruction\n",
    "\n",
    "heuristic (plot of Fig S2) plus assumptions\n",
    "Age order assumptions"
   ]
  },
  {
   "cell_type": "code",
   "execution_count": 0,
   "metadata": {
    "colab": {
     "base_uri": "https://localhost:8080/",
     "height": 34
    },
    "colab_type": "code",
    "id": "T7bmujA5gnFr",
    "outputId": "ef7cdad3-19da-4d5a-c0a4-245844589215"
   },
   "outputs": [
    {
     "data": {
      "text/plain": [
       "<tsinfer.formats.SampleData at 0x7fb93cd4f550>"
      ]
     },
     "execution_count": 28,
     "metadata": {
      "tags": []
     },
     "output_type": "execute_result"
    }
   ],
   "source": [
    "sample_data"
   ]
  },
  {
   "cell_type": "code",
   "execution_count": 0,
   "metadata": {
    "colab": {
     "base_uri": "https://localhost:8080/",
     "height": 555
    },
    "colab_type": "code",
    "id": "0c1rB1liaejM",
    "outputId": "efb760fc-abb5-4c01-b4f5-644fd961ee59"
   },
   "outputs": [
    {
     "ename": "ValueError",
     "evalue": "ignored",
     "output_type": "error",
     "traceback": [
      "\u001b[0;31m---------------------------------------------------------------------------\u001b[0m",
      "\u001b[0;31mValueError\u001b[0m                                Traceback (most recent call last)",
      "\u001b[0;32m<ipython-input-22-b474108993d2>\u001b[0m in \u001b[0;36m<module>\u001b[0;34m()\u001b[0m\n\u001b[1;32m      4\u001b[0m     \u001b[0;32mfor\u001b[0m \u001b[0mvar\u001b[0m \u001b[0;32min\u001b[0m \u001b[0msimulation\u001b[0m\u001b[0;34m.\u001b[0m\u001b[0mvariants\u001b[0m\u001b[0;34m(\u001b[0m\u001b[0;34m)\u001b[0m\u001b[0;34m:\u001b[0m\u001b[0;34m\u001b[0m\u001b[0;34m\u001b[0m\u001b[0m\n\u001b[1;32m      5\u001b[0m         \u001b[0msample_data\u001b[0m\u001b[0;34m.\u001b[0m\u001b[0madd_site\u001b[0m\u001b[0;34m(\u001b[0m\u001b[0mvar\u001b[0m\u001b[0;34m.\u001b[0m\u001b[0msite\u001b[0m\u001b[0;34m.\u001b[0m\u001b[0mposition\u001b[0m\u001b[0;34m,\u001b[0m \u001b[0mvar\u001b[0m\u001b[0;34m.\u001b[0m\u001b[0mgenotypes\u001b[0m\u001b[0;34m,\u001b[0m \u001b[0mvar\u001b[0m\u001b[0;34m.\u001b[0m\u001b[0malleles\u001b[0m\u001b[0;34m)\u001b[0m\u001b[0;34m\u001b[0m\u001b[0;34m\u001b[0m\u001b[0m\n\u001b[0;32m----> 6\u001b[0;31m \u001b[0msample_data\u001b[0m\u001b[0;34m.\u001b[0m\u001b[0mfinalise\u001b[0m\u001b[0;34m(\u001b[0m\u001b[0;34m)\u001b[0m\u001b[0;34m\u001b[0m\u001b[0;34m\u001b[0m\u001b[0m\n\u001b[0m",
      "\u001b[0;32m/usr/local/lib/python3.6/dist-packages/tsinfer/formats.py\u001b[0m in \u001b[0;36mfinalise\u001b[0;34m(self)\u001b[0m\n\u001b[1;32m   1144\u001b[0m                 \u001b[0mself\u001b[0m\u001b[0;34m.\u001b[0m\u001b[0mdata\u001b[0m\u001b[0;34m.\u001b[0m\u001b[0mattrs\u001b[0m\u001b[0;34m[\u001b[0m\u001b[0;34m\"sequence_length\"\u001b[0m\u001b[0;34m]\u001b[0m \u001b[0;34m=\u001b[0m \u001b[0mfloat\u001b[0m\u001b[0;34m(\u001b[0m\u001b[0mself\u001b[0m\u001b[0;34m.\u001b[0m\u001b[0m_last_position\u001b[0m\u001b[0;34m)\u001b[0m \u001b[0;34m+\u001b[0m \u001b[0;36m1\u001b[0m\u001b[0;34m\u001b[0m\u001b[0;34m\u001b[0m\u001b[0m\n\u001b[1;32m   1145\u001b[0m \u001b[0;34m\u001b[0m\u001b[0m\n\u001b[0;32m-> 1146\u001b[0;31m         \u001b[0msuper\u001b[0m\u001b[0;34m(\u001b[0m\u001b[0mSampleData\u001b[0m\u001b[0;34m,\u001b[0m \u001b[0mself\u001b[0m\u001b[0;34m)\u001b[0m\u001b[0;34m.\u001b[0m\u001b[0mfinalise\u001b[0m\u001b[0;34m(\u001b[0m\u001b[0;34m)\u001b[0m\u001b[0;34m\u001b[0m\u001b[0;34m\u001b[0m\u001b[0m\n\u001b[0m\u001b[1;32m   1147\u001b[0m \u001b[0;34m\u001b[0m\u001b[0m\n\u001b[1;32m   1148\u001b[0m     \u001b[0;31m####################################\u001b[0m\u001b[0;34m\u001b[0m\u001b[0;34m\u001b[0m\u001b[0;34m\u001b[0m\u001b[0m\n",
      "\u001b[0;32m/usr/local/lib/python3.6/dist-packages/tsinfer/formats.py\u001b[0m in \u001b[0;36mfinalise\u001b[0;34m(self)\u001b[0m\n\u001b[1;32m    378\u001b[0m         \u001b[0mto\u001b[0m \u001b[0mfill\u001b[0m \u001b[0mthe\u001b[0m \u001b[0mcorresponding\u001b[0m \u001b[0mentry\u001b[0m \u001b[0;32min\u001b[0m \u001b[0mthe\u001b[0m \u001b[0mprovenance\u001b[0m \u001b[0mdictionary\u001b[0m\u001b[0;34m.\u001b[0m\u001b[0;34m\u001b[0m\u001b[0;34m\u001b[0m\u001b[0m\n\u001b[1;32m    379\u001b[0m         \"\"\"\n\u001b[0;32m--> 380\u001b[0;31m         \u001b[0mself\u001b[0m\u001b[0;34m.\u001b[0m\u001b[0m_check_write_modes\u001b[0m\u001b[0;34m(\u001b[0m\u001b[0;34m)\u001b[0m\u001b[0;34m\u001b[0m\u001b[0;34m\u001b[0m\u001b[0m\n\u001b[0m\u001b[1;32m    381\u001b[0m         \u001b[0mself\u001b[0m\u001b[0;34m.\u001b[0m\u001b[0mdata\u001b[0m\u001b[0;34m.\u001b[0m\u001b[0mattrs\u001b[0m\u001b[0;34m[\u001b[0m\u001b[0mFINALISED_KEY\u001b[0m\u001b[0;34m]\u001b[0m \u001b[0;34m=\u001b[0m \u001b[0;32mTrue\u001b[0m\u001b[0;34m\u001b[0m\u001b[0;34m\u001b[0m\u001b[0m\n\u001b[1;32m    382\u001b[0m         \u001b[0;32mif\u001b[0m \u001b[0mself\u001b[0m\u001b[0;34m.\u001b[0m\u001b[0mpath\u001b[0m \u001b[0;32mis\u001b[0m \u001b[0;32mnot\u001b[0m \u001b[0;32mNone\u001b[0m\u001b[0;34m:\u001b[0m\u001b[0;34m\u001b[0m\u001b[0;34m\u001b[0m\u001b[0m\n",
      "\u001b[0;32m/usr/local/lib/python3.6/dist-packages/tsinfer/formats.py\u001b[0m in \u001b[0;36m_check_write_modes\u001b[0;34m(self)\u001b[0m\n\u001b[1;32m    427\u001b[0m     \u001b[0;32mdef\u001b[0m \u001b[0m_check_write_modes\u001b[0m\u001b[0;34m(\u001b[0m\u001b[0mself\u001b[0m\u001b[0;34m)\u001b[0m\u001b[0;34m:\u001b[0m\u001b[0;34m\u001b[0m\u001b[0;34m\u001b[0m\u001b[0m\n\u001b[1;32m    428\u001b[0m         \u001b[0;32mif\u001b[0m \u001b[0mself\u001b[0m\u001b[0;34m.\u001b[0m\u001b[0m_mode\u001b[0m \u001b[0;32mnot\u001b[0m \u001b[0;32min\u001b[0m \u001b[0;34m(\u001b[0m\u001b[0mself\u001b[0m\u001b[0;34m.\u001b[0m\u001b[0mEDIT_MODE\u001b[0m\u001b[0;34m,\u001b[0m \u001b[0mself\u001b[0m\u001b[0;34m.\u001b[0m\u001b[0mBUILD_MODE\u001b[0m\u001b[0;34m)\u001b[0m\u001b[0;34m:\u001b[0m\u001b[0;34m\u001b[0m\u001b[0;34m\u001b[0m\u001b[0m\n\u001b[0;32m--> 429\u001b[0;31m             \u001b[0;32mraise\u001b[0m \u001b[0mValueError\u001b[0m\u001b[0;34m(\u001b[0m\u001b[0;34m\"Invalid opertion: must be in edit or build mode\"\u001b[0m\u001b[0;34m)\u001b[0m\u001b[0;34m\u001b[0m\u001b[0;34m\u001b[0m\u001b[0m\n\u001b[0m\u001b[1;32m    430\u001b[0m \u001b[0;34m\u001b[0m\u001b[0m\n\u001b[1;32m    431\u001b[0m     \u001b[0;34m@\u001b[0m\u001b[0mproperty\u001b[0m\u001b[0;34m\u001b[0m\u001b[0;34m\u001b[0m\u001b[0m\n",
      "\u001b[0;31mValueError\u001b[0m: Invalid opertion: must be in edit or build mode"
     ]
    }
   ],
   "source": [
    "with tsinfer.SampleData(\n",
    "        path=\"simulation.samples\", sequence_length=simulation.sequence_length,\n",
    "        num_flush_threads=2) as sample_data:\n",
    "    for var in simulation.variants():\n",
    "        sample_data.add_site(var.site.position, var.genotypes, var.alleles)\n",
    "sample_data.finalise()"
   ]
  },
  {
   "cell_type": "code",
   "execution_count": 0,
   "metadata": {
    "colab": {
     "base_uri": "https://localhost:8080/",
     "height": 34
    },
    "colab_type": "code",
    "id": "JEcb0VgkgafI",
    "outputId": "f99818c6-6d73-4a4e-e32e-79c6550ee342"
   },
   "outputs": [
    {
     "data": {
      "text/plain": [
       "<tsinfer.formats.SampleData at 0x7fb93cec9cc0>"
      ]
     },
     "execution_count": 23,
     "metadata": {
      "tags": []
     },
     "output_type": "execute_result"
    }
   ],
   "source": [
    "sample_data"
   ]
  },
  {
   "cell_type": "code",
   "execution_count": 0,
   "metadata": {
    "colab": {
     "base_uri": "https://localhost:8080/",
     "height": 34
    },
    "colab_type": "code",
    "id": "bdeL6o3vaejR",
    "outputId": "647b4a00-599e-4c4d-fa01-7f230e80e7c9"
   },
   "outputs": [
    {
     "data": {
      "text/plain": [
       "<msprime.trees.TreeSequence at 0x7fb93cecdd68>"
      ]
     },
     "execution_count": 24,
     "metadata": {
      "tags": []
     },
     "output_type": "execute_result"
    }
   ],
   "source": [
    "tsinfer.infer(sample_data)"
   ]
  },
  {
   "cell_type": "code",
   "execution_count": 0,
   "metadata": {
    "colab": {},
    "colab_type": "code",
    "id": "Vuj_lY69aejT"
   },
   "outputs": [],
   "source": []
  },
  {
   "cell_type": "code",
   "execution_count": 0,
   "metadata": {
    "colab": {},
    "colab_type": "code",
    "id": "ag_YHGAeClLY"
   },
   "outputs": [],
   "source": []
  },
  {
   "cell_type": "markdown",
   "metadata": {
    "colab_type": "text",
    "id": "aIiIJ658ClR2"
   },
   "source": [
    "## Vivax Example\n",
    "\n",
    "We now use tsinfer on real data from the [ *P. vivax* Genome Variation Project](https://www.malariagen.net/projects/p-vivax-genome-variation) containing 228 samples from 13 countries. Joe Zhu ran [Deploid](https://github.com/DEploid-dev/DEploid) on this dataset to identify 124 clonal samples. He then phased and imputed haplotypes for each strain.\n",
    "<br> \n",
    "Since $\\texttt{tsinfer}$ requires ancestral and derived alleles, Wilder used [$\\texttt{Mauve}$](http://darlinglab.org/mauve/mauve.html) to create a multi-species alignment of the *vivax* genome to outgroups *cynomolgi* ([a sister taxon of *vivax*](https://www.ncbi.nlm.nih.gov/pmc/articles/PMC3759362/))and *knowlesi* (an outgroup of *vivax* and *cynomolgi* ).  A rules-based maximum parsimony approach was used to determine ancestral alleles using this multi-species alignment. Ancestral alleles were only called where the reference call at all three species agreed.\n",
    "<br>\n"
   ]
  },
  {
   "cell_type": "code",
   "execution_count": 0,
   "metadata": {
    "colab": {},
    "colab_type": "code",
    "id": "Z5ULkUhkCmhe"
   },
   "outputs": [],
   "source": []
  },
  {
   "cell_type": "markdown",
   "metadata": {
    "colab_type": "text",
    "id": "jn-7eQK-aejV"
   },
   "source": [
    "<a id='ref'></a>\n",
    "# 5. References and Documentation"
   ]
  },
  {
   "cell_type": "markdown",
   "metadata": {
    "colab_type": "text",
    "id": "RC8ZlIADaejW"
   },
   "source": [
    "$\\texttt{msprime}$: <br>\n",
    "Reference: Kelleher, J., Etheridge, A.M. and McVean, G., 2016. Efficient coalescent simulation and genealogical analysis for large sample sizes. PLoS computational biology, 12(5), p.e1004842.\n",
    "<br>\n",
    "Documentation: https://msprime.readthedocs.io/en/stable/index.html\n",
    "\n",
    "$\\texttt{SLiM}$: <br>\n",
    "Reference: Haller, B.C., Galloway, J., Kelleher, J., Messer, P.W. and Ralph, P.L., 2018. Tree‐sequence recording in SL iM opens new horizons for forward‐time simulation of whole genomes. Molecular Ecology Resources.\n",
    "<br>\n",
    "Documentation: http://benhaller.com/slim/SLiM_Manual.pdf\n",
    "\n",
    "$\\texttt{tsinfer}$: <br>\n",
    "Reference:  Kelleher, J., Wong, Y., Albers, P., Wohns, A.W. and McVean, G., 2018. Inferring the ancestry of everyone. bioRxiv, p.458067.\n",
    "<br>\n",
    "Documentation: https://tsinfer.readthedocs.io/en/latest/api.html?highlight=sample_data\n",
    "\n",
    "Out of Africa Model used in section 3: <br>\n",
    "Gutenkunst, R.N., Hernandez, R.D., Williamson, S.H. and Bustamante, C.D., 2009. Inferring the joint demographic history of multiple populations from multidimensional SNP frequency data. PLoS genetics, 5(10), p.e1000695."
   ]
  },
  {
   "cell_type": "code",
   "execution_count": 0,
   "metadata": {
    "colab": {},
    "colab_type": "code",
    "id": "ce0NEqUPaejX"
   },
   "outputs": [],
   "source": []
  }
 ],
 "metadata": {
  "colab": {
   "collapsed_sections": [],
   "name": "wilders_additions_ts_workshop.ipynb",
   "provenance": [],
   "toc_visible": true,
   "version": "0.3.2"
  },
  "kernelspec": {
   "display_name": "Python 3",
   "language": "python",
   "name": "python3"
  },
  "language_info": {
   "codemirror_mode": {
    "name": "ipython",
    "version": 3
   },
   "file_extension": ".py",
   "mimetype": "text/x-python",
   "name": "python",
   "nbconvert_exporter": "python",
   "pygments_lexer": "ipython3",
   "version": "3.6.6"
  }
 },
 "nbformat": 4,
 "nbformat_minor": 1
}
