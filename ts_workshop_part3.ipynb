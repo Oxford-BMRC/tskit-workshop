{
 "cells": [
  {
   "cell_type": "markdown",
   "metadata": {
    "colab_type": "text",
    "id": "vO9IP0P3aeir"
   },
   "source": [
    "# tree sequence workshop- Part 3: Inference"
   ]
  },
  {
   "cell_type": "markdown",
   "metadata": {
    "colab_type": "text",
    "id": "_JrVmHtqaeit"
   },
   "source": [
    "### Friday 14 December"
   ]
  },
  {
   "cell_type": "markdown",
   "metadata": {
    "colab_type": "text",
    "id": "5FHoBkSsaeit"
   },
   "source": [
    "Welcome to the tree sequence workshop. Today we will give you an overview of the tree sequence data structure, the $\\texttt{msprime}$ coalescent simulator, and our efficient inference framework: $\\texttt{tsinfer}$. "
   ]
  },
  {
   "cell_type": "markdown",
   "metadata": {
    "colab_type": "text",
    "id": "ixMoi6pcaeiu"
   },
   "source": [
    "# Outline"
   ]
  },
  {
   "cell_type": "markdown",
   "metadata": {
    "colab_type": "text",
    "id": "xMWuwAnDaeiv"
   },
   "source": [
    "1. [The tree sequence format](ts_workshop_part1.ipynb#ts)\n",
    "2. [Simulations with msprime and slim](ts_workshop_part2.ipynb#msprime)\n",
    "3. [Calculating statistics with tree sequences](ts_workshop_part2.ipynb#stats)\n",
    "4. [Inferring tree sequences (tsinfer)](#tsinfer)\n",
    "5. [Metadata in tree sequences](#metadata)\n",
    "6. [References and Documentation](#ref)"
   ]
  },
  {
   "cell_type": "code",
   "execution_count": 2,
   "metadata": {
    "colab": {},
    "colab_type": "code",
    "id": "IIt2MpE3aeix",
    "scrolled": true
   },
   "outputs": [
    {
     "name": "stderr",
     "output_type": "stream",
     "text": [
      "/Users/anthonywohns/anaconda_ete/lib/python3.6/importlib/_bootstrap.py:219: RuntimeWarning: numpy.dtype size changed, may indicate binary incompatibility. Expected 96, got 88\n",
      "  return f(*args, **kwds)\n",
      "/Users/anthonywohns/anaconda_ete/lib/python3.6/importlib/_bootstrap.py:219: RuntimeWarning: numpy.dtype size changed, may indicate binary incompatibility. Expected 96, got 88\n",
      "  return f(*args, **kwds)\n",
      "/Users/anthonywohns/anaconda_ete/lib/python3.6/importlib/_bootstrap.py:219: RuntimeWarning: numpy.dtype size changed, may indicate binary incompatibility. Expected 96, got 88\n",
      "  return f(*args, **kwds)\n"
     ]
    }
   ],
   "source": [
    "import numpy as np\n",
    "import json\n",
    "from IPython.display import SVG, display\n",
    "import pandas as pd\n",
    "from ete3 import Tree, TreeStyle, TextFace\n",
    "\n",
    "import msprime as tskit\n",
    "import tsinfer"
   ]
  },
  {
   "cell_type": "code",
   "execution_count": 3,
   "metadata": {},
   "outputs": [
    {
     "data": {
      "text/html": [
       "<style>aside {color:grey;}</style>"
      ],
      "text/plain": [
       "<IPython.core.display.HTML object>"
      ]
     },
     "metadata": {},
     "output_type": "display_data"
    }
   ],
   "source": [
    "%%html\n",
    "<style>aside {color:grey;}</style>"
   ]
  },
  {
   "cell_type": "markdown",
   "metadata": {},
   "source": [
    "<a id='tsinfer'></a>\n",
    "# 4. Genealogical inference\n",
    "\n",
    "Simulating a tree sequence is relatively simple compared to *inferring* a tree sequence from existing data. The [tsinfer software](https://tsinfer.readthedocs.io/en/latest/), currently in active development, implements a heuristic algorithm which does this in a scalable manner.\n",
    "\n",
    "`Tsinfer` (pronounced t-s-infer) is comparable in some ways to other ancestral inference software such as [ARGweaver](https://doi.org/10.1371/journal.pgen.1004342), [Relate](https://myersgroup.github.io/relate/), and [Rent+](https://doi.org/10.1093/bioinformatics/btw735). However, it differs considerably in approach and scalability. Note that none of these other software packages produce tree sequences as output, although is possible (but unsupported and tedious) to convert their output to tree sequences. Also note that `tsinfer` produces trees with a relatively accurate topology, but unlike other ancestral inference tools, makes no attempt at the moment to produce precise branch length estimates."
   ]
  },
  {
   "cell_type": "markdown",
   "metadata": {
    "colab_type": "text",
    "id": "atAY0ILLaejM"
   },
   "source": [
    "## Algorithm details\n",
    "\n",
    "The best current description of `tsinfer` in the [preprint on Biorxiv](https://www.biorxiv.org/content/early/2018/11/01/458067).\n",
    "\n",
    "The key `tsinfer`'s scalability is that, rather than compare sample genomes with each other in a pairwise manner, we use them to reconstruct the genomic sequence of their **ancestors**. These ancestors can consist of partial chunks of sequence, since we know that the older the ancestor, the shorter the inherited chunks (or \"ancestral haplotypes\") are likely to be.\n",
    "\n",
    "If we have reasonably estimated ancestral haplotypes (and a rough age order) we can take advantage of a modified version of the Li & Stephens matching algorithm to calculate which ancestors immediately descend (or \"copy\") from which others. Once we have done this, we can apply the same method to deduce from which ancestors the current samples descend. This obviates the need to make pairwise comparisons between samples, which is computationally extortionate.\n",
    "\n",
    "The \"copying order\" created during the matching process directly corresponds to the edges in a tree sequence (in fact, the tree sequence format is created during the matching process, and tree sequence technology is integral to the fast performance of the matching algorithm).\n"
   ]
  },
  {
   "cell_type": "markdown",
   "metadata": {
    "colab_type": "text",
    "id": "HlNo0-mkkIOt"
   },
   "source": [
    "The `tsinfer` method is split into two main parts: (1) the reconstruction and time ordering of ancestral haplotypes and (2) the inference of the copying process. Via simulation, we can show that using \"perfect ancestors\" in the copying process results in perfect inference of the copying process. Thus, although part (2) is the most technically challenging part of the algorithm, we suspect that most inaccuracy in our algorithm can be traced to assumptions and simplifications made in part (1). For this reason we mainly focus on the details of ancestral haplotype reconstruction and ordering.\n",
    "\n",
    "The preprint contains the following schematic overview of the method:\n",
    "\n",
    "Figure 2b:<img src=\"images/tsinfer-schematic.png\">"
   ]
  },
  {
   "cell_type": "markdown",
   "metadata": {
    "colab": {},
    "colab_type": "code",
    "id": "gED9usAsgf-B"
   },
   "source": [
    "### Part 1: Ancestor reconstruction\n",
    "\n",
    "heuristic (plot of Fig S2) plus assumptions\n",
    "Age order assumptions"
   ]
  },
  {
   "cell_type": "markdown",
   "metadata": {
    "colab": {
     "base_uri": "https://localhost:8080/",
     "height": 34
    },
    "colab_type": "code",
    "id": "T7bmujA5gnFr",
    "outputId": "ef7cdad3-19da-4d5a-c0a4-245844589215"
   },
   "source": [
    "### Part 2: Copying path inference\n",
    "Some detail about Li & Stephens here\n",
    "\n",
    "Some detail about path compression.\n",
    "\n",
    "Note that it may not matter (apart from for performance) if we reconstruct ancestors in part (1) that are too long"
   ]
  },
  {
   "cell_type": "markdown",
   "metadata": {},
   "source": [
    "### Inference accuracy\n",
    "There are no established ways to compare one tree sequence (or ARG)"
   ]
  },
  {
   "cell_type": "markdown",
   "metadata": {},
   "source": [
    "## Hands-on with tsinfer\n",
    "Let's try out tsinfer using the simulation of the out-of-Africa three population model of recent human evolution. We start by loading the tree sequence we previously generated:"
   ]
  },
  {
   "cell_type": "code",
   "execution_count": 5,
   "metadata": {},
   "outputs": [],
   "source": [
    "ooa_simulated = tskit.load(\"data/OOA.trees\")"
   ]
  },
  {
   "cell_type": "markdown",
   "metadata": {},
   "source": [
    "We remind ourselves what the resulting six marginal trees looked like (this time with mutations added)"
   ]
  },
  {
   "cell_type": "code",
   "execution_count": 10,
   "metadata": {},
   "outputs": [
    {
     "name": "stdout",
     "output_type": "stream",
     "text": [
      "------------------------------------------------------------\n",
      "Marginal Tree span: (0.0, 492.9612682883072)\n"
     ]
    },
    {
     "data": {
      "image/svg+xml": [
       "<svg baseProfile=\"full\" height=\"200\" version=\"1.1\" width=\"500\" xmlns=\"http://www.w3.org/2000/svg\" xmlns:ev=\"http://www.w3.org/2001/xml-events\" xmlns:xlink=\"http://www.w3.org/1999/xlink\"><defs/><g id=\"lines\" stroke=\"black\"><line x1=\"62.5\" x2=\"62.5\" y1=\"180.0\" y2=\"20.0\"/><line x1=\"62.5\" x2=\"160.15625\" y1=\"20.0\" y2=\"20.0\"/><line x1=\"257.8125\" x2=\"257.8125\" y1=\"119.95524853947069\" y2=\"20.0\"/><line x1=\"257.8125\" x2=\"160.15625\" y1=\"20.0\" y2=\"20.0\"/><line x1=\"171.875\" x2=\"171.875\" y1=\"170.64708679546445\" y2=\"119.95524853947069\"/><line x1=\"171.875\" x2=\"257.8125\" y1=\"119.95524853947069\" y2=\"119.95524853947069\"/><line x1=\"125.0\" x2=\"125.0\" y1=\"180.0\" y2=\"170.64708679546445\"/><line x1=\"125.0\" x2=\"171.875\" y1=\"170.64708679546445\" y2=\"170.64708679546445\"/><line x1=\"218.75\" x2=\"218.75\" y1=\"177.3853262164539\" y2=\"170.64708679546445\"/><line x1=\"218.75\" x2=\"171.875\" y1=\"170.64708679546445\" y2=\"170.64708679546445\"/><line x1=\"187.5\" x2=\"187.5\" y1=\"180.0\" y2=\"177.3853262164539\"/><line x1=\"187.5\" x2=\"218.75\" y1=\"177.3853262164539\" y2=\"177.3853262164539\"/><line x1=\"250.0\" x2=\"250.0\" y1=\"180.0\" y2=\"177.3853262164539\"/><line x1=\"250.0\" x2=\"218.75\" y1=\"177.3853262164539\" y2=\"177.3853262164539\"/><line x1=\"343.75\" x2=\"343.75\" y1=\"168.03287824570552\" y2=\"119.95524853947069\"/><line x1=\"343.75\" x2=\"257.8125\" y1=\"119.95524853947069\" y2=\"119.95524853947069\"/><line x1=\"312.5\" x2=\"312.5\" y1=\"180.0\" y2=\"168.03287824570552\"/><line x1=\"312.5\" x2=\"343.75\" y1=\"168.03287824570552\" y2=\"168.03287824570552\"/><line x1=\"375.0\" x2=\"375.0\" y1=\"180.0\" y2=\"168.03287824570552\"/><line x1=\"375.0\" x2=\"343.75\" y1=\"168.03287824570552\" y2=\"168.03287824570552\"/></g><g font-size=\"14\" text-anchor=\"start\"/><g font-size=\"14\" text-anchor=\"end\"/><g font-size=\"14\" text-anchor=\"middle\"><text x=\"62.5\" y=\"200.0\">ASN1</text><text x=\"125.0\" y=\"200.0\">ASN2</text><text x=\"187.5\" y=\"200.0\">EUR1</text><text x=\"250.0\" y=\"200.0\">EUR2</text><text x=\"312.5\" y=\"200.0\">AFR1</text><text x=\"375.0\" y=\"200.0\">AFR2</text></g><circle cx=\"160.15625\" cy=\"20.0\" fill=\"black\" r=\"3\"/><circle cx=\"62.5\" cy=\"180.0\" fill=\"black\" r=\"3\"/><circle cx=\"257.8125\" cy=\"119.95524853947069\" fill=\"black\" r=\"3\"/><circle cx=\"171.875\" cy=\"170.64708679546445\" fill=\"black\" r=\"3\"/><circle cx=\"125.0\" cy=\"180.0\" fill=\"black\" r=\"3\"/><circle cx=\"218.75\" cy=\"177.3853262164539\" fill=\"black\" r=\"3\"/><circle cx=\"187.5\" cy=\"180.0\" fill=\"black\" r=\"3\"/><circle cx=\"250.0\" cy=\"180.0\" fill=\"black\" r=\"3\"/><circle cx=\"343.75\" cy=\"168.03287824570552\" fill=\"black\" r=\"3\"/><circle cx=\"312.5\" cy=\"180.0\" fill=\"black\" r=\"3\"/><circle cx=\"375.0\" cy=\"180.0\" fill=\"black\" r=\"3\"/><g alignment-baseline=\"middle\" font-size=\"14\" font-style=\"italic\" text-anchor=\"start\"/><g alignment-baseline=\"middle\" font-size=\"14\" font-style=\"italic\" text-anchor=\"end\"/><rect fill=\"red\" height=\"6\" width=\"6\" x=\"59.5\" y=\"167.58823529411765\"/><rect fill=\"red\" height=\"6\" width=\"6\" x=\"59.5\" y=\"158.1764705882353\"/><rect fill=\"red\" height=\"6\" width=\"6\" x=\"59.5\" y=\"148.76470588235293\"/><rect fill=\"red\" height=\"6\" width=\"6\" x=\"59.5\" y=\"139.35294117647058\"/><rect fill=\"red\" height=\"6\" width=\"6\" x=\"59.5\" y=\"129.94117647058823\"/><rect fill=\"red\" height=\"6\" width=\"6\" x=\"59.5\" y=\"120.52941176470588\"/><rect fill=\"red\" height=\"6\" width=\"6\" x=\"59.5\" y=\"111.11764705882352\"/><rect fill=\"red\" height=\"6\" width=\"6\" x=\"59.5\" y=\"101.70588235294117\"/><rect fill=\"red\" height=\"6\" width=\"6\" x=\"59.5\" y=\"92.29411764705883\"/><rect fill=\"red\" height=\"6\" width=\"6\" x=\"59.5\" y=\"82.88235294117646\"/><rect fill=\"red\" height=\"6\" width=\"6\" x=\"59.5\" y=\"73.47058823529412\"/><rect fill=\"red\" height=\"6\" width=\"6\" x=\"59.5\" y=\"64.05882352941177\"/><rect fill=\"red\" height=\"6\" width=\"6\" x=\"59.5\" y=\"54.647058823529406\"/><rect fill=\"red\" height=\"6\" width=\"6\" x=\"59.5\" y=\"45.235294117647044\"/><rect fill=\"red\" height=\"6\" width=\"6\" x=\"59.5\" y=\"35.823529411764696\"/><rect fill=\"red\" height=\"6\" width=\"6\" x=\"59.5\" y=\"26.411764705882348\"/><rect fill=\"red\" height=\"6\" width=\"6\" x=\"254.8125\" y=\"102.6759273195463\"/><rect fill=\"red\" height=\"6\" width=\"6\" x=\"254.8125\" y=\"88.39660609962192\"/><rect fill=\"red\" height=\"6\" width=\"6\" x=\"254.8125\" y=\"74.11728487969754\"/><rect fill=\"red\" height=\"6\" width=\"6\" x=\"254.8125\" y=\"59.83796365977315\"/><rect fill=\"red\" height=\"6\" width=\"6\" x=\"254.8125\" y=\"45.55864243984877\"/><rect fill=\"red\" height=\"6\" width=\"6\" x=\"254.8125\" y=\"31.279321219924384\"/><rect fill=\"red\" height=\"6\" width=\"6\" x=\"372.0\" y=\"171.01643912285277\"/><rect fill=\"red\" height=\"6\" width=\"6\" x=\"122.0\" y=\"172.32354339773224\"/><rect fill=\"red\" height=\"6\" width=\"6\" x=\"340.75\" y=\"159.02317453242617\"/><rect fill=\"red\" height=\"6\" width=\"6\" x=\"340.75\" y=\"153.01347081914682\"/><rect fill=\"red\" height=\"6\" width=\"6\" x=\"340.75\" y=\"147.00376710586747\"/><rect fill=\"red\" height=\"6\" width=\"6\" x=\"340.75\" y=\"140.9940633925881\"/><rect fill=\"red\" height=\"6\" width=\"6\" x=\"340.75\" y=\"134.98435967930874\"/><rect fill=\"red\" height=\"6\" width=\"6\" x=\"340.75\" y=\"128.9746559660294\"/><rect fill=\"red\" height=\"6\" width=\"6\" x=\"340.75\" y=\"122.96495225275004\"/><rect fill=\"red\" height=\"6\" width=\"6\" x=\"168.875\" y=\"159.19844708613215\"/><rect fill=\"red\" height=\"6\" width=\"6\" x=\"168.875\" y=\"150.74980737679985\"/><rect fill=\"red\" height=\"6\" width=\"6\" x=\"168.875\" y=\"142.30116766746755\"/><rect fill=\"red\" height=\"6\" width=\"6\" x=\"168.875\" y=\"133.85252795813528\"/><rect fill=\"red\" height=\"6\" width=\"6\" x=\"168.875\" y=\"125.40388824880299\"/><rect fill=\"red\" height=\"6\" width=\"6\" x=\"309.5\" y=\"171.01643912285277\"/></svg>"
      ],
      "text/plain": [
       "<IPython.core.display.SVG object>"
      ]
     },
     "metadata": {},
     "output_type": "display_data"
    },
    {
     "name": "stdout",
     "output_type": "stream",
     "text": [
      "------------------------------------------------------------\n",
      "Marginal Tree span: (492.9612682883072, 1664.7747942862973)\n"
     ]
    },
    {
     "data": {
      "image/svg+xml": [
       "<svg baseProfile=\"full\" height=\"200\" version=\"1.1\" width=\"500\" xmlns=\"http://www.w3.org/2000/svg\" xmlns:ev=\"http://www.w3.org/2001/xml-events\" xmlns:xlink=\"http://www.w3.org/1999/xlink\"><defs/><g id=\"lines\" stroke=\"black\"><line x1=\"62.5\" x2=\"62.5\" y1=\"180.0\" y2=\"20.0\"/><line x1=\"62.5\" x2=\"160.15625\" y1=\"20.0\" y2=\"20.0\"/><line x1=\"257.8125\" x2=\"257.8125\" y1=\"118.1989096608003\" y2=\"20.0\"/><line x1=\"257.8125\" x2=\"160.15625\" y1=\"20.0\" y2=\"20.0\"/><line x1=\"171.875\" x2=\"171.875\" y1=\"170.37350942707857\" y2=\"118.1989096608003\"/><line x1=\"171.875\" x2=\"257.8125\" y1=\"118.1989096608003\" y2=\"118.1989096608003\"/><line x1=\"125.0\" x2=\"125.0\" y1=\"180.0\" y2=\"170.37350942707857\"/><line x1=\"125.0\" x2=\"171.875\" y1=\"170.37350942707857\" y2=\"170.37350942707857\"/><line x1=\"218.75\" x2=\"218.75\" y1=\"177.3088457063447\" y2=\"170.37350942707857\"/><line x1=\"218.75\" x2=\"171.875\" y1=\"170.37350942707857\" y2=\"170.37350942707857\"/><line x1=\"187.5\" x2=\"187.5\" y1=\"180.0\" y2=\"177.3088457063447\"/><line x1=\"187.5\" x2=\"218.75\" y1=\"177.3088457063447\" y2=\"177.3088457063447\"/><line x1=\"250.0\" x2=\"250.0\" y1=\"180.0\" y2=\"177.3088457063447\"/><line x1=\"250.0\" x2=\"218.75\" y1=\"177.3088457063447\" y2=\"177.3088457063447\"/><line x1=\"343.75\" x2=\"343.75\" y1=\"167.68283397553037\" y2=\"118.1989096608003\"/><line x1=\"343.75\" x2=\"257.8125\" y1=\"118.1989096608003\" y2=\"118.1989096608003\"/><line x1=\"312.5\" x2=\"312.5\" y1=\"180.0\" y2=\"167.68283397553037\"/><line x1=\"312.5\" x2=\"343.75\" y1=\"167.68283397553037\" y2=\"167.68283397553037\"/><line x1=\"375.0\" x2=\"375.0\" y1=\"180.0\" y2=\"167.68283397553037\"/><line x1=\"375.0\" x2=\"343.75\" y1=\"167.68283397553037\" y2=\"167.68283397553037\"/></g><g font-size=\"14\" text-anchor=\"start\"/><g font-size=\"14\" text-anchor=\"end\"/><g font-size=\"14\" text-anchor=\"middle\"><text x=\"62.5\" y=\"200.0\">ASN1</text><text x=\"125.0\" y=\"200.0\">ASN2</text><text x=\"187.5\" y=\"200.0\">EUR1</text><text x=\"250.0\" y=\"200.0\">EUR2</text><text x=\"312.5\" y=\"200.0\">AFR1</text><text x=\"375.0\" y=\"200.0\">AFR2</text></g><circle cx=\"160.15625\" cy=\"20.0\" fill=\"black\" r=\"3\"/><circle cx=\"62.5\" cy=\"180.0\" fill=\"black\" r=\"3\"/><circle cx=\"257.8125\" cy=\"118.1989096608003\" fill=\"black\" r=\"3\"/><circle cx=\"171.875\" cy=\"170.37350942707857\" fill=\"black\" r=\"3\"/><circle cx=\"125.0\" cy=\"180.0\" fill=\"black\" r=\"3\"/><circle cx=\"218.75\" cy=\"177.3088457063447\" fill=\"black\" r=\"3\"/><circle cx=\"187.5\" cy=\"180.0\" fill=\"black\" r=\"3\"/><circle cx=\"250.0\" cy=\"180.0\" fill=\"black\" r=\"3\"/><circle cx=\"343.75\" cy=\"167.68283397553037\" fill=\"black\" r=\"3\"/><circle cx=\"312.5\" cy=\"180.0\" fill=\"black\" r=\"3\"/><circle cx=\"375.0\" cy=\"180.0\" fill=\"black\" r=\"3\"/><g alignment-baseline=\"middle\" font-size=\"14\" font-style=\"italic\" text-anchor=\"start\"/><g alignment-baseline=\"middle\" font-size=\"14\" font-style=\"italic\" text-anchor=\"end\"/><rect fill=\"red\" height=\"6\" width=\"6\" x=\"59.5\" y=\"170.04347826086956\"/><rect fill=\"red\" height=\"6\" width=\"6\" x=\"59.5\" y=\"163.08695652173913\"/><rect fill=\"red\" height=\"6\" width=\"6\" x=\"59.5\" y=\"156.1304347826087\"/><rect fill=\"red\" height=\"6\" width=\"6\" x=\"59.5\" y=\"149.17391304347825\"/><rect fill=\"red\" height=\"6\" width=\"6\" x=\"59.5\" y=\"142.2173913043478\"/><rect fill=\"red\" height=\"6\" width=\"6\" x=\"59.5\" y=\"135.26086956521738\"/><rect fill=\"red\" height=\"6\" width=\"6\" x=\"59.5\" y=\"128.30434782608697\"/><rect fill=\"red\" height=\"6\" width=\"6\" x=\"59.5\" y=\"121.34782608695653\"/><rect fill=\"red\" height=\"6\" width=\"6\" x=\"59.5\" y=\"114.3913043478261\"/><rect fill=\"red\" height=\"6\" width=\"6\" x=\"59.5\" y=\"107.43478260869566\"/><rect fill=\"red\" height=\"6\" width=\"6\" x=\"59.5\" y=\"100.47826086956522\"/><rect fill=\"red\" height=\"6\" width=\"6\" x=\"59.5\" y=\"93.52173913043478\"/><rect fill=\"red\" height=\"6\" width=\"6\" x=\"59.5\" y=\"86.56521739130434\"/><rect fill=\"red\" height=\"6\" width=\"6\" x=\"59.5\" y=\"79.60869565217392\"/><rect fill=\"red\" height=\"6\" width=\"6\" x=\"59.5\" y=\"72.65217391304348\"/><rect fill=\"red\" height=\"6\" width=\"6\" x=\"59.5\" y=\"65.69565217391305\"/><rect fill=\"red\" height=\"6\" width=\"6\" x=\"59.5\" y=\"58.73913043478261\"/><rect fill=\"red\" height=\"6\" width=\"6\" x=\"59.5\" y=\"51.78260869565217\"/><rect fill=\"red\" height=\"6\" width=\"6\" x=\"59.5\" y=\"44.82608695652175\"/><rect fill=\"red\" height=\"6\" width=\"6\" x=\"59.5\" y=\"37.86956521739131\"/><rect fill=\"red\" height=\"6\" width=\"6\" x=\"59.5\" y=\"30.913043478260875\"/><rect fill=\"red\" height=\"6\" width=\"6\" x=\"59.5\" y=\"23.956521739130437\"/><rect fill=\"red\" height=\"6\" width=\"6\" x=\"122.0\" y=\"174.59337735676965\"/><rect fill=\"red\" height=\"6\" width=\"6\" x=\"122.0\" y=\"172.1867547135393\"/><rect fill=\"red\" height=\"6\" width=\"6\" x=\"122.0\" y=\"169.78013207030892\"/><rect fill=\"red\" height=\"6\" width=\"6\" x=\"168.875\" y=\"164.47492055117422\"/><rect fill=\"red\" height=\"6\" width=\"6\" x=\"168.875\" y=\"161.57633167526987\"/><rect fill=\"red\" height=\"6\" width=\"6\" x=\"168.875\" y=\"158.67774279936552\"/><rect fill=\"red\" height=\"6\" width=\"6\" x=\"168.875\" y=\"155.77915392346117\"/><rect fill=\"red\" height=\"6\" width=\"6\" x=\"168.875\" y=\"152.88056504755684\"/><rect fill=\"red\" height=\"6\" width=\"6\" x=\"168.875\" y=\"149.9819761716525\"/><rect fill=\"red\" height=\"6\" width=\"6\" x=\"168.875\" y=\"147.08338729574814\"/><rect fill=\"red\" height=\"6\" width=\"6\" x=\"168.875\" y=\"144.1847984198438\"/><rect fill=\"red\" height=\"6\" width=\"6\" x=\"168.875\" y=\"141.28620954393944\"/><rect fill=\"red\" height=\"6\" width=\"6\" x=\"168.875\" y=\"138.38762066803508\"/><rect fill=\"red\" height=\"6\" width=\"6\" x=\"168.875\" y=\"135.48903179213073\"/><rect fill=\"red\" height=\"6\" width=\"6\" x=\"168.875\" y=\"132.59044291622638\"/><rect fill=\"red\" height=\"6\" width=\"6\" x=\"168.875\" y=\"129.69185404032203\"/><rect fill=\"red\" height=\"6\" width=\"6\" x=\"168.875\" y=\"126.79326516441768\"/><rect fill=\"red\" height=\"6\" width=\"6\" x=\"168.875\" y=\"123.89467628851335\"/><rect fill=\"red\" height=\"6\" width=\"6\" x=\"168.875\" y=\"120.996087412609\"/><rect fill=\"red\" height=\"6\" width=\"6\" x=\"168.875\" y=\"118.09749853670465\"/><rect fill=\"red\" height=\"6\" width=\"6\" x=\"254.8125\" y=\"110.52277110552409\"/><rect fill=\"red\" height=\"6\" width=\"6\" x=\"254.8125\" y=\"105.84663255024789\"/><rect fill=\"red\" height=\"6\" width=\"6\" x=\"254.8125\" y=\"101.17049399497168\"/><rect fill=\"red\" height=\"6\" width=\"6\" x=\"254.8125\" y=\"96.49435543969548\"/><rect fill=\"red\" height=\"6\" width=\"6\" x=\"254.8125\" y=\"91.81821688441927\"/><rect fill=\"red\" height=\"6\" width=\"6\" x=\"254.8125\" y=\"87.14207832914306\"/><rect fill=\"red\" height=\"6\" width=\"6\" x=\"254.8125\" y=\"82.46593977386686\"/><rect fill=\"red\" height=\"6\" width=\"6\" x=\"254.8125\" y=\"77.78980121859067\"/><rect fill=\"red\" height=\"6\" width=\"6\" x=\"254.8125\" y=\"73.11366266331446\"/><rect fill=\"red\" height=\"6\" width=\"6\" x=\"254.8125\" y=\"68.43752410803825\"/><rect fill=\"red\" height=\"6\" width=\"6\" x=\"254.8125\" y=\"63.76138555276205\"/><rect fill=\"red\" height=\"6\" width=\"6\" x=\"254.8125\" y=\"59.08524699748584\"/><rect fill=\"red\" height=\"6\" width=\"6\" x=\"254.8125\" y=\"54.409108442209636\"/><rect fill=\"red\" height=\"6\" width=\"6\" x=\"254.8125\" y=\"49.73296988693343\"/><rect fill=\"red\" height=\"6\" width=\"6\" x=\"254.8125\" y=\"45.056831331657236\"/><rect fill=\"red\" height=\"6\" width=\"6\" x=\"254.8125\" y=\"40.380692776381025\"/><rect fill=\"red\" height=\"6\" width=\"6\" x=\"254.8125\" y=\"35.704554221104814\"/><rect fill=\"red\" height=\"6\" width=\"6\" x=\"254.8125\" y=\"31.028415665828618\"/><rect fill=\"red\" height=\"6\" width=\"6\" x=\"254.8125\" y=\"26.352277110552407\"/><rect fill=\"red\" height=\"6\" width=\"6\" x=\"254.8125\" y=\"21.67613855527621\"/><rect fill=\"red\" height=\"6\" width=\"6\" x=\"340.75\" y=\"159.73444154405738\"/><rect fill=\"red\" height=\"6\" width=\"6\" x=\"340.75\" y=\"154.78604911258435\"/><rect fill=\"red\" height=\"6\" width=\"6\" x=\"340.75\" y=\"149.83765668111135\"/><rect fill=\"red\" height=\"6\" width=\"6\" x=\"340.75\" y=\"144.88926424963833\"/><rect fill=\"red\" height=\"6\" width=\"6\" x=\"340.75\" y=\"139.94087181816533\"/><rect fill=\"red\" height=\"6\" width=\"6\" x=\"340.75\" y=\"134.9924793866923\"/><rect fill=\"red\" height=\"6\" width=\"6\" x=\"340.75\" y=\"130.0440869552193\"/><rect fill=\"red\" height=\"6\" width=\"6\" x=\"340.75\" y=\"125.09569452374632\"/><rect fill=\"red\" height=\"6\" width=\"6\" x=\"340.75\" y=\"120.14730209227329\"/><rect fill=\"red\" height=\"6\" width=\"6\" x=\"184.5\" y=\"176.10294856878156\"/><rect fill=\"red\" height=\"6\" width=\"6\" x=\"184.5\" y=\"175.20589713756314\"/><rect fill=\"red\" height=\"6\" width=\"6\" x=\"372.0\" y=\"170.84141698776517\"/></svg>"
      ],
      "text/plain": [
       "<IPython.core.display.SVG object>"
      ]
     },
     "metadata": {},
     "output_type": "display_data"
    },
    {
     "name": "stdout",
     "output_type": "stream",
     "text": [
      "------------------------------------------------------------\n",
      "Marginal Tree span: (1664.7747942862973, 2844.0483398372417)\n"
     ]
    },
    {
     "data": {
      "image/svg+xml": [
       "<svg baseProfile=\"full\" height=\"200\" version=\"1.1\" width=\"500\" xmlns=\"http://www.w3.org/2000/svg\" xmlns:ev=\"http://www.w3.org/2001/xml-events\" xmlns:xlink=\"http://www.w3.org/1999/xlink\"><defs/><g id=\"lines\" stroke=\"black\"><line x1=\"62.5\" x2=\"62.5\" y1=\"180.0\" y2=\"20.0\"/><line x1=\"62.5\" x2=\"160.15625\" y1=\"20.0\" y2=\"20.0\"/><line x1=\"257.8125\" x2=\"257.8125\" y1=\"63.38091431427419\" y2=\"20.0\"/><line x1=\"257.8125\" x2=\"160.15625\" y1=\"20.0\" y2=\"20.0\"/><line x1=\"171.875\" x2=\"171.875\" y1=\"161.83474558758257\" y2=\"63.38091431427419\"/><line x1=\"171.875\" x2=\"257.8125\" y1=\"63.38091431427419\" y2=\"63.38091431427419\"/><line x1=\"125.0\" x2=\"125.0\" y1=\"180.0\" y2=\"161.83474558758257\"/><line x1=\"125.0\" x2=\"171.875\" y1=\"161.83474558758257\" y2=\"161.83474558758257\"/><line x1=\"218.75\" x2=\"218.75\" y1=\"174.92177320104284\" y2=\"161.83474558758257\"/><line x1=\"218.75\" x2=\"171.875\" y1=\"161.83474558758257\" y2=\"161.83474558758257\"/><line x1=\"187.5\" x2=\"187.5\" y1=\"180.0\" y2=\"174.92177320104284\"/><line x1=\"187.5\" x2=\"218.75\" y1=\"174.92177320104284\" y2=\"174.92177320104284\"/><line x1=\"250.0\" x2=\"250.0\" y1=\"180.0\" y2=\"174.92177320104284\"/><line x1=\"250.0\" x2=\"218.75\" y1=\"174.92177320104284\" y2=\"174.92177320104284\"/><line x1=\"343.75\" x2=\"343.75\" y1=\"156.75742236699935\" y2=\"63.38091431427419\"/><line x1=\"343.75\" x2=\"257.8125\" y1=\"63.38091431427419\" y2=\"63.38091431427419\"/><line x1=\"312.5\" x2=\"312.5\" y1=\"180.0\" y2=\"156.75742236699935\"/><line x1=\"312.5\" x2=\"343.75\" y1=\"156.75742236699935\" y2=\"156.75742236699935\"/><line x1=\"375.0\" x2=\"375.0\" y1=\"180.0\" y2=\"156.75742236699935\"/><line x1=\"375.0\" x2=\"343.75\" y1=\"156.75742236699935\" y2=\"156.75742236699935\"/></g><g font-size=\"14\" text-anchor=\"start\"/><g font-size=\"14\" text-anchor=\"end\"/><g font-size=\"14\" text-anchor=\"middle\"><text x=\"62.5\" y=\"200.0\">ASN1</text><text x=\"125.0\" y=\"200.0\">ASN2</text><text x=\"187.5\" y=\"200.0\">EUR1</text><text x=\"250.0\" y=\"200.0\">EUR2</text><text x=\"312.5\" y=\"200.0\">AFR1</text><text x=\"375.0\" y=\"200.0\">AFR2</text></g><circle cx=\"160.15625\" cy=\"20.0\" fill=\"black\" r=\"3\"/><circle cx=\"62.5\" cy=\"180.0\" fill=\"black\" r=\"3\"/><circle cx=\"257.8125\" cy=\"63.38091431427419\" fill=\"black\" r=\"3\"/><circle cx=\"171.875\" cy=\"161.83474558758257\" fill=\"black\" r=\"3\"/><circle cx=\"125.0\" cy=\"180.0\" fill=\"black\" r=\"3\"/><circle cx=\"218.75\" cy=\"174.92177320104284\" fill=\"black\" r=\"3\"/><circle cx=\"187.5\" cy=\"180.0\" fill=\"black\" r=\"3\"/><circle cx=\"250.0\" cy=\"180.0\" fill=\"black\" r=\"3\"/><circle cx=\"343.75\" cy=\"156.75742236699935\" fill=\"black\" r=\"3\"/><circle cx=\"312.5\" cy=\"180.0\" fill=\"black\" r=\"3\"/><circle cx=\"375.0\" cy=\"180.0\" fill=\"black\" r=\"3\"/><g alignment-baseline=\"middle\" font-size=\"14\" font-style=\"italic\" text-anchor=\"start\"/><g alignment-baseline=\"middle\" font-size=\"14\" font-style=\"italic\" text-anchor=\"end\"/><rect fill=\"red\" height=\"6\" width=\"6\" x=\"59.5\" y=\"168.11111111111111\"/><rect fill=\"red\" height=\"6\" width=\"6\" x=\"59.5\" y=\"159.22222222222223\"/><rect fill=\"red\" height=\"6\" width=\"6\" x=\"59.5\" y=\"150.33333333333334\"/><rect fill=\"red\" height=\"6\" width=\"6\" x=\"59.5\" y=\"141.44444444444446\"/><rect fill=\"red\" height=\"6\" width=\"6\" x=\"59.5\" y=\"132.55555555555554\"/><rect fill=\"red\" height=\"6\" width=\"6\" x=\"59.5\" y=\"123.66666666666666\"/><rect fill=\"red\" height=\"6\" width=\"6\" x=\"59.5\" y=\"114.77777777777777\"/><rect fill=\"red\" height=\"6\" width=\"6\" x=\"59.5\" y=\"105.88888888888889\"/><rect fill=\"red\" height=\"6\" width=\"6\" x=\"59.5\" y=\"97.0\"/><rect fill=\"red\" height=\"6\" width=\"6\" x=\"59.5\" y=\"88.11111111111111\"/><rect fill=\"red\" height=\"6\" width=\"6\" x=\"59.5\" y=\"79.22222222222221\"/><rect fill=\"red\" height=\"6\" width=\"6\" x=\"59.5\" y=\"70.33333333333333\"/><rect fill=\"red\" height=\"6\" width=\"6\" x=\"59.5\" y=\"61.44444444444444\"/><rect fill=\"red\" height=\"6\" width=\"6\" x=\"59.5\" y=\"52.55555555555554\"/><rect fill=\"red\" height=\"6\" width=\"6\" x=\"59.5\" y=\"43.66666666666666\"/><rect fill=\"red\" height=\"6\" width=\"6\" x=\"59.5\" y=\"34.77777777777777\"/><rect fill=\"red\" height=\"6\" width=\"6\" x=\"59.5\" y=\"25.888888888888886\"/><rect fill=\"red\" height=\"6\" width=\"6\" x=\"168.875\" y=\"147.89543100165943\"/><rect fill=\"red\" height=\"6\" width=\"6\" x=\"168.875\" y=\"136.95611641573626\"/><rect fill=\"red\" height=\"6\" width=\"6\" x=\"168.875\" y=\"126.01680182981312\"/><rect fill=\"red\" height=\"6\" width=\"6\" x=\"168.875\" y=\"115.07748724388996\"/><rect fill=\"red\" height=\"6\" width=\"6\" x=\"168.875\" y=\"104.1381726579668\"/><rect fill=\"red\" height=\"6\" width=\"6\" x=\"168.875\" y=\"93.19885807204366\"/><rect fill=\"red\" height=\"6\" width=\"6\" x=\"168.875\" y=\"82.2595434861205\"/><rect fill=\"red\" height=\"6\" width=\"6\" x=\"168.875\" y=\"71.32022890019735\"/><rect fill=\"red\" height=\"6\" width=\"6\" x=\"340.75\" y=\"143.38225480558543\"/><rect fill=\"red\" height=\"6\" width=\"6\" x=\"340.75\" y=\"133.00708724417154\"/><rect fill=\"red\" height=\"6\" width=\"6\" x=\"340.75\" y=\"122.63191968275763\"/><rect fill=\"red\" height=\"6\" width=\"6\" x=\"340.75\" y=\"112.25675212134372\"/><rect fill=\"red\" height=\"6\" width=\"6\" x=\"340.75\" y=\"101.88158455992982\"/><rect fill=\"red\" height=\"6\" width=\"6\" x=\"340.75\" y=\"91.5064169985159\"/><rect fill=\"red\" height=\"6\" width=\"6\" x=\"340.75\" y=\"81.131249437102\"/><rect fill=\"red\" height=\"6\" width=\"6\" x=\"340.75\" y=\"70.7560818756881\"/><rect fill=\"red\" height=\"6\" width=\"6\" x=\"215.75\" y=\"165.3782593943127\"/><rect fill=\"red\" height=\"6\" width=\"6\" x=\"372.0\" y=\"173.12623706116656\"/><rect fill=\"red\" height=\"6\" width=\"6\" x=\"372.0\" y=\"169.25247412233313\"/><rect fill=\"red\" height=\"6\" width=\"6\" x=\"372.0\" y=\"165.37871118349966\"/><rect fill=\"red\" height=\"6\" width=\"6\" x=\"372.0\" y=\"161.50494824466622\"/><rect fill=\"red\" height=\"6\" width=\"6\" x=\"372.0\" y=\"157.6311853058328\"/><rect fill=\"red\" height=\"6\" width=\"6\" x=\"184.5\" y=\"174.4608866005214\"/><rect fill=\"red\" height=\"6\" width=\"6\" x=\"247.0\" y=\"175.30725773368096\"/><rect fill=\"red\" height=\"6\" width=\"6\" x=\"247.0\" y=\"173.61451546736188\"/><rect fill=\"red\" height=\"6\" width=\"6\" x=\"122.0\" y=\"170.94491519586086\"/><rect fill=\"red\" height=\"6\" width=\"6\" x=\"122.0\" y=\"164.88983039172172\"/><rect fill=\"red\" height=\"6\" width=\"6\" x=\"309.5\" y=\"165.37871118349966\"/></svg>"
      ],
      "text/plain": [
       "<IPython.core.display.SVG object>"
      ]
     },
     "metadata": {},
     "output_type": "display_data"
    },
    {
     "name": "stdout",
     "output_type": "stream",
     "text": [
      "------------------------------------------------------------\n",
      "Marginal Tree span: (2844.0483398372417, 3008.07310687566)\n"
     ]
    },
    {
     "data": {
      "image/svg+xml": [
       "<svg baseProfile=\"full\" height=\"200\" version=\"1.1\" width=\"500\" xmlns=\"http://www.w3.org/2000/svg\" xmlns:ev=\"http://www.w3.org/2001/xml-events\" xmlns:xlink=\"http://www.w3.org/1999/xlink\"><defs/><g id=\"lines\" stroke=\"black\"><line x1=\"62.5\" x2=\"62.5\" y1=\"180.0\" y2=\"20.0\"/><line x1=\"62.5\" x2=\"160.15625\" y1=\"20.0\" y2=\"20.0\"/><line x1=\"257.8125\" x2=\"257.8125\" y1=\"63.38091431427419\" y2=\"20.0\"/><line x1=\"257.8125\" x2=\"160.15625\" y1=\"20.0\" y2=\"20.0\"/><line x1=\"171.875\" x2=\"171.875\" y1=\"161.83474558758257\" y2=\"63.38091431427419\"/><line x1=\"171.875\" x2=\"257.8125\" y1=\"63.38091431427419\" y2=\"63.38091431427419\"/><line x1=\"125.0\" x2=\"125.0\" y1=\"180.0\" y2=\"161.83474558758257\"/><line x1=\"125.0\" x2=\"171.875\" y1=\"161.83474558758257\" y2=\"161.83474558758257\"/><line x1=\"218.75\" x2=\"218.75\" y1=\"174.92177320104284\" y2=\"161.83474558758257\"/><line x1=\"218.75\" x2=\"171.875\" y1=\"161.83474558758257\" y2=\"161.83474558758257\"/><line x1=\"187.5\" x2=\"187.5\" y1=\"180.0\" y2=\"174.92177320104284\"/><line x1=\"187.5\" x2=\"218.75\" y1=\"174.92177320104284\" y2=\"174.92177320104284\"/><line x1=\"250.0\" x2=\"250.0\" y1=\"180.0\" y2=\"174.92177320104284\"/><line x1=\"250.0\" x2=\"218.75\" y1=\"174.92177320104284\" y2=\"174.92177320104284\"/><line x1=\"343.75\" x2=\"343.75\" y1=\"113.48530901563669\" y2=\"63.38091431427419\"/><line x1=\"343.75\" x2=\"257.8125\" y1=\"63.38091431427419\" y2=\"63.38091431427419\"/><line x1=\"312.5\" x2=\"312.5\" y1=\"180.0\" y2=\"113.48530901563669\"/><line x1=\"312.5\" x2=\"343.75\" y1=\"113.48530901563669\" y2=\"113.48530901563669\"/><line x1=\"375.0\" x2=\"375.0\" y1=\"180.0\" y2=\"113.48530901563669\"/><line x1=\"375.0\" x2=\"343.75\" y1=\"113.48530901563669\" y2=\"113.48530901563669\"/></g><g font-size=\"14\" text-anchor=\"start\"/><g font-size=\"14\" text-anchor=\"end\"/><g font-size=\"14\" text-anchor=\"middle\"><text x=\"62.5\" y=\"200.0\">ASN1</text><text x=\"125.0\" y=\"200.0\">ASN2</text><text x=\"187.5\" y=\"200.0\">EUR1</text><text x=\"250.0\" y=\"200.0\">EUR2</text><text x=\"312.5\" y=\"200.0\">AFR1</text><text x=\"375.0\" y=\"200.0\">AFR2</text></g><circle cx=\"160.15625\" cy=\"20.0\" fill=\"black\" r=\"3\"/><circle cx=\"62.5\" cy=\"180.0\" fill=\"black\" r=\"3\"/><circle cx=\"257.8125\" cy=\"63.38091431427419\" fill=\"black\" r=\"3\"/><circle cx=\"171.875\" cy=\"161.83474558758257\" fill=\"black\" r=\"3\"/><circle cx=\"125.0\" cy=\"180.0\" fill=\"black\" r=\"3\"/><circle cx=\"218.75\" cy=\"174.92177320104284\" fill=\"black\" r=\"3\"/><circle cx=\"187.5\" cy=\"180.0\" fill=\"black\" r=\"3\"/><circle cx=\"250.0\" cy=\"180.0\" fill=\"black\" r=\"3\"/><circle cx=\"343.75\" cy=\"113.48530901563669\" fill=\"black\" r=\"3\"/><circle cx=\"312.5\" cy=\"180.0\" fill=\"black\" r=\"3\"/><circle cx=\"375.0\" cy=\"180.0\" fill=\"black\" r=\"3\"/><g alignment-baseline=\"middle\" font-size=\"14\" font-style=\"italic\" text-anchor=\"start\"/><g alignment-baseline=\"middle\" font-size=\"14\" font-style=\"italic\" text-anchor=\"end\"/><rect fill=\"red\" height=\"6\" width=\"6\" x=\"59.5\" y=\"145.0\"/><rect fill=\"red\" height=\"6\" width=\"6\" x=\"59.5\" y=\"113.0\"/><rect fill=\"red\" height=\"6\" width=\"6\" x=\"59.5\" y=\"81.0\"/><rect fill=\"red\" height=\"6\" width=\"6\" x=\"59.5\" y=\"49.0\"/><rect fill=\"red\" height=\"6\" width=\"6\" x=\"340.75\" y=\"93.78384411518252\"/><rect fill=\"red\" height=\"6\" width=\"6\" x=\"340.75\" y=\"77.08237921472835\"/><rect fill=\"red\" height=\"6\" width=\"6\" x=\"122.0\" y=\"167.9173727937913\"/><rect fill=\"red\" height=\"6\" width=\"6\" x=\"254.8125\" y=\"38.6904571571371\"/><rect fill=\"red\" height=\"6\" width=\"6\" x=\"168.875\" y=\"109.60782995092839\"/><rect fill=\"red\" height=\"6\" width=\"6\" x=\"372.0\" y=\"154.82843633854557\"/><rect fill=\"red\" height=\"6\" width=\"6\" x=\"372.0\" y=\"132.65687267709112\"/><rect fill=\"red\" height=\"6\" width=\"6\" x=\"215.75\" y=\"167.55943066322274\"/><rect fill=\"red\" height=\"6\" width=\"6\" x=\"215.75\" y=\"163.19708812540267\"/></svg>"
      ],
      "text/plain": [
       "<IPython.core.display.SVG object>"
      ]
     },
     "metadata": {},
     "output_type": "display_data"
    },
    {
     "name": "stdout",
     "output_type": "stream",
     "text": [
      "------------------------------------------------------------\n",
      "Marginal Tree span: (3008.07310687566, 3615.6123954839104)\n"
     ]
    },
    {
     "data": {
      "image/svg+xml": [
       "<svg baseProfile=\"full\" height=\"200\" version=\"1.1\" width=\"500\" xmlns=\"http://www.w3.org/2000/svg\" xmlns:ev=\"http://www.w3.org/2001/xml-events\" xmlns:xlink=\"http://www.w3.org/1999/xlink\"><defs/><g id=\"lines\" stroke=\"black\"><line x1=\"179.6875\" x2=\"179.6875\" y1=\"63.38091431427419\" y2=\"20.0\"/><line x1=\"179.6875\" x2=\"261.71875\" y1=\"20.0\" y2=\"20.0\"/><line x1=\"109.375\" x2=\"109.375\" y1=\"161.83474558758257\" y2=\"63.38091431427419\"/><line x1=\"109.375\" x2=\"179.6875\" y1=\"63.38091431427419\" y2=\"63.38091431427419\"/><line x1=\"62.5\" x2=\"62.5\" y1=\"180.0\" y2=\"161.83474558758257\"/><line x1=\"62.5\" x2=\"109.375\" y1=\"161.83474558758257\" y2=\"161.83474558758257\"/><line x1=\"156.25\" x2=\"156.25\" y1=\"174.92177320104284\" y2=\"161.83474558758257\"/><line x1=\"156.25\" x2=\"109.375\" y1=\"161.83474558758257\" y2=\"161.83474558758257\"/><line x1=\"125.0\" x2=\"125.0\" y1=\"180.0\" y2=\"174.92177320104284\"/><line x1=\"125.0\" x2=\"156.25\" y1=\"174.92177320104284\" y2=\"174.92177320104284\"/><line x1=\"187.5\" x2=\"187.5\" y1=\"180.0\" y2=\"174.92177320104284\"/><line x1=\"187.5\" x2=\"156.25\" y1=\"174.92177320104284\" y2=\"174.92177320104284\"/><line x1=\"250.0\" x2=\"250.0\" y1=\"180.0\" y2=\"63.38091431427419\"/><line x1=\"250.0\" x2=\"179.6875\" y1=\"63.38091431427419\" y2=\"63.38091431427419\"/><line x1=\"343.75\" x2=\"343.75\" y1=\"125.8914207516458\" y2=\"20.0\"/><line x1=\"343.75\" x2=\"261.71875\" y1=\"20.0\" y2=\"20.0\"/><line x1=\"312.5\" x2=\"312.5\" y1=\"180.0\" y2=\"125.8914207516458\"/><line x1=\"312.5\" x2=\"343.75\" y1=\"125.8914207516458\" y2=\"125.8914207516458\"/><line x1=\"375.0\" x2=\"375.0\" y1=\"180.0\" y2=\"125.8914207516458\"/><line x1=\"375.0\" x2=\"343.75\" y1=\"125.8914207516458\" y2=\"125.8914207516458\"/></g><g font-size=\"14\" text-anchor=\"start\"/><g font-size=\"14\" text-anchor=\"end\"/><g font-size=\"14\" text-anchor=\"middle\"><text x=\"62.5\" y=\"200.0\">ASN2</text><text x=\"125.0\" y=\"200.0\">EUR1</text><text x=\"187.5\" y=\"200.0\">EUR2</text><text x=\"250.0\" y=\"200.0\">AFR1</text><text x=\"312.5\" y=\"200.0\">AFR2</text><text x=\"375.0\" y=\"200.0\">ASN1</text></g><circle cx=\"261.71875\" cy=\"20.0\" fill=\"black\" r=\"3\"/><circle cx=\"179.6875\" cy=\"63.38091431427419\" fill=\"black\" r=\"3\"/><circle cx=\"109.375\" cy=\"161.83474558758257\" fill=\"black\" r=\"3\"/><circle cx=\"62.5\" cy=\"180.0\" fill=\"black\" r=\"3\"/><circle cx=\"156.25\" cy=\"174.92177320104284\" fill=\"black\" r=\"3\"/><circle cx=\"125.0\" cy=\"180.0\" fill=\"black\" r=\"3\"/><circle cx=\"187.5\" cy=\"180.0\" fill=\"black\" r=\"3\"/><circle cx=\"250.0\" cy=\"180.0\" fill=\"black\" r=\"3\"/><circle cx=\"343.75\" cy=\"125.8914207516458\" fill=\"black\" r=\"3\"/><circle cx=\"312.5\" cy=\"180.0\" fill=\"black\" r=\"3\"/><circle cx=\"375.0\" cy=\"180.0\" fill=\"black\" r=\"3\"/><g alignment-baseline=\"middle\" font-size=\"14\" font-style=\"italic\" text-anchor=\"start\"/><g alignment-baseline=\"middle\" font-size=\"14\" font-style=\"italic\" text-anchor=\"end\"/><rect fill=\"red\" height=\"6\" width=\"6\" x=\"247.0\" y=\"165.33809143142742\"/><rect fill=\"red\" height=\"6\" width=\"6\" x=\"247.0\" y=\"153.67618286285483\"/><rect fill=\"red\" height=\"6\" width=\"6\" x=\"247.0\" y=\"142.01427429428225\"/><rect fill=\"red\" height=\"6\" width=\"6\" x=\"247.0\" y=\"130.35236572570966\"/><rect fill=\"red\" height=\"6\" width=\"6\" x=\"247.0\" y=\"118.69045715713709\"/><rect fill=\"red\" height=\"6\" width=\"6\" x=\"247.0\" y=\"107.02854858856452\"/><rect fill=\"red\" height=\"6\" width=\"6\" x=\"247.0\" y=\"95.36664001999193\"/><rect fill=\"red\" height=\"6\" width=\"6\" x=\"247.0\" y=\"83.70473145141935\"/><rect fill=\"red\" height=\"6\" width=\"6\" x=\"247.0\" y=\"72.04282288284676\"/><rect fill=\"red\" height=\"6\" width=\"6\" x=\"340.75\" y=\"105.24285062637149\"/><rect fill=\"red\" height=\"6\" width=\"6\" x=\"340.75\" y=\"87.59428050109719\"/><rect fill=\"red\" height=\"6\" width=\"6\" x=\"340.75\" y=\"69.9457103758229\"/><rect fill=\"red\" height=\"6\" width=\"6\" x=\"340.75\" y=\"52.297140250548594\"/><rect fill=\"red\" height=\"6\" width=\"6\" x=\"340.75\" y=\"34.64857012527429\"/><rect fill=\"red\" height=\"6\" width=\"6\" x=\"153.25\" y=\"165.3782593943127\"/><rect fill=\"red\" height=\"6\" width=\"6\" x=\"372.0\" y=\"163.47285518791145\"/><rect fill=\"red\" height=\"6\" width=\"6\" x=\"372.0\" y=\"149.9457103758229\"/><rect fill=\"red\" height=\"6\" width=\"6\" x=\"372.0\" y=\"136.41856556373435\"/><rect fill=\"red\" height=\"6\" width=\"6\" x=\"106.375\" y=\"134.22128776925547\"/><rect fill=\"red\" height=\"6\" width=\"6\" x=\"106.375\" y=\"109.60782995092839\"/><rect fill=\"red\" height=\"6\" width=\"6\" x=\"106.375\" y=\"84.99437213260128\"/><rect fill=\"red\" height=\"6\" width=\"6\" x=\"309.5\" y=\"158.96380691721527\"/><rect fill=\"red\" height=\"6\" width=\"6\" x=\"309.5\" y=\"140.92761383443053\"/><rect fill=\"red\" height=\"6\" width=\"6\" x=\"176.6875\" y=\"38.6904571571371\"/></svg>"
      ],
      "text/plain": [
       "<IPython.core.display.SVG object>"
      ]
     },
     "metadata": {},
     "output_type": "display_data"
    },
    {
     "name": "stdout",
     "output_type": "stream",
     "text": [
      "------------------------------------------------------------\n",
      "Marginal Tree span: (3615.6123954839104, 5000.0)\n"
     ]
    },
    {
     "data": {
      "image/svg+xml": [
       "<svg baseProfile=\"full\" height=\"200\" version=\"1.1\" width=\"500\" xmlns=\"http://www.w3.org/2000/svg\" xmlns:ev=\"http://www.w3.org/2001/xml-events\" xmlns:xlink=\"http://www.w3.org/1999/xlink\"><defs/><g id=\"lines\" stroke=\"black\"><line x1=\"117.1875\" x2=\"117.1875\" y1=\"63.38091431427419\" y2=\"20.0\"/><line x1=\"117.1875\" x2=\"230.46875\" y1=\"20.0\" y2=\"20.0\"/><line x1=\"62.5\" x2=\"62.5\" y1=\"180.0\" y2=\"63.38091431427419\"/><line x1=\"62.5\" x2=\"117.1875\" y1=\"63.38091431427419\" y2=\"63.38091431427419\"/><line x1=\"171.875\" x2=\"171.875\" y1=\"155.5848670116865\" y2=\"63.38091431427419\"/><line x1=\"171.875\" x2=\"117.1875\" y1=\"63.38091431427419\" y2=\"63.38091431427419\"/><line x1=\"125.0\" x2=\"125.0\" y1=\"180.0\" y2=\"155.5848670116865\"/><line x1=\"125.0\" x2=\"171.875\" y1=\"155.5848670116865\" y2=\"155.5848670116865\"/><line x1=\"218.75\" x2=\"218.75\" y1=\"174.92177320104284\" y2=\"155.5848670116865\"/><line x1=\"218.75\" x2=\"171.875\" y1=\"155.5848670116865\" y2=\"155.5848670116865\"/><line x1=\"187.5\" x2=\"187.5\" y1=\"180.0\" y2=\"174.92177320104284\"/><line x1=\"187.5\" x2=\"218.75\" y1=\"174.92177320104284\" y2=\"174.92177320104284\"/><line x1=\"250.0\" x2=\"250.0\" y1=\"180.0\" y2=\"174.92177320104284\"/><line x1=\"250.0\" x2=\"218.75\" y1=\"174.92177320104284\" y2=\"174.92177320104284\"/><line x1=\"343.75\" x2=\"343.75\" y1=\"125.8914207516458\" y2=\"20.0\"/><line x1=\"343.75\" x2=\"230.46875\" y1=\"20.0\" y2=\"20.0\"/><line x1=\"312.5\" x2=\"312.5\" y1=\"180.0\" y2=\"125.8914207516458\"/><line x1=\"312.5\" x2=\"343.75\" y1=\"125.8914207516458\" y2=\"125.8914207516458\"/><line x1=\"375.0\" x2=\"375.0\" y1=\"180.0\" y2=\"125.8914207516458\"/><line x1=\"375.0\" x2=\"343.75\" y1=\"125.8914207516458\" y2=\"125.8914207516458\"/></g><g font-size=\"14\" text-anchor=\"start\"/><g font-size=\"14\" text-anchor=\"end\"/><g font-size=\"14\" text-anchor=\"middle\"><text x=\"62.5\" y=\"200.0\">AFR1</text><text x=\"125.0\" y=\"200.0\">ASN2</text><text x=\"187.5\" y=\"200.0\">EUR1</text><text x=\"250.0\" y=\"200.0\">EUR2</text><text x=\"312.5\" y=\"200.0\">AFR2</text><text x=\"375.0\" y=\"200.0\">ASN1</text></g><circle cx=\"230.46875\" cy=\"20.0\" fill=\"black\" r=\"3\"/><circle cx=\"117.1875\" cy=\"63.38091431427419\" fill=\"black\" r=\"3\"/><circle cx=\"62.5\" cy=\"180.0\" fill=\"black\" r=\"3\"/><circle cx=\"171.875\" cy=\"155.5848670116865\" fill=\"black\" r=\"3\"/><circle cx=\"125.0\" cy=\"180.0\" fill=\"black\" r=\"3\"/><circle cx=\"218.75\" cy=\"174.92177320104284\" fill=\"black\" r=\"3\"/><circle cx=\"187.5\" cy=\"180.0\" fill=\"black\" r=\"3\"/><circle cx=\"250.0\" cy=\"180.0\" fill=\"black\" r=\"3\"/><circle cx=\"343.75\" cy=\"125.8914207516458\" fill=\"black\" r=\"3\"/><circle cx=\"312.5\" cy=\"180.0\" fill=\"black\" r=\"3\"/><circle cx=\"375.0\" cy=\"180.0\" fill=\"black\" r=\"3\"/><g alignment-baseline=\"middle\" font-size=\"14\" font-style=\"italic\" text-anchor=\"start\"/><g alignment-baseline=\"middle\" font-size=\"14\" font-style=\"italic\" text-anchor=\"end\"/><rect fill=\"red\" height=\"6\" width=\"6\" x=\"340.75\" y=\"109.65499315769007\"/><rect fill=\"red\" height=\"6\" width=\"6\" x=\"340.75\" y=\"96.41856556373435\"/><rect fill=\"red\" height=\"6\" width=\"6\" x=\"340.75\" y=\"83.18213796977862\"/><rect fill=\"red\" height=\"6\" width=\"6\" x=\"340.75\" y=\"69.9457103758229\"/><rect fill=\"red\" height=\"6\" width=\"6\" x=\"340.75\" y=\"56.709282781867174\"/><rect fill=\"red\" height=\"6\" width=\"6\" x=\"340.75\" y=\"43.47285518791145\"/><rect fill=\"red\" height=\"6\" width=\"6\" x=\"340.75\" y=\"30.236427593955725\"/><rect fill=\"red\" height=\"6\" width=\"6\" x=\"168.875\" y=\"145.4922552657317\"/><rect fill=\"red\" height=\"6\" width=\"6\" x=\"168.875\" y=\"138.3996435197769\"/><rect fill=\"red\" height=\"6\" width=\"6\" x=\"168.875\" y=\"131.30703177382213\"/><rect fill=\"red\" height=\"6\" width=\"6\" x=\"168.875\" y=\"124.21442002786733\"/><rect fill=\"red\" height=\"6\" width=\"6\" x=\"168.875\" y=\"117.12180828191254\"/><rect fill=\"red\" height=\"6\" width=\"6\" x=\"168.875\" y=\"110.02919653595774\"/><rect fill=\"red\" height=\"6\" width=\"6\" x=\"168.875\" y=\"102.93658479000294\"/><rect fill=\"red\" height=\"6\" width=\"6\" x=\"168.875\" y=\"95.84397304404816\"/><rect fill=\"red\" height=\"6\" width=\"6\" x=\"168.875\" y=\"88.75136129809337\"/><rect fill=\"red\" height=\"6\" width=\"6\" x=\"168.875\" y=\"81.65874955213857\"/><rect fill=\"red\" height=\"6\" width=\"6\" x=\"168.875\" y=\"74.56613780618378\"/><rect fill=\"red\" height=\"6\" width=\"6\" x=\"168.875\" y=\"67.47352606022898\"/><rect fill=\"red\" height=\"6\" width=\"6\" x=\"114.1875\" y=\"49.53568573570564\"/><rect fill=\"red\" height=\"6\" width=\"6\" x=\"114.1875\" y=\"38.6904571571371\"/><rect fill=\"red\" height=\"6\" width=\"6\" x=\"114.1875\" y=\"27.845228578568552\"/><rect fill=\"red\" height=\"6\" width=\"6\" x=\"59.5\" y=\"170.8621533849618\"/><rect fill=\"red\" height=\"6\" width=\"6\" x=\"59.5\" y=\"164.7243067699236\"/><rect fill=\"red\" height=\"6\" width=\"6\" x=\"59.5\" y=\"158.5864601548854\"/><rect fill=\"red\" height=\"6\" width=\"6\" x=\"59.5\" y=\"152.4486135398472\"/><rect fill=\"red\" height=\"6\" width=\"6\" x=\"59.5\" y=\"146.310766924809\"/><rect fill=\"red\" height=\"6\" width=\"6\" x=\"59.5\" y=\"140.1729203097708\"/><rect fill=\"red\" height=\"6\" width=\"6\" x=\"59.5\" y=\"134.0350736947326\"/><rect fill=\"red\" height=\"6\" width=\"6\" x=\"59.5\" y=\"127.8972270796944\"/><rect fill=\"red\" height=\"6\" width=\"6\" x=\"59.5\" y=\"121.7593804646562\"/><rect fill=\"red\" height=\"6\" width=\"6\" x=\"59.5\" y=\"115.621533849618\"/><rect fill=\"red\" height=\"6\" width=\"6\" x=\"59.5\" y=\"109.48368723457979\"/><rect fill=\"red\" height=\"6\" width=\"6\" x=\"59.5\" y=\"103.34584061954159\"/><rect fill=\"red\" height=\"6\" width=\"6\" x=\"59.5\" y=\"97.20799400450339\"/><rect fill=\"red\" height=\"6\" width=\"6\" x=\"59.5\" y=\"91.07014738946519\"/><rect fill=\"red\" height=\"6\" width=\"6\" x=\"59.5\" y=\"84.93230077442699\"/><rect fill=\"red\" height=\"6\" width=\"6\" x=\"59.5\" y=\"78.79445415938879\"/><rect fill=\"red\" height=\"6\" width=\"6\" x=\"59.5\" y=\"72.65660754435059\"/><rect fill=\"red\" height=\"6\" width=\"6\" x=\"59.5\" y=\"66.51876092931239\"/><rect fill=\"red\" height=\"6\" width=\"6\" x=\"122.0\" y=\"170.89621675292162\"/><rect fill=\"red\" height=\"6\" width=\"6\" x=\"122.0\" y=\"164.79243350584323\"/><rect fill=\"red\" height=\"6\" width=\"6\" x=\"122.0\" y=\"158.68865025876488\"/><rect fill=\"red\" height=\"6\" width=\"6\" x=\"215.75\" y=\"165.47613780459073\"/><rect fill=\"red\" height=\"6\" width=\"6\" x=\"215.75\" y=\"159.0305024081386\"/><rect fill=\"red\" height=\"6\" width=\"6\" x=\"372.0\" y=\"167.98190345860763\"/><rect fill=\"red\" height=\"6\" width=\"6\" x=\"372.0\" y=\"158.96380691721527\"/><rect fill=\"red\" height=\"6\" width=\"6\" x=\"372.0\" y=\"149.9457103758229\"/><rect fill=\"red\" height=\"6\" width=\"6\" x=\"372.0\" y=\"140.92761383443053\"/><rect fill=\"red\" height=\"6\" width=\"6\" x=\"372.0\" y=\"131.90951729303816\"/><rect fill=\"red\" height=\"6\" width=\"6\" x=\"309.5\" y=\"170.23642759395574\"/><rect fill=\"red\" height=\"6\" width=\"6\" x=\"309.5\" y=\"163.47285518791145\"/><rect fill=\"red\" height=\"6\" width=\"6\" x=\"309.5\" y=\"156.70928278186716\"/><rect fill=\"red\" height=\"6\" width=\"6\" x=\"309.5\" y=\"149.9457103758229\"/><rect fill=\"red\" height=\"6\" width=\"6\" x=\"309.5\" y=\"143.18213796977864\"/><rect fill=\"red\" height=\"6\" width=\"6\" x=\"309.5\" y=\"136.41856556373435\"/><rect fill=\"red\" height=\"6\" width=\"6\" x=\"309.5\" y=\"129.65499315769006\"/><rect fill=\"red\" height=\"6\" width=\"6\" x=\"184.5\" y=\"174.4608866005214\"/></svg>"
      ],
      "text/plain": [
       "<IPython.core.display.SVG object>"
      ]
     },
     "metadata": {},
     "output_type": "display_data"
    }
   ],
   "source": [
    "for tree in ooa_simulated.trees():\n",
    "    print(\"---\"*20)\n",
    "    print(\"Marginal Tree span:\", tree.get_interval())\n",
    "    display(SVG(tree.draw(mutation_labels={},\n",
    "        node_labels={0:\"AFR1\",1:\"AFR2\", 2:\"EUR1\",3:\"EUR2\",4:\"ASN1\",5:\"ASN2\"},\n",
    "        width=500)))\n",
    "    "
   ]
  },
  {
   "cell_type": "markdown",
   "metadata": {},
   "source": [
    "We will take the variants from this simulation, and see if we can use them to infer the true, simulated trees. The first step of tsinfer is to create a `SampleData` file. With real data we would create this site-by-site from e.g. a VCF or BGEN file. Here we can can create it by iterating over the variants in the simulated tree sequence:"
   ]
  },
  {
   "cell_type": "code",
   "execution_count": 11,
   "metadata": {},
   "outputs": [],
   "source": [
    "with tsinfer.SampleData(\n",
    "        path=\"data/ooa_simulation.samples\", sequence_length=ooa_simulated.sequence_length,\n",
    "        num_flush_threads=2) as ooa_sample_data:\n",
    "    for var in ooa_simulated.variants():\n",
    "        ooa_sample_data.add_site(var.site.position, var.genotypes, var.alleles)"
   ]
  },
  {
   "cell_type": "markdown",
   "metadata": {},
   "source": [
    "This creates a sample data file for four haploid samples and two sites, and saves it in the file “ooa_simulation.samples”. Note that we could have also added populations or polyploid individuals with sample_data.add_population and sample_data.add_individual. \n",
    "<aside>We use a context manager (<code>with ...</code>) to ensure that all data is correctly flushed to disk (otherwise we would need to call the <code>finalise()</code> method on the SampleData object after we have finished with it.</aside>\n",
    "<br>\n",
    "Now all we need is a single line to infer the tree sequence from the `Sample Data` object."
   ]
  },
  {
   "cell_type": "code",
   "execution_count": 12,
   "metadata": {},
   "outputs": [],
   "source": [
    "ooa_inferred_ts = tsinfer.infer(ooa_sample_data)"
   ]
  },
  {
   "cell_type": "markdown",
   "metadata": {},
   "source": [
    "Let's visualize this output as we did with the 'true' simulated data above. "
   ]
  },
  {
   "cell_type": "code",
   "execution_count": 13,
   "metadata": {},
   "outputs": [
    {
     "name": "stdout",
     "output_type": "stream",
     "text": [
      "------------------------------------------------------------\n",
      "(0.0, 2920.7549588740276)\n"
     ]
    },
    {
     "data": {
      "image/svg+xml": [
       "<svg baseProfile=\"full\" height=\"200\" version=\"1.1\" width=\"500\" xmlns=\"http://www.w3.org/2000/svg\" xmlns:ev=\"http://www.w3.org/2001/xml-events\" xmlns:xlink=\"http://www.w3.org/1999/xlink\"><defs/><g id=\"lines\" stroke=\"black\"><line x1=\"62.5\" x2=\"62.5\" y1=\"180.0\" y2=\"20.0\"/><line x1=\"62.5\" x2=\"144.53125\" y1=\"20.0\" y2=\"20.0\"/><line x1=\"226.5625\" x2=\"226.5625\" y1=\"84.0\" y2=\"20.0\"/><line x1=\"226.5625\" x2=\"144.53125\" y1=\"20.0\" y2=\"20.0\"/><line x1=\"156.25\" x2=\"156.25\" y1=\"148.0\" y2=\"84.0\"/><line x1=\"156.25\" x2=\"226.5625\" y1=\"84.0\" y2=\"84.0\"/><line x1=\"125.0\" x2=\"125.0\" y1=\"180.0\" y2=\"148.0\"/><line x1=\"125.0\" x2=\"156.25\" y1=\"148.0\" y2=\"148.0\"/><line x1=\"187.5\" x2=\"187.5\" y1=\"180.0\" y2=\"148.0\"/><line x1=\"187.5\" x2=\"156.25\" y1=\"148.0\" y2=\"148.0\"/><line x1=\"296.875\" x2=\"296.875\" y1=\"116.0\" y2=\"84.0\"/><line x1=\"296.875\" x2=\"226.5625\" y1=\"84.0\" y2=\"84.0\"/><line x1=\"250.0\" x2=\"250.0\" y1=\"180.0\" y2=\"116.0\"/><line x1=\"250.0\" x2=\"296.875\" y1=\"116.0\" y2=\"116.0\"/><line x1=\"343.75\" x2=\"343.75\" y1=\"148.0\" y2=\"116.0\"/><line x1=\"343.75\" x2=\"296.875\" y1=\"116.0\" y2=\"116.0\"/><line x1=\"312.5\" x2=\"312.5\" y1=\"180.0\" y2=\"148.0\"/><line x1=\"312.5\" x2=\"343.75\" y1=\"148.0\" y2=\"148.0\"/><line x1=\"375.0\" x2=\"375.0\" y1=\"180.0\" y2=\"148.0\"/><line x1=\"375.0\" x2=\"343.75\" y1=\"148.0\" y2=\"148.0\"/></g><g font-size=\"14\" text-anchor=\"start\"/><g font-size=\"14\" text-anchor=\"end\"/><g font-size=\"14\" text-anchor=\"middle\"><text x=\"62.5\" y=\"200.0\">ASN1</text><text x=\"125.0\" y=\"200.0\">AFR1</text><text x=\"187.5\" y=\"200.0\">AFR2</text><text x=\"250.0\" y=\"200.0\">ASN2</text><text x=\"312.5\" y=\"200.0\">EUR1</text><text x=\"375.0\" y=\"200.0\">EUR2</text></g><circle cx=\"144.53125\" cy=\"20.0\" fill=\"black\" r=\"3\"/><circle cx=\"62.5\" cy=\"180.0\" fill=\"black\" r=\"3\"/><circle cx=\"226.5625\" cy=\"84.0\" fill=\"black\" r=\"3\"/><circle cx=\"156.25\" cy=\"148.0\" fill=\"black\" r=\"3\"/><circle cx=\"125.0\" cy=\"180.0\" fill=\"black\" r=\"3\"/><circle cx=\"187.5\" cy=\"180.0\" fill=\"black\" r=\"3\"/><circle cx=\"296.875\" cy=\"116.0\" fill=\"black\" r=\"3\"/><circle cx=\"250.0\" cy=\"180.0\" fill=\"black\" r=\"3\"/><circle cx=\"343.75\" cy=\"148.0\" fill=\"black\" r=\"3\"/><circle cx=\"312.5\" cy=\"180.0\" fill=\"black\" r=\"3\"/><circle cx=\"375.0\" cy=\"180.0\" fill=\"black\" r=\"3\"/><g alignment-baseline=\"middle\" font-size=\"14\" font-style=\"italic\" text-anchor=\"start\"/><g alignment-baseline=\"middle\" font-size=\"14\" font-style=\"italic\" text-anchor=\"end\"/><rect fill=\"red\" height=\"6\" width=\"6\" x=\"59.5\" y=\"174.24137931034483\"/><rect fill=\"red\" height=\"6\" width=\"6\" x=\"59.5\" y=\"171.48275862068965\"/><rect fill=\"red\" height=\"6\" width=\"6\" x=\"59.5\" y=\"168.72413793103448\"/><rect fill=\"red\" height=\"6\" width=\"6\" x=\"59.5\" y=\"165.9655172413793\"/><rect fill=\"red\" height=\"6\" width=\"6\" x=\"59.5\" y=\"163.20689655172413\"/><rect fill=\"red\" height=\"6\" width=\"6\" x=\"59.5\" y=\"160.44827586206895\"/><rect fill=\"red\" height=\"6\" width=\"6\" x=\"59.5\" y=\"157.68965517241378\"/><rect fill=\"red\" height=\"6\" width=\"6\" x=\"59.5\" y=\"154.9310344827586\"/><rect fill=\"red\" height=\"6\" width=\"6\" x=\"59.5\" y=\"152.17241379310343\"/><rect fill=\"red\" height=\"6\" width=\"6\" x=\"59.5\" y=\"149.41379310344828\"/><rect fill=\"red\" height=\"6\" width=\"6\" x=\"59.5\" y=\"146.6551724137931\"/><rect fill=\"red\" height=\"6\" width=\"6\" x=\"59.5\" y=\"143.89655172413794\"/><rect fill=\"red\" height=\"6\" width=\"6\" x=\"59.5\" y=\"141.13793103448276\"/><rect fill=\"red\" height=\"6\" width=\"6\" x=\"59.5\" y=\"138.3793103448276\"/><rect fill=\"red\" height=\"6\" width=\"6\" x=\"59.5\" y=\"135.6206896551724\"/><rect fill=\"red\" height=\"6\" width=\"6\" x=\"59.5\" y=\"132.86206896551724\"/><rect fill=\"red\" height=\"6\" width=\"6\" x=\"59.5\" y=\"130.10344827586206\"/><rect fill=\"red\" height=\"6\" width=\"6\" x=\"59.5\" y=\"127.34482758620689\"/><rect fill=\"red\" height=\"6\" width=\"6\" x=\"59.5\" y=\"124.58620689655172\"/><rect fill=\"red\" height=\"6\" width=\"6\" x=\"59.5\" y=\"121.82758620689654\"/><rect fill=\"red\" height=\"6\" width=\"6\" x=\"59.5\" y=\"119.06896551724137\"/><rect fill=\"red\" height=\"6\" width=\"6\" x=\"59.5\" y=\"116.3103448275862\"/><rect fill=\"red\" height=\"6\" width=\"6\" x=\"59.5\" y=\"113.55172413793103\"/><rect fill=\"red\" height=\"6\" width=\"6\" x=\"59.5\" y=\"110.79310344827586\"/><rect fill=\"red\" height=\"6\" width=\"6\" x=\"59.5\" y=\"108.03448275862068\"/><rect fill=\"red\" height=\"6\" width=\"6\" x=\"59.5\" y=\"105.27586206896551\"/><rect fill=\"red\" height=\"6\" width=\"6\" x=\"59.5\" y=\"102.51724137931033\"/><rect fill=\"red\" height=\"6\" width=\"6\" x=\"59.5\" y=\"99.75862068965517\"/><rect fill=\"red\" height=\"6\" width=\"6\" x=\"59.5\" y=\"97.0\"/><rect fill=\"red\" height=\"6\" width=\"6\" x=\"59.5\" y=\"94.24137931034483\"/><rect fill=\"red\" height=\"6\" width=\"6\" x=\"59.5\" y=\"91.48275862068965\"/><rect fill=\"red\" height=\"6\" width=\"6\" x=\"59.5\" y=\"88.72413793103448\"/><rect fill=\"red\" height=\"6\" width=\"6\" x=\"59.5\" y=\"85.9655172413793\"/><rect fill=\"red\" height=\"6\" width=\"6\" x=\"59.5\" y=\"83.20689655172413\"/><rect fill=\"red\" height=\"6\" width=\"6\" x=\"59.5\" y=\"80.44827586206895\"/><rect fill=\"red\" height=\"6\" width=\"6\" x=\"59.5\" y=\"77.68965517241378\"/><rect fill=\"red\" height=\"6\" width=\"6\" x=\"59.5\" y=\"74.93103448275862\"/><rect fill=\"red\" height=\"6\" width=\"6\" x=\"59.5\" y=\"72.17241379310344\"/><rect fill=\"red\" height=\"6\" width=\"6\" x=\"59.5\" y=\"69.41379310344827\"/><rect fill=\"red\" height=\"6\" width=\"6\" x=\"59.5\" y=\"66.6551724137931\"/><rect fill=\"red\" height=\"6\" width=\"6\" x=\"59.5\" y=\"63.89655172413792\"/><rect fill=\"red\" height=\"6\" width=\"6\" x=\"59.5\" y=\"61.13793103448275\"/><rect fill=\"red\" height=\"6\" width=\"6\" x=\"59.5\" y=\"58.37931034482757\"/><rect fill=\"red\" height=\"6\" width=\"6\" x=\"59.5\" y=\"55.62068965517241\"/><rect fill=\"red\" height=\"6\" width=\"6\" x=\"59.5\" y=\"52.86206896551724\"/><rect fill=\"red\" height=\"6\" width=\"6\" x=\"59.5\" y=\"50.103448275862064\"/><rect fill=\"red\" height=\"6\" width=\"6\" x=\"59.5\" y=\"47.34482758620689\"/><rect fill=\"red\" height=\"6\" width=\"6\" x=\"59.5\" y=\"44.586206896551715\"/><rect fill=\"red\" height=\"6\" width=\"6\" x=\"59.5\" y=\"41.82758620689654\"/><rect fill=\"red\" height=\"6\" width=\"6\" x=\"59.5\" y=\"39.06896551724137\"/><rect fill=\"red\" height=\"6\" width=\"6\" x=\"59.5\" y=\"36.31034482758619\"/><rect fill=\"red\" height=\"6\" width=\"6\" x=\"59.5\" y=\"33.55172413793102\"/><rect fill=\"red\" height=\"6\" width=\"6\" x=\"59.5\" y=\"30.793103448275843\"/><rect fill=\"red\" height=\"6\" width=\"6\" x=\"59.5\" y=\"28.03448275862067\"/><rect fill=\"red\" height=\"6\" width=\"6\" x=\"59.5\" y=\"25.275862068965495\"/><rect fill=\"red\" height=\"6\" width=\"6\" x=\"59.5\" y=\"22.51724137931035\"/><rect fill=\"red\" height=\"6\" width=\"6\" x=\"59.5\" y=\"19.758620689655174\"/><rect fill=\"red\" height=\"6\" width=\"6\" x=\"223.5625\" y=\"78.62962962962963\"/><rect fill=\"red\" height=\"6\" width=\"6\" x=\"223.5625\" y=\"76.25925925925927\"/><rect fill=\"red\" height=\"6\" width=\"6\" x=\"223.5625\" y=\"73.88888888888889\"/><rect fill=\"red\" height=\"6\" width=\"6\" x=\"223.5625\" y=\"71.51851851851852\"/><rect fill=\"red\" height=\"6\" width=\"6\" x=\"223.5625\" y=\"69.14814814814815\"/><rect fill=\"red\" height=\"6\" width=\"6\" x=\"223.5625\" y=\"66.77777777777777\"/><rect fill=\"red\" height=\"6\" width=\"6\" x=\"223.5625\" y=\"64.4074074074074\"/><rect fill=\"red\" height=\"6\" width=\"6\" x=\"223.5625\" y=\"62.03703703703704\"/><rect fill=\"red\" height=\"6\" width=\"6\" x=\"223.5625\" y=\"59.66666666666667\"/><rect fill=\"red\" height=\"6\" width=\"6\" x=\"223.5625\" y=\"57.2962962962963\"/><rect fill=\"red\" height=\"6\" width=\"6\" x=\"223.5625\" y=\"54.925925925925924\"/><rect fill=\"red\" height=\"6\" width=\"6\" x=\"223.5625\" y=\"52.55555555555556\"/><rect fill=\"red\" height=\"6\" width=\"6\" x=\"223.5625\" y=\"50.18518518518519\"/><rect fill=\"red\" height=\"6\" width=\"6\" x=\"223.5625\" y=\"47.81481481481482\"/><rect fill=\"red\" height=\"6\" width=\"6\" x=\"223.5625\" y=\"45.44444444444444\"/><rect fill=\"red\" height=\"6\" width=\"6\" x=\"223.5625\" y=\"43.074074074074076\"/><rect fill=\"red\" height=\"6\" width=\"6\" x=\"223.5625\" y=\"40.70370370370371\"/><rect fill=\"red\" height=\"6\" width=\"6\" x=\"223.5625\" y=\"38.333333333333336\"/><rect fill=\"red\" height=\"6\" width=\"6\" x=\"223.5625\" y=\"35.96296296296296\"/><rect fill=\"red\" height=\"6\" width=\"6\" x=\"223.5625\" y=\"33.592592592592595\"/><rect fill=\"red\" height=\"6\" width=\"6\" x=\"223.5625\" y=\"31.22222222222223\"/><rect fill=\"red\" height=\"6\" width=\"6\" x=\"223.5625\" y=\"28.851851851851855\"/><rect fill=\"red\" height=\"6\" width=\"6\" x=\"223.5625\" y=\"26.48148148148148\"/><rect fill=\"red\" height=\"6\" width=\"6\" x=\"223.5625\" y=\"24.111111111111114\"/><rect fill=\"red\" height=\"6\" width=\"6\" x=\"223.5625\" y=\"21.740740740740748\"/><rect fill=\"red\" height=\"6\" width=\"6\" x=\"223.5625\" y=\"19.370370370370374\"/><rect fill=\"red\" height=\"6\" width=\"6\" x=\"184.5\" y=\"173.0\"/><rect fill=\"red\" height=\"6\" width=\"6\" x=\"184.5\" y=\"169.0\"/><rect fill=\"red\" height=\"6\" width=\"6\" x=\"184.5\" y=\"165.0\"/><rect fill=\"red\" height=\"6\" width=\"6\" x=\"184.5\" y=\"161.0\"/><rect fill=\"red\" height=\"6\" width=\"6\" x=\"184.5\" y=\"157.0\"/><rect fill=\"red\" height=\"6\" width=\"6\" x=\"184.5\" y=\"153.0\"/><rect fill=\"red\" height=\"6\" width=\"6\" x=\"184.5\" y=\"149.0\"/><rect fill=\"red\" height=\"6\" width=\"6\" x=\"247.0\" y=\"169.0\"/><rect fill=\"red\" height=\"6\" width=\"6\" x=\"247.0\" y=\"161.0\"/><rect fill=\"red\" height=\"6\" width=\"6\" x=\"247.0\" y=\"153.0\"/><rect fill=\"red\" height=\"6\" width=\"6\" x=\"247.0\" y=\"145.0\"/><rect fill=\"red\" height=\"6\" width=\"6\" x=\"247.0\" y=\"137.0\"/><rect fill=\"red\" height=\"6\" width=\"6\" x=\"247.0\" y=\"129.0\"/><rect fill=\"red\" height=\"6\" width=\"6\" x=\"247.0\" y=\"121.0\"/><rect fill=\"red\" height=\"6\" width=\"6\" x=\"153.25\" y=\"142.62962962962962\"/><rect fill=\"red\" height=\"6\" width=\"6\" x=\"153.25\" y=\"140.25925925925927\"/><rect fill=\"red\" height=\"6\" width=\"6\" x=\"153.25\" y=\"137.88888888888889\"/><rect fill=\"red\" height=\"6\" width=\"6\" x=\"153.25\" y=\"135.51851851851853\"/><rect fill=\"red\" height=\"6\" width=\"6\" x=\"153.25\" y=\"133.14814814814815\"/><rect fill=\"red\" height=\"6\" width=\"6\" x=\"153.25\" y=\"130.77777777777777\"/><rect fill=\"red\" height=\"6\" width=\"6\" x=\"153.25\" y=\"128.40740740740742\"/><rect fill=\"red\" height=\"6\" width=\"6\" x=\"153.25\" y=\"126.03703703703704\"/><rect fill=\"red\" height=\"6\" width=\"6\" x=\"153.25\" y=\"123.66666666666667\"/><rect fill=\"red\" height=\"6\" width=\"6\" x=\"153.25\" y=\"121.2962962962963\"/><rect fill=\"red\" height=\"6\" width=\"6\" x=\"153.25\" y=\"118.92592592592592\"/><rect fill=\"red\" height=\"6\" width=\"6\" x=\"153.25\" y=\"116.55555555555556\"/><rect fill=\"red\" height=\"6\" width=\"6\" x=\"153.25\" y=\"114.18518518518519\"/><rect fill=\"red\" height=\"6\" width=\"6\" x=\"153.25\" y=\"111.81481481481481\"/><rect fill=\"red\" height=\"6\" width=\"6\" x=\"153.25\" y=\"109.44444444444444\"/><rect fill=\"red\" height=\"6\" width=\"6\" x=\"153.25\" y=\"107.07407407407408\"/><rect fill=\"red\" height=\"6\" width=\"6\" x=\"153.25\" y=\"104.70370370370371\"/><rect fill=\"red\" height=\"6\" width=\"6\" x=\"153.25\" y=\"102.33333333333334\"/><rect fill=\"red\" height=\"6\" width=\"6\" x=\"153.25\" y=\"99.96296296296296\"/><rect fill=\"red\" height=\"6\" width=\"6\" x=\"153.25\" y=\"97.5925925925926\"/><rect fill=\"red\" height=\"6\" width=\"6\" x=\"153.25\" y=\"95.22222222222223\"/><rect fill=\"red\" height=\"6\" width=\"6\" x=\"153.25\" y=\"92.85185185185185\"/><rect fill=\"red\" height=\"6\" width=\"6\" x=\"153.25\" y=\"90.48148148148148\"/><rect fill=\"red\" height=\"6\" width=\"6\" x=\"153.25\" y=\"88.11111111111111\"/><rect fill=\"red\" height=\"6\" width=\"6\" x=\"153.25\" y=\"85.74074074074075\"/><rect fill=\"red\" height=\"6\" width=\"6\" x=\"153.25\" y=\"83.37037037037038\"/><rect fill=\"red\" height=\"6\" width=\"6\" x=\"293.875\" y=\"111.96774193548387\"/><rect fill=\"red\" height=\"6\" width=\"6\" x=\"293.875\" y=\"110.93548387096774\"/><rect fill=\"red\" height=\"6\" width=\"6\" x=\"293.875\" y=\"109.90322580645162\"/><rect fill=\"red\" height=\"6\" width=\"6\" x=\"293.875\" y=\"108.87096774193549\"/><rect fill=\"red\" height=\"6\" width=\"6\" x=\"293.875\" y=\"107.83870967741936\"/><rect fill=\"red\" height=\"6\" width=\"6\" x=\"293.875\" y=\"106.80645161290323\"/><rect fill=\"red\" height=\"6\" width=\"6\" x=\"293.875\" y=\"105.7741935483871\"/><rect fill=\"red\" height=\"6\" width=\"6\" x=\"293.875\" y=\"104.74193548387098\"/><rect fill=\"red\" height=\"6\" width=\"6\" x=\"293.875\" y=\"103.70967741935485\"/><rect fill=\"red\" height=\"6\" width=\"6\" x=\"293.875\" y=\"102.6774193548387\"/><rect fill=\"red\" height=\"6\" width=\"6\" x=\"293.875\" y=\"101.64516129032258\"/><rect fill=\"red\" height=\"6\" width=\"6\" x=\"293.875\" y=\"100.61290322580645\"/><rect fill=\"red\" height=\"6\" width=\"6\" x=\"293.875\" y=\"99.58064516129032\"/><rect fill=\"red\" height=\"6\" width=\"6\" x=\"293.875\" y=\"98.54838709677419\"/><rect fill=\"red\" height=\"6\" width=\"6\" x=\"293.875\" y=\"97.51612903225806\"/><rect fill=\"red\" height=\"6\" width=\"6\" x=\"293.875\" y=\"96.48387096774194\"/><rect fill=\"red\" height=\"6\" width=\"6\" x=\"293.875\" y=\"95.45161290322581\"/><rect fill=\"red\" height=\"6\" width=\"6\" x=\"293.875\" y=\"94.41935483870968\"/><rect fill=\"red\" height=\"6\" width=\"6\" x=\"293.875\" y=\"93.38709677419355\"/><rect fill=\"red\" height=\"6\" width=\"6\" x=\"293.875\" y=\"92.35483870967742\"/><rect fill=\"red\" height=\"6\" width=\"6\" x=\"293.875\" y=\"91.3225806451613\"/><rect fill=\"red\" height=\"6\" width=\"6\" x=\"293.875\" y=\"90.29032258064515\"/><rect fill=\"red\" height=\"6\" width=\"6\" x=\"293.875\" y=\"89.25806451612902\"/><rect fill=\"red\" height=\"6\" width=\"6\" x=\"293.875\" y=\"88.2258064516129\"/><rect fill=\"red\" height=\"6\" width=\"6\" x=\"293.875\" y=\"87.19354838709677\"/><rect fill=\"red\" height=\"6\" width=\"6\" x=\"293.875\" y=\"86.16129032258064\"/><rect fill=\"red\" height=\"6\" width=\"6\" x=\"293.875\" y=\"85.12903225806451\"/><rect fill=\"red\" height=\"6\" width=\"6\" x=\"293.875\" y=\"84.09677419354838\"/><rect fill=\"red\" height=\"6\" width=\"6\" x=\"293.875\" y=\"83.06451612903226\"/><rect fill=\"red\" height=\"6\" width=\"6\" x=\"293.875\" y=\"82.03225806451613\"/><rect fill=\"red\" height=\"6\" width=\"6\" x=\"122.0\" y=\"166.33333333333334\"/><rect fill=\"red\" height=\"6\" width=\"6\" x=\"122.0\" y=\"155.66666666666666\"/><rect fill=\"red\" height=\"6\" width=\"6\" x=\"309.5\" y=\"169.0\"/><rect fill=\"red\" height=\"6\" width=\"6\" x=\"309.5\" y=\"161.0\"/><rect fill=\"red\" height=\"6\" width=\"6\" x=\"309.5\" y=\"153.0\"/><rect fill=\"red\" height=\"6\" width=\"6\" x=\"340.75\" y=\"129.0\"/><rect fill=\"red\" height=\"6\" width=\"6\" x=\"372.0\" y=\"166.33333333333334\"/><rect fill=\"red\" height=\"6\" width=\"6\" x=\"372.0\" y=\"155.66666666666666\"/></svg>"
      ],
      "text/plain": [
       "<IPython.core.display.SVG object>"
      ]
     },
     "metadata": {},
     "output_type": "display_data"
    },
    {
     "name": "stdout",
     "output_type": "stream",
     "text": [
      "------------------------------------------------------------\n",
      "(2920.7549588740276, 2939.4746969224148)\n"
     ]
    },
    {
     "data": {
      "image/svg+xml": [
       "<svg baseProfile=\"full\" height=\"200\" version=\"1.1\" width=\"500\" xmlns=\"http://www.w3.org/2000/svg\" xmlns:ev=\"http://www.w3.org/2001/xml-events\" xmlns:xlink=\"http://www.w3.org/1999/xlink\"><defs/><g id=\"lines\" stroke=\"black\"><line x1=\"62.5\" x2=\"62.5\" y1=\"180.0\" y2=\"20.0\"/><line x1=\"62.5\" x2=\"138.671875\" y1=\"20.0\" y2=\"20.0\"/><line x1=\"214.84375\" x2=\"214.84375\" y1=\"52.0\" y2=\"20.0\"/><line x1=\"214.84375\" x2=\"138.671875\" y1=\"20.0\" y2=\"20.0\"/><line x1=\"125.0\" x2=\"125.0\" y1=\"180.0\" y2=\"52.0\"/><line x1=\"125.0\" x2=\"214.84375\" y1=\"52.0\" y2=\"52.0\"/><line x1=\"304.6875\" x2=\"304.6875\" y1=\"84.0\" y2=\"52.0\"/><line x1=\"304.6875\" x2=\"214.84375\" y1=\"52.0\" y2=\"52.0\"/><line x1=\"234.375\" x2=\"234.375\" y1=\"116.0\" y2=\"84.0\"/><line x1=\"234.375\" x2=\"304.6875\" y1=\"84.0\" y2=\"84.0\"/><line x1=\"187.5\" x2=\"187.5\" y1=\"180.0\" y2=\"116.0\"/><line x1=\"187.5\" x2=\"234.375\" y1=\"116.0\" y2=\"116.0\"/><line x1=\"281.25\" x2=\"281.25\" y1=\"148.0\" y2=\"116.0\"/><line x1=\"281.25\" x2=\"234.375\" y1=\"116.0\" y2=\"116.0\"/><line x1=\"250.0\" x2=\"250.0\" y1=\"180.0\" y2=\"148.0\"/><line x1=\"250.0\" x2=\"281.25\" y1=\"148.0\" y2=\"148.0\"/><line x1=\"312.5\" x2=\"312.5\" y1=\"180.0\" y2=\"148.0\"/><line x1=\"312.5\" x2=\"281.25\" y1=\"148.0\" y2=\"148.0\"/><line x1=\"375.0\" x2=\"375.0\" y1=\"180.0\" y2=\"84.0\"/><line x1=\"375.0\" x2=\"304.6875\" y1=\"84.0\" y2=\"84.0\"/></g><g font-size=\"14\" text-anchor=\"start\"/><g font-size=\"14\" text-anchor=\"end\"/><g font-size=\"14\" text-anchor=\"middle\"><text x=\"62.5\" y=\"200.0\">ASN1</text><text x=\"125.0\" y=\"200.0\">AFR2</text><text x=\"187.5\" y=\"200.0\">ASN2</text><text x=\"250.0\" y=\"200.0\">EUR1</text><text x=\"312.5\" y=\"200.0\">EUR2</text><text x=\"375.0\" y=\"200.0\">AFR1</text></g><circle cx=\"138.671875\" cy=\"20.0\" fill=\"black\" r=\"3\"/><circle cx=\"62.5\" cy=\"180.0\" fill=\"black\" r=\"3\"/><circle cx=\"214.84375\" cy=\"52.0\" fill=\"black\" r=\"3\"/><circle cx=\"125.0\" cy=\"180.0\" fill=\"black\" r=\"3\"/><circle cx=\"304.6875\" cy=\"84.0\" fill=\"black\" r=\"3\"/><circle cx=\"234.375\" cy=\"116.0\" fill=\"black\" r=\"3\"/><circle cx=\"187.5\" cy=\"180.0\" fill=\"black\" r=\"3\"/><circle cx=\"281.25\" cy=\"148.0\" fill=\"black\" r=\"3\"/><circle cx=\"250.0\" cy=\"180.0\" fill=\"black\" r=\"3\"/><circle cx=\"312.5\" cy=\"180.0\" fill=\"black\" r=\"3\"/><circle cx=\"375.0\" cy=\"180.0\" fill=\"black\" r=\"3\"/><g alignment-baseline=\"middle\" font-size=\"14\" font-style=\"italic\" text-anchor=\"start\"/><g alignment-baseline=\"middle\" font-size=\"14\" font-style=\"italic\" text-anchor=\"end\"/><rect fill=\"red\" height=\"6\" width=\"6\" x=\"211.84375\" y=\"33.0\"/></svg>"
      ],
      "text/plain": [
       "<IPython.core.display.SVG object>"
      ]
     },
     "metadata": {},
     "output_type": "display_data"
    },
    {
     "name": "stdout",
     "output_type": "stream",
     "text": [
      "------------------------------------------------------------\n",
      "(2939.4746969224148, 5000.0)\n"
     ]
    },
    {
     "data": {
      "image/svg+xml": [
       "<svg baseProfile=\"full\" height=\"200\" version=\"1.1\" width=\"500\" xmlns=\"http://www.w3.org/2000/svg\" xmlns:ev=\"http://www.w3.org/2001/xml-events\" xmlns:xlink=\"http://www.w3.org/1999/xlink\"><defs/><g id=\"lines\" stroke=\"black\"><line x1=\"179.6875\" x2=\"179.6875\" y1=\"60.0\" y2=\"20.0\"/><line x1=\"179.6875\" x2=\"261.71875\" y1=\"20.0\" y2=\"20.0\"/><line x1=\"109.375\" x2=\"109.375\" y1=\"100.0\" y2=\"60.0\"/><line x1=\"109.375\" x2=\"179.6875\" y1=\"60.0\" y2=\"60.0\"/><line x1=\"62.5\" x2=\"62.5\" y1=\"180.0\" y2=\"100.0\"/><line x1=\"62.5\" x2=\"109.375\" y1=\"100.0\" y2=\"100.0\"/><line x1=\"156.25\" x2=\"156.25\" y1=\"140.0\" y2=\"100.0\"/><line x1=\"156.25\" x2=\"109.375\" y1=\"100.0\" y2=\"100.0\"/><line x1=\"125.0\" x2=\"125.0\" y1=\"180.0\" y2=\"140.0\"/><line x1=\"125.0\" x2=\"156.25\" y1=\"140.0\" y2=\"140.0\"/><line x1=\"187.5\" x2=\"187.5\" y1=\"180.0\" y2=\"140.0\"/><line x1=\"187.5\" x2=\"156.25\" y1=\"140.0\" y2=\"140.0\"/><line x1=\"250.0\" x2=\"250.0\" y1=\"180.0\" y2=\"60.0\"/><line x1=\"250.0\" x2=\"179.6875\" y1=\"60.0\" y2=\"60.0\"/><line x1=\"343.75\" x2=\"343.75\" y1=\"140.0\" y2=\"20.0\"/><line x1=\"343.75\" x2=\"261.71875\" y1=\"20.0\" y2=\"20.0\"/><line x1=\"312.5\" x2=\"312.5\" y1=\"180.0\" y2=\"140.0\"/><line x1=\"312.5\" x2=\"343.75\" y1=\"140.0\" y2=\"140.0\"/><line x1=\"375.0\" x2=\"375.0\" y1=\"180.0\" y2=\"140.0\"/><line x1=\"375.0\" x2=\"343.75\" y1=\"140.0\" y2=\"140.0\"/></g><g font-size=\"14\" text-anchor=\"start\"/><g font-size=\"14\" text-anchor=\"end\"/><g font-size=\"14\" text-anchor=\"middle\"><text x=\"62.5\" y=\"200.0\">ASN2</text><text x=\"125.0\" y=\"200.0\">EUR1</text><text x=\"187.5\" y=\"200.0\">EUR2</text><text x=\"250.0\" y=\"200.0\">AFR1</text><text x=\"312.5\" y=\"200.0\">AFR2</text><text x=\"375.0\" y=\"200.0\">ASN1</text></g><circle cx=\"261.71875\" cy=\"20.0\" fill=\"black\" r=\"3\"/><circle cx=\"179.6875\" cy=\"60.0\" fill=\"black\" r=\"3\"/><circle cx=\"109.375\" cy=\"100.0\" fill=\"black\" r=\"3\"/><circle cx=\"62.5\" cy=\"180.0\" fill=\"black\" r=\"3\"/><circle cx=\"156.25\" cy=\"140.0\" fill=\"black\" r=\"3\"/><circle cx=\"125.0\" cy=\"180.0\" fill=\"black\" r=\"3\"/><circle cx=\"187.5\" cy=\"180.0\" fill=\"black\" r=\"3\"/><circle cx=\"250.0\" cy=\"180.0\" fill=\"black\" r=\"3\"/><circle cx=\"343.75\" cy=\"140.0\" fill=\"black\" r=\"3\"/><circle cx=\"312.5\" cy=\"180.0\" fill=\"black\" r=\"3\"/><circle cx=\"375.0\" cy=\"180.0\" fill=\"black\" r=\"3\"/><g alignment-baseline=\"middle\" font-size=\"14\" font-style=\"italic\" text-anchor=\"start\"/><g alignment-baseline=\"middle\" font-size=\"14\" font-style=\"italic\" text-anchor=\"end\"/><rect fill=\"red\" height=\"6\" width=\"6\" x=\"106.375\" y=\"94.6470588235294\"/><rect fill=\"red\" height=\"6\" width=\"6\" x=\"106.375\" y=\"92.29411764705883\"/><rect fill=\"red\" height=\"6\" width=\"6\" x=\"106.375\" y=\"89.94117647058823\"/><rect fill=\"red\" height=\"6\" width=\"6\" x=\"106.375\" y=\"87.58823529411765\"/><rect fill=\"red\" height=\"6\" width=\"6\" x=\"106.375\" y=\"85.23529411764706\"/><rect fill=\"red\" height=\"6\" width=\"6\" x=\"106.375\" y=\"82.88235294117646\"/><rect fill=\"red\" height=\"6\" width=\"6\" x=\"106.375\" y=\"80.52941176470588\"/><rect fill=\"red\" height=\"6\" width=\"6\" x=\"106.375\" y=\"78.17647058823529\"/><rect fill=\"red\" height=\"6\" width=\"6\" x=\"106.375\" y=\"75.82352941176471\"/><rect fill=\"red\" height=\"6\" width=\"6\" x=\"106.375\" y=\"73.47058823529412\"/><rect fill=\"red\" height=\"6\" width=\"6\" x=\"106.375\" y=\"71.11764705882354\"/><rect fill=\"red\" height=\"6\" width=\"6\" x=\"106.375\" y=\"68.76470588235294\"/><rect fill=\"red\" height=\"6\" width=\"6\" x=\"106.375\" y=\"66.41176470588235\"/><rect fill=\"red\" height=\"6\" width=\"6\" x=\"106.375\" y=\"64.05882352941177\"/><rect fill=\"red\" height=\"6\" width=\"6\" x=\"106.375\" y=\"61.705882352941174\"/><rect fill=\"red\" height=\"6\" width=\"6\" x=\"106.375\" y=\"59.35294117647059\"/><rect fill=\"red\" height=\"6\" width=\"6\" x=\"372.0\" y=\"173.36363636363637\"/><rect fill=\"red\" height=\"6\" width=\"6\" x=\"372.0\" y=\"169.72727272727272\"/><rect fill=\"red\" height=\"6\" width=\"6\" x=\"372.0\" y=\"166.0909090909091\"/><rect fill=\"red\" height=\"6\" width=\"6\" x=\"372.0\" y=\"162.45454545454547\"/><rect fill=\"red\" height=\"6\" width=\"6\" x=\"372.0\" y=\"158.8181818181818\"/><rect fill=\"red\" height=\"6\" width=\"6\" x=\"372.0\" y=\"155.1818181818182\"/><rect fill=\"red\" height=\"6\" width=\"6\" x=\"372.0\" y=\"151.54545454545456\"/><rect fill=\"red\" height=\"6\" width=\"6\" x=\"372.0\" y=\"147.9090909090909\"/><rect fill=\"red\" height=\"6\" width=\"6\" x=\"372.0\" y=\"144.27272727272728\"/><rect fill=\"red\" height=\"6\" width=\"6\" x=\"372.0\" y=\"140.63636363636363\"/><rect fill=\"red\" height=\"6\" width=\"6\" x=\"309.5\" y=\"173.66666666666666\"/><rect fill=\"red\" height=\"6\" width=\"6\" x=\"309.5\" y=\"170.33333333333334\"/><rect fill=\"red\" height=\"6\" width=\"6\" x=\"309.5\" y=\"167.0\"/><rect fill=\"red\" height=\"6\" width=\"6\" x=\"309.5\" y=\"163.66666666666666\"/><rect fill=\"red\" height=\"6\" width=\"6\" x=\"309.5\" y=\"160.33333333333334\"/><rect fill=\"red\" height=\"6\" width=\"6\" x=\"309.5\" y=\"157.0\"/><rect fill=\"red\" height=\"6\" width=\"6\" x=\"309.5\" y=\"153.66666666666666\"/><rect fill=\"red\" height=\"6\" width=\"6\" x=\"309.5\" y=\"150.33333333333334\"/><rect fill=\"red\" height=\"6\" width=\"6\" x=\"309.5\" y=\"147.0\"/><rect fill=\"red\" height=\"6\" width=\"6\" x=\"309.5\" y=\"143.66666666666666\"/><rect fill=\"red\" height=\"6\" width=\"6\" x=\"309.5\" y=\"140.33333333333331\"/><rect fill=\"red\" height=\"6\" width=\"6\" x=\"153.25\" y=\"130.33333333333334\"/><rect fill=\"red\" height=\"6\" width=\"6\" x=\"153.25\" y=\"123.66666666666667\"/><rect fill=\"red\" height=\"6\" width=\"6\" x=\"153.25\" y=\"117.0\"/><rect fill=\"red\" height=\"6\" width=\"6\" x=\"153.25\" y=\"110.33333333333333\"/><rect fill=\"red\" height=\"6\" width=\"6\" x=\"153.25\" y=\"103.66666666666666\"/><rect fill=\"red\" height=\"6\" width=\"6\" x=\"247.0\" y=\"172.71428571428572\"/><rect fill=\"red\" height=\"6\" width=\"6\" x=\"247.0\" y=\"168.42857142857142\"/><rect fill=\"red\" height=\"6\" width=\"6\" x=\"247.0\" y=\"164.14285714285714\"/><rect fill=\"red\" height=\"6\" width=\"6\" x=\"247.0\" y=\"159.85714285714286\"/><rect fill=\"red\" height=\"6\" width=\"6\" x=\"247.0\" y=\"155.57142857142858\"/><rect fill=\"red\" height=\"6\" width=\"6\" x=\"247.0\" y=\"151.28571428571428\"/><rect fill=\"red\" height=\"6\" width=\"6\" x=\"247.0\" y=\"147.0\"/><rect fill=\"red\" height=\"6\" width=\"6\" x=\"247.0\" y=\"142.71428571428572\"/><rect fill=\"red\" height=\"6\" width=\"6\" x=\"247.0\" y=\"138.42857142857144\"/><rect fill=\"red\" height=\"6\" width=\"6\" x=\"247.0\" y=\"134.14285714285714\"/><rect fill=\"red\" height=\"6\" width=\"6\" x=\"247.0\" y=\"129.85714285714286\"/><rect fill=\"red\" height=\"6\" width=\"6\" x=\"247.0\" y=\"125.57142857142856\"/><rect fill=\"red\" height=\"6\" width=\"6\" x=\"247.0\" y=\"121.28571428571428\"/><rect fill=\"red\" height=\"6\" width=\"6\" x=\"247.0\" y=\"117.0\"/><rect fill=\"red\" height=\"6\" width=\"6\" x=\"247.0\" y=\"112.71428571428572\"/><rect fill=\"red\" height=\"6\" width=\"6\" x=\"247.0\" y=\"108.42857142857143\"/><rect fill=\"red\" height=\"6\" width=\"6\" x=\"247.0\" y=\"104.14285714285714\"/><rect fill=\"red\" height=\"6\" width=\"6\" x=\"247.0\" y=\"99.85714285714286\"/><rect fill=\"red\" height=\"6\" width=\"6\" x=\"247.0\" y=\"95.57142857142857\"/><rect fill=\"red\" height=\"6\" width=\"6\" x=\"247.0\" y=\"91.28571428571429\"/><rect fill=\"red\" height=\"6\" width=\"6\" x=\"247.0\" y=\"87.0\"/><rect fill=\"red\" height=\"6\" width=\"6\" x=\"247.0\" y=\"82.71428571428572\"/><rect fill=\"red\" height=\"6\" width=\"6\" x=\"247.0\" y=\"78.42857142857143\"/><rect fill=\"red\" height=\"6\" width=\"6\" x=\"247.0\" y=\"74.14285714285714\"/><rect fill=\"red\" height=\"6\" width=\"6\" x=\"247.0\" y=\"69.85714285714286\"/><rect fill=\"red\" height=\"6\" width=\"6\" x=\"247.0\" y=\"65.57142857142857\"/><rect fill=\"red\" height=\"6\" width=\"6\" x=\"247.0\" y=\"61.28571428571429\"/><rect fill=\"red\" height=\"6\" width=\"6\" x=\"340.75\" y=\"127.76923076923077\"/><rect fill=\"red\" height=\"6\" width=\"6\" x=\"340.75\" y=\"118.53846153846155\"/><rect fill=\"red\" height=\"6\" width=\"6\" x=\"340.75\" y=\"109.3076923076923\"/><rect fill=\"red\" height=\"6\" width=\"6\" x=\"340.75\" y=\"100.07692307692308\"/><rect fill=\"red\" height=\"6\" width=\"6\" x=\"340.75\" y=\"90.84615384615385\"/><rect fill=\"red\" height=\"6\" width=\"6\" x=\"340.75\" y=\"81.61538461538461\"/><rect fill=\"red\" height=\"6\" width=\"6\" x=\"340.75\" y=\"72.38461538461539\"/><rect fill=\"red\" height=\"6\" width=\"6\" x=\"340.75\" y=\"63.15384615384616\"/><rect fill=\"red\" height=\"6\" width=\"6\" x=\"340.75\" y=\"53.923076923076934\"/><rect fill=\"red\" height=\"6\" width=\"6\" x=\"340.75\" y=\"44.69230769230771\"/><rect fill=\"red\" height=\"6\" width=\"6\" x=\"340.75\" y=\"35.46153846153847\"/><rect fill=\"red\" height=\"6\" width=\"6\" x=\"340.75\" y=\"26.23076923076924\"/><rect fill=\"red\" height=\"6\" width=\"6\" x=\"176.6875\" y=\"49.0\"/><rect fill=\"red\" height=\"6\" width=\"6\" x=\"176.6875\" y=\"41.0\"/><rect fill=\"red\" height=\"6\" width=\"6\" x=\"176.6875\" y=\"33.0\"/><rect fill=\"red\" height=\"6\" width=\"6\" x=\"176.6875\" y=\"25.0\"/><rect fill=\"red\" height=\"6\" width=\"6\" x=\"59.5\" y=\"157.0\"/><rect fill=\"red\" height=\"6\" width=\"6\" x=\"59.5\" y=\"137.0\"/><rect fill=\"red\" height=\"6\" width=\"6\" x=\"59.5\" y=\"117.0\"/><rect fill=\"red\" height=\"6\" width=\"6\" x=\"122.0\" y=\"157.0\"/></svg>"
      ],
      "text/plain": [
       "<IPython.core.display.SVG object>"
      ]
     },
     "metadata": {},
     "output_type": "display_data"
    }
   ],
   "source": [
    "for tree in ooa_inferred_ts.trees():\n",
    "    print(\"---\"*20)\n",
    "    print(tree.get_interval())\n",
    "    display(SVG(tree.draw(mutation_labels={},\n",
    "        node_labels={0:\"AFR1\",1:\"AFR2\", 2:\"EUR1\",3:\"EUR2\",4:\"ASN1\",5:\"ASN2\"},\n",
    "        width=500)))\n",
    "    "
   ]
  },
  {
   "cell_type": "markdown",
   "metadata": {},
   "source": [
    "Note that the correct relationship between the samples was largely captured in the inferred tree sequence, although we have not picked up changes in the date of internal nodes "
   ]
  },
  {
   "cell_type": "markdown",
   "metadata": {
    "colab_type": "text",
    "id": "aIiIJ658ClR2"
   },
   "source": [
    "## *P. vivax* Example\n",
    "\n",
    "We now use tsinfer on real data from the [ *P. vivax* Genome Variation Project](https://www.malariagen.net/projects/p-vivax-genome-variation) containing 228 samples from 13 countries. Joe Zhu ran [Deploid](https://github.com/DEploid-dev/DEploid) on this dataset to identify 124 clonal samples. He then phased and imputed haplotypes for each strain.\n",
    "<br> \n",
    "Since $\\texttt{tsinfer}$ requires ancestral and derived alleles, Wilder used [$\\texttt{Mauve}$](http://darlinglab.org/mauve/mauve.html) to create a multi-species alignment of the *vivax* genome to outgroups *cynomolgi* ([a sister taxon of *vivax*](https://www.ncbi.nlm.nih.gov/pmc/articles/PMC3759362/)) and *knowlesi* (an outgroup of *vivax* and *cynomolgi* ).  A rules-based maximum parsimony approach was used to determine ancestral alleles using this multi-species alignment. Ancestral alleles were only called where the reference call at all three species agreed (~53% of sites), and we only consider these \"high-confidence\" calls. Better ancestral allele determination methods certainly exist, but this is a simple way to get things working.  \n",
    "<br>\n",
    "We have pre-made a SampleData object that $\\texttt{tsinfer}$ requires to run Chromosome 1 of the 124 vivax samples. This avoids the gory details of working with VCFs."
   ]
  },
  {
   "cell_type": "code",
   "execution_count": 7,
   "metadata": {},
   "outputs": [],
   "source": [
    "vivax_sample_data = tsinfer.load(\"data/clonal_vivax.samples\")"
   ]
  },
  {
   "cell_type": "code",
   "execution_count": 5,
   "metadata": {},
   "outputs": [
    {
     "name": "stdout",
     "output_type": "stream",
     "text": [
      "path                  = data/clonal_vivax.samples\n",
      "file_size             = 128.0 KiB\n",
      "format_name           = tsinfer-sample-data\n",
      "format_version        = (1, 0)\n",
      "finalised             = True\n",
      "uuid                  = 5d355dfb-e35d-47b4-bfcf-5727e6e31ed1\n",
      "num_provenances       = 0\n",
      "provenances/timestamp = shape=(0,); dtype=object;\n",
      "provenances/record    = shape=(0,); dtype=object;\n",
      "sequence_length       = 789250.0\n",
      "num_populations       = 15\n",
      "num_individuals       = 124\n",
      "num_samples           = 124\n",
      "num_sites             = 6087\n",
      "num_inference_sites   = 1896\n",
      "populations/metadata  = shape=(15,); dtype=object;\n",
      "individuals/metadata  = shape=(124,); dtype=object;\n",
      "individuals/location  = shape=(124,); dtype=object;\n",
      "samples/individual    = shape=(124,); dtype=int32;uncompressed size=496 Bytes\n",
      "samples/population    = shape=(124,); dtype=int32;uncompressed size=496 Bytes\n",
      "samples/metadata      = shape=(124,); dtype=object;\n",
      "sites/position        = shape=(6087,); dtype=float64;uncompressed size=48.7 kB\n",
      "sites/alleles         = shape=(6087,); dtype=object;\n",
      "sites/inference       = shape=(6087,); dtype=uint8;uncompressed size=6.1 kB\n",
      "sites/genotypes       = shape=(6087, 124); dtype=uint8;uncompressed size=754.8 kB\n",
      "sites/metadata        = shape=(6087,); dtype=object;\n",
      "\n"
     ]
    }
   ],
   "source": [
    "print(vivax_sample_data)"
   ]
  },
  {
   "cell_type": "markdown",
   "metadata": {},
   "source": [
    "Now let's infer the tree sequence:"
   ]
  },
  {
   "cell_type": "code",
   "execution_count": 6,
   "metadata": {},
   "outputs": [
    {
     "data": {
      "text/plain": [
       "1475"
      ]
     },
     "execution_count": 6,
     "metadata": {},
     "output_type": "execute_result"
    }
   ],
   "source": [
    "vivax_inferred_ts = tsinfer.infer(vivax_sample_data)\n",
    "vivax_inferred_ts.num_trees"
   ]
  },
  {
   "cell_type": "markdown",
   "metadata": {},
   "source": [
    "Now let's visualise the first of the 1475 inferred marginal trees."
   ]
  },
  {
   "cell_type": "code",
   "execution_count": 29,
   "metadata": {},
   "outputs": [
    {
     "data": {
      "image/svg+xml": [
       "<svg baseProfile=\"full\" height=\"200\" version=\"1.1\" width=\"500\" xmlns=\"http://www.w3.org/2000/svg\" xmlns:ev=\"http://www.w3.org/2001/xml-events\" xmlns:xlink=\"http://www.w3.org/1999/xlink\"><defs/><g id=\"lines\" stroke=\"black\"><line x1=\"3.9682539682539684\" x2=\"3.9682539682539684\" y1=\"180.0\" y2=\"20.0\"/><line x1=\"3.9682539682539684\" x2=\"127.61966765873018\" y1=\"20.0\" y2=\"20.0\"/><line x1=\"7.936507936507937\" x2=\"7.936507936507937\" y1=\"180.0\" y2=\"20.0\"/><line x1=\"7.936507936507937\" x2=\"127.61966765873018\" y1=\"20.0\" y2=\"20.0\"/><line x1=\"11.904761904761905\" x2=\"11.904761904761905\" y1=\"180.0\" y2=\"20.0\"/><line x1=\"11.904761904761905\" x2=\"127.61966765873018\" y1=\"20.0\" y2=\"20.0\"/><line x1=\"15.873015873015873\" x2=\"15.873015873015873\" y1=\"180.0\" y2=\"20.0\"/><line x1=\"15.873015873015873\" x2=\"127.61966765873018\" y1=\"20.0\" y2=\"20.0\"/><line x1=\"19.841269841269842\" x2=\"19.841269841269842\" y1=\"180.0\" y2=\"20.0\"/><line x1=\"19.841269841269842\" x2=\"127.61966765873018\" y1=\"20.0\" y2=\"20.0\"/><line x1=\"23.80952380952381\" x2=\"23.80952380952381\" y1=\"180.0\" y2=\"20.0\"/><line x1=\"23.80952380952381\" x2=\"127.61966765873018\" y1=\"20.0\" y2=\"20.0\"/><line x1=\"27.77777777777778\" x2=\"27.77777777777778\" y1=\"180.0\" y2=\"20.0\"/><line x1=\"27.77777777777778\" x2=\"127.61966765873018\" y1=\"20.0\" y2=\"20.0\"/><line x1=\"31.746031746031747\" x2=\"31.746031746031747\" y1=\"180.0\" y2=\"20.0\"/><line x1=\"31.746031746031747\" x2=\"127.61966765873018\" y1=\"20.0\" y2=\"20.0\"/><line x1=\"35.714285714285715\" x2=\"35.714285714285715\" y1=\"180.0\" y2=\"20.0\"/><line x1=\"35.714285714285715\" x2=\"127.61966765873018\" y1=\"20.0\" y2=\"20.0\"/><line x1=\"39.682539682539684\" x2=\"39.682539682539684\" y1=\"180.0\" y2=\"20.0\"/><line x1=\"39.682539682539684\" x2=\"127.61966765873018\" y1=\"20.0\" y2=\"20.0\"/><line x1=\"45.63492063492063\" x2=\"45.63492063492063\" y1=\"178.33333333333334\" y2=\"20.0\"/><line x1=\"45.63492063492063\" x2=\"127.61966765873018\" y1=\"20.0\" y2=\"20.0\"/><line x1=\"43.65079365079365\" x2=\"43.65079365079365\" y1=\"180.0\" y2=\"178.33333333333334\"/><line x1=\"43.65079365079365\" x2=\"45.63492063492063\" y1=\"178.33333333333334\" y2=\"178.33333333333334\"/><line x1=\"47.61904761904762\" x2=\"47.61904761904762\" y1=\"180.0\" y2=\"178.33333333333334\"/><line x1=\"47.61904761904762\" x2=\"45.63492063492063\" y1=\"178.33333333333334\" y2=\"178.33333333333334\"/><line x1=\"55.55555555555556\" x2=\"55.55555555555556\" y1=\"176.66666666666666\" y2=\"20.0\"/><line x1=\"55.55555555555556\" x2=\"127.61966765873018\" y1=\"20.0\" y2=\"20.0\"/><line x1=\"51.58730158730159\" x2=\"51.58730158730159\" y1=\"180.0\" y2=\"176.66666666666666\"/><line x1=\"51.58730158730159\" x2=\"55.55555555555556\" y1=\"176.66666666666666\" y2=\"176.66666666666666\"/><line x1=\"55.55555555555556\" x2=\"55.55555555555556\" y1=\"180.0\" y2=\"176.66666666666666\"/><line x1=\"55.55555555555556\" x2=\"55.55555555555556\" y1=\"176.66666666666666\" y2=\"176.66666666666666\"/><line x1=\"59.523809523809526\" x2=\"59.523809523809526\" y1=\"180.0\" y2=\"176.66666666666666\"/><line x1=\"59.523809523809526\" x2=\"55.55555555555556\" y1=\"176.66666666666666\" y2=\"176.66666666666666\"/><line x1=\"67.46031746031747\" x2=\"67.46031746031747\" y1=\"176.66666666666666\" y2=\"20.0\"/><line x1=\"67.46031746031747\" x2=\"127.61966765873018\" y1=\"20.0\" y2=\"20.0\"/><line x1=\"63.492063492063494\" x2=\"63.492063492063494\" y1=\"180.0\" y2=\"176.66666666666666\"/><line x1=\"63.492063492063494\" x2=\"67.46031746031747\" y1=\"176.66666666666666\" y2=\"176.66666666666666\"/><line x1=\"67.46031746031747\" x2=\"67.46031746031747\" y1=\"180.0\" y2=\"176.66666666666666\"/><line x1=\"67.46031746031747\" x2=\"67.46031746031747\" y1=\"176.66666666666666\" y2=\"176.66666666666666\"/><line x1=\"71.42857142857143\" x2=\"71.42857142857143\" y1=\"180.0\" y2=\"176.66666666666666\"/><line x1=\"71.42857142857143\" x2=\"67.46031746031747\" y1=\"176.66666666666666\" y2=\"176.66666666666666\"/><line x1=\"81.34920634920636\" x2=\"81.34920634920636\" y1=\"175.0\" y2=\"20.0\"/><line x1=\"81.34920634920636\" x2=\"127.61966765873018\" y1=\"20.0\" y2=\"20.0\"/><line x1=\"75.39682539682539\" x2=\"75.39682539682539\" y1=\"180.0\" y2=\"175.0\"/><line x1=\"75.39682539682539\" x2=\"81.34920634920636\" y1=\"175.0\" y2=\"175.0\"/><line x1=\"79.36507936507937\" x2=\"79.36507936507937\" y1=\"180.0\" y2=\"175.0\"/><line x1=\"79.36507936507937\" x2=\"81.34920634920636\" y1=\"175.0\" y2=\"175.0\"/><line x1=\"83.33333333333334\" x2=\"83.33333333333334\" y1=\"180.0\" y2=\"175.0\"/><line x1=\"83.33333333333334\" x2=\"81.34920634920636\" y1=\"175.0\" y2=\"175.0\"/><line x1=\"87.3015873015873\" x2=\"87.3015873015873\" y1=\"180.0\" y2=\"175.0\"/><line x1=\"87.3015873015873\" x2=\"81.34920634920636\" y1=\"175.0\" y2=\"175.0\"/><line x1=\"251.27108134920638\" x2=\"251.27108134920638\" y1=\"83.33333333333333\" y2=\"20.0\"/><line x1=\"251.27108134920638\" x2=\"127.61966765873018\" y1=\"20.0\" y2=\"20.0\"/><line x1=\"176.09126984126985\" x2=\"176.09126984126985\" y1=\"101.66666666666666\" y2=\"83.33333333333333\"/><line x1=\"176.09126984126985\" x2=\"251.27108134920638\" y1=\"83.33333333333333\" y2=\"83.33333333333333\"/><line x1=\"91.26984126984127\" x2=\"91.26984126984127\" y1=\"180.0\" y2=\"101.66666666666666\"/><line x1=\"91.26984126984127\" x2=\"176.09126984126985\" y1=\"101.66666666666666\" y2=\"101.66666666666666\"/><line x1=\"95.23809523809524\" x2=\"95.23809523809524\" y1=\"180.0\" y2=\"101.66666666666666\"/><line x1=\"95.23809523809524\" x2=\"176.09126984126985\" y1=\"101.66666666666666\" y2=\"101.66666666666666\"/><line x1=\"99.20634920634922\" x2=\"99.20634920634922\" y1=\"180.0\" y2=\"101.66666666666666\"/><line x1=\"99.20634920634922\" x2=\"176.09126984126985\" y1=\"101.66666666666666\" y2=\"101.66666666666666\"/><line x1=\"103.17460317460318\" x2=\"103.17460317460318\" y1=\"180.0\" y2=\"101.66666666666666\"/><line x1=\"103.17460317460318\" x2=\"176.09126984126985\" y1=\"101.66666666666666\" y2=\"101.66666666666666\"/><line x1=\"107.14285714285714\" x2=\"107.14285714285714\" y1=\"180.0\" y2=\"101.66666666666666\"/><line x1=\"107.14285714285714\" x2=\"176.09126984126985\" y1=\"101.66666666666666\" y2=\"101.66666666666666\"/><line x1=\"111.11111111111111\" x2=\"111.11111111111111\" y1=\"180.0\" y2=\"101.66666666666666\"/><line x1=\"111.11111111111111\" x2=\"176.09126984126985\" y1=\"101.66666666666666\" y2=\"101.66666666666666\"/><line x1=\"115.07936507936509\" x2=\"115.07936507936509\" y1=\"180.0\" y2=\"101.66666666666666\"/><line x1=\"115.07936507936509\" x2=\"176.09126984126985\" y1=\"101.66666666666666\" y2=\"101.66666666666666\"/><line x1=\"119.04761904761905\" x2=\"119.04761904761905\" y1=\"180.0\" y2=\"101.66666666666666\"/><line x1=\"119.04761904761905\" x2=\"176.09126984126985\" y1=\"101.66666666666666\" y2=\"101.66666666666666\"/><line x1=\"123.01587301587301\" x2=\"123.01587301587301\" y1=\"180.0\" y2=\"101.66666666666666\"/><line x1=\"123.01587301587301\" x2=\"176.09126984126985\" y1=\"101.66666666666666\" y2=\"101.66666666666666\"/><line x1=\"126.98412698412699\" x2=\"126.98412698412699\" y1=\"180.0\" y2=\"101.66666666666666\"/><line x1=\"126.98412698412699\" x2=\"176.09126984126985\" y1=\"101.66666666666666\" y2=\"101.66666666666666\"/><line x1=\"130.95238095238096\" x2=\"130.95238095238096\" y1=\"180.0\" y2=\"101.66666666666666\"/><line x1=\"130.95238095238096\" x2=\"176.09126984126985\" y1=\"101.66666666666666\" y2=\"101.66666666666666\"/><line x1=\"134.92063492063494\" x2=\"134.92063492063494\" y1=\"180.0\" y2=\"101.66666666666666\"/><line x1=\"134.92063492063494\" x2=\"176.09126984126985\" y1=\"101.66666666666666\" y2=\"101.66666666666666\"/><line x1=\"138.88888888888889\" x2=\"138.88888888888889\" y1=\"180.0\" y2=\"101.66666666666666\"/><line x1=\"138.88888888888889\" x2=\"176.09126984126985\" y1=\"101.66666666666666\" y2=\"101.66666666666666\"/><line x1=\"142.85714285714286\" x2=\"142.85714285714286\" y1=\"180.0\" y2=\"101.66666666666666\"/><line x1=\"142.85714285714286\" x2=\"176.09126984126985\" y1=\"101.66666666666666\" y2=\"101.66666666666666\"/><line x1=\"146.82539682539684\" x2=\"146.82539682539684\" y1=\"180.0\" y2=\"101.66666666666666\"/><line x1=\"146.82539682539684\" x2=\"176.09126984126985\" y1=\"101.66666666666666\" y2=\"101.66666666666666\"/><line x1=\"150.79365079365078\" x2=\"150.79365079365078\" y1=\"180.0\" y2=\"101.66666666666666\"/><line x1=\"150.79365079365078\" x2=\"176.09126984126985\" y1=\"101.66666666666666\" y2=\"101.66666666666666\"/><line x1=\"154.76190476190476\" x2=\"154.76190476190476\" y1=\"180.0\" y2=\"101.66666666666666\"/><line x1=\"154.76190476190476\" x2=\"176.09126984126985\" y1=\"101.66666666666666\" y2=\"101.66666666666666\"/><line x1=\"158.73015873015873\" x2=\"158.73015873015873\" y1=\"180.0\" y2=\"101.66666666666666\"/><line x1=\"158.73015873015873\" x2=\"176.09126984126985\" y1=\"101.66666666666666\" y2=\"101.66666666666666\"/><line x1=\"168.65079365079367\" x2=\"168.65079365079367\" y1=\"178.33333333333334\" y2=\"101.66666666666666\"/><line x1=\"168.65079365079367\" x2=\"176.09126984126985\" y1=\"101.66666666666666\" y2=\"101.66666666666666\"/><line x1=\"162.6984126984127\" x2=\"162.6984126984127\" y1=\"180.0\" y2=\"178.33333333333334\"/><line x1=\"162.6984126984127\" x2=\"168.65079365079367\" y1=\"178.33333333333334\" y2=\"178.33333333333334\"/><line x1=\"166.66666666666669\" x2=\"166.66666666666669\" y1=\"180.0\" y2=\"178.33333333333334\"/><line x1=\"166.66666666666669\" x2=\"168.65079365079367\" y1=\"178.33333333333334\" y2=\"178.33333333333334\"/><line x1=\"170.63492063492063\" x2=\"170.63492063492063\" y1=\"180.0\" y2=\"178.33333333333334\"/><line x1=\"170.63492063492063\" x2=\"168.65079365079367\" y1=\"178.33333333333334\" y2=\"178.33333333333334\"/><line x1=\"174.6031746031746\" x2=\"174.6031746031746\" y1=\"180.0\" y2=\"178.33333333333334\"/><line x1=\"174.6031746031746\" x2=\"168.65079365079367\" y1=\"178.33333333333334\" y2=\"178.33333333333334\"/><line x1=\"180.55555555555554\" x2=\"180.55555555555554\" y1=\"178.33333333333334\" y2=\"101.66666666666666\"/><line x1=\"180.55555555555554\" x2=\"176.09126984126985\" y1=\"101.66666666666666\" y2=\"101.66666666666666\"/><line x1=\"178.57142857142858\" x2=\"178.57142857142858\" y1=\"180.0\" y2=\"178.33333333333334\"/><line x1=\"178.57142857142858\" x2=\"180.55555555555554\" y1=\"178.33333333333334\" y2=\"178.33333333333334\"/><line x1=\"182.53968253968253\" x2=\"182.53968253968253\" y1=\"180.0\" y2=\"178.33333333333334\"/><line x1=\"182.53968253968253\" x2=\"180.55555555555554\" y1=\"178.33333333333334\" y2=\"178.33333333333334\"/><line x1=\"188.4920634920635\" x2=\"188.4920634920635\" y1=\"178.33333333333334\" y2=\"101.66666666666666\"/><line x1=\"188.4920634920635\" x2=\"176.09126984126985\" y1=\"101.66666666666666\" y2=\"101.66666666666666\"/><line x1=\"186.5079365079365\" x2=\"186.5079365079365\" y1=\"180.0\" y2=\"178.33333333333334\"/><line x1=\"186.5079365079365\" x2=\"188.4920634920635\" y1=\"178.33333333333334\" y2=\"178.33333333333334\"/><line x1=\"190.47619047619048\" x2=\"190.47619047619048\" y1=\"180.0\" y2=\"178.33333333333334\"/><line x1=\"190.47619047619048\" x2=\"188.4920634920635\" y1=\"178.33333333333334\" y2=\"178.33333333333334\"/><line x1=\"196.42857142857144\" x2=\"196.42857142857144\" y1=\"176.66666666666666\" y2=\"101.66666666666666\"/><line x1=\"196.42857142857144\" x2=\"176.09126984126985\" y1=\"101.66666666666666\" y2=\"101.66666666666666\"/><line x1=\"194.44444444444446\" x2=\"194.44444444444446\" y1=\"180.0\" y2=\"176.66666666666666\"/><line x1=\"194.44444444444446\" x2=\"196.42857142857144\" y1=\"176.66666666666666\" y2=\"176.66666666666666\"/><line x1=\"198.41269841269843\" x2=\"198.41269841269843\" y1=\"180.0\" y2=\"176.66666666666666\"/><line x1=\"198.41269841269843\" x2=\"196.42857142857144\" y1=\"176.66666666666666\" y2=\"176.66666666666666\"/><line x1=\"210.3174603174603\" x2=\"210.3174603174603\" y1=\"166.66666666666666\" y2=\"101.66666666666666\"/><line x1=\"210.3174603174603\" x2=\"176.09126984126985\" y1=\"101.66666666666666\" y2=\"101.66666666666666\"/><line x1=\"202.38095238095238\" x2=\"202.38095238095238\" y1=\"180.0\" y2=\"166.66666666666666\"/><line x1=\"202.38095238095238\" x2=\"210.3174603174603\" y1=\"166.66666666666666\" y2=\"166.66666666666666\"/><line x1=\"206.34920634920636\" x2=\"206.34920634920636\" y1=\"180.0\" y2=\"166.66666666666666\"/><line x1=\"206.34920634920636\" x2=\"210.3174603174603\" y1=\"166.66666666666666\" y2=\"166.66666666666666\"/><line x1=\"210.31746031746033\" x2=\"210.31746031746033\" y1=\"180.0\" y2=\"166.66666666666666\"/><line x1=\"210.31746031746033\" x2=\"210.3174603174603\" y1=\"166.66666666666666\" y2=\"166.66666666666666\"/><line x1=\"214.28571428571428\" x2=\"214.28571428571428\" y1=\"180.0\" y2=\"166.66666666666666\"/><line x1=\"214.28571428571428\" x2=\"210.3174603174603\" y1=\"166.66666666666666\" y2=\"166.66666666666666\"/><line x1=\"218.25396825396825\" x2=\"218.25396825396825\" y1=\"180.0\" y2=\"166.66666666666666\"/><line x1=\"218.25396825396825\" x2=\"210.3174603174603\" y1=\"166.66666666666666\" y2=\"166.66666666666666\"/><line x1=\"229.16666666666669\" x2=\"229.16666666666669\" y1=\"161.66666666666666\" y2=\"101.66666666666666\"/><line x1=\"229.16666666666669\" x2=\"176.09126984126985\" y1=\"101.66666666666666\" y2=\"101.66666666666666\"/><line x1=\"222.22222222222223\" x2=\"222.22222222222223\" y1=\"180.0\" y2=\"161.66666666666666\"/><line x1=\"222.22222222222223\" x2=\"229.16666666666669\" y1=\"161.66666666666666\" y2=\"161.66666666666666\"/><line x1=\"226.1904761904762\" x2=\"226.1904761904762\" y1=\"180.0\" y2=\"161.66666666666666\"/><line x1=\"226.1904761904762\" x2=\"229.16666666666669\" y1=\"161.66666666666666\" y2=\"161.66666666666666\"/><line x1=\"230.15873015873018\" x2=\"230.15873015873018\" y1=\"180.0\" y2=\"161.66666666666666\"/><line x1=\"230.15873015873018\" x2=\"229.16666666666669\" y1=\"161.66666666666666\" y2=\"161.66666666666666\"/><line x1=\"236.11111111111111\" x2=\"236.11111111111111\" y1=\"178.33333333333334\" y2=\"161.66666666666666\"/><line x1=\"236.11111111111111\" x2=\"229.16666666666669\" y1=\"161.66666666666666\" y2=\"161.66666666666666\"/><line x1=\"234.12698412698413\" x2=\"234.12698412698413\" y1=\"180.0\" y2=\"178.33333333333334\"/><line x1=\"234.12698412698413\" x2=\"236.11111111111111\" y1=\"178.33333333333334\" y2=\"178.33333333333334\"/><line x1=\"238.0952380952381\" x2=\"238.0952380952381\" y1=\"180.0\" y2=\"178.33333333333334\"/><line x1=\"238.0952380952381\" x2=\"236.11111111111111\" y1=\"178.33333333333334\" y2=\"178.33333333333334\"/><line x1=\"260.91269841269843\" x2=\"260.91269841269843\" y1=\"158.33333333333334\" y2=\"101.66666666666666\"/><line x1=\"260.91269841269843\" x2=\"176.09126984126985\" y1=\"101.66666666666666\" y2=\"101.66666666666666\"/><line x1=\"242.06349206349208\" x2=\"242.06349206349208\" y1=\"180.0\" y2=\"158.33333333333334\"/><line x1=\"242.06349206349208\" x2=\"260.91269841269843\" y1=\"158.33333333333334\" y2=\"158.33333333333334\"/><line x1=\"246.03174603174602\" x2=\"246.03174603174602\" y1=\"180.0\" y2=\"158.33333333333334\"/><line x1=\"246.03174603174602\" x2=\"260.91269841269843\" y1=\"158.33333333333334\" y2=\"158.33333333333334\"/><line x1=\"250.0\" x2=\"250.0\" y1=\"180.0\" y2=\"158.33333333333334\"/><line x1=\"250.0\" x2=\"260.91269841269843\" y1=\"158.33333333333334\" y2=\"158.33333333333334\"/><line x1=\"255.95238095238096\" x2=\"255.95238095238096\" y1=\"178.33333333333334\" y2=\"158.33333333333334\"/><line x1=\"255.95238095238096\" x2=\"260.91269841269843\" y1=\"158.33333333333334\" y2=\"158.33333333333334\"/><line x1=\"253.96825396825398\" x2=\"253.96825396825398\" y1=\"180.0\" y2=\"178.33333333333334\"/><line x1=\"253.96825396825398\" x2=\"255.95238095238096\" y1=\"178.33333333333334\" y2=\"178.33333333333334\"/><line x1=\"257.93650793650795\" x2=\"257.93650793650795\" y1=\"180.0\" y2=\"178.33333333333334\"/><line x1=\"257.93650793650795\" x2=\"255.95238095238096\" y1=\"178.33333333333334\" y2=\"178.33333333333334\"/><line x1=\"267.8571428571429\" x2=\"267.8571428571429\" y1=\"176.66666666666666\" y2=\"158.33333333333334\"/><line x1=\"267.8571428571429\" x2=\"260.91269841269843\" y1=\"158.33333333333334\" y2=\"158.33333333333334\"/><line x1=\"261.9047619047619\" x2=\"261.9047619047619\" y1=\"180.0\" y2=\"176.66666666666666\"/><line x1=\"261.9047619047619\" x2=\"267.8571428571429\" y1=\"176.66666666666666\" y2=\"176.66666666666666\"/><line x1=\"265.8730158730159\" x2=\"265.8730158730159\" y1=\"180.0\" y2=\"176.66666666666666\"/><line x1=\"265.8730158730159\" x2=\"267.8571428571429\" y1=\"176.66666666666666\" y2=\"176.66666666666666\"/><line x1=\"269.8412698412699\" x2=\"269.8412698412699\" y1=\"180.0\" y2=\"176.66666666666666\"/><line x1=\"269.8412698412699\" x2=\"267.8571428571429\" y1=\"176.66666666666666\" y2=\"176.66666666666666\"/><line x1=\"273.8095238095238\" x2=\"273.8095238095238\" y1=\"180.0\" y2=\"176.66666666666666\"/><line x1=\"273.8095238095238\" x2=\"267.8571428571429\" y1=\"176.66666666666666\" y2=\"176.66666666666666\"/><line x1=\"279.76190476190476\" x2=\"279.76190476190476\" y1=\"168.33333333333334\" y2=\"158.33333333333334\"/><line x1=\"279.76190476190476\" x2=\"260.91269841269843\" y1=\"158.33333333333334\" y2=\"158.33333333333334\"/><line x1=\"277.77777777777777\" x2=\"277.77777777777777\" y1=\"180.0\" y2=\"168.33333333333334\"/><line x1=\"277.77777777777777\" x2=\"279.76190476190476\" y1=\"168.33333333333334\" y2=\"168.33333333333334\"/><line x1=\"281.74603174603175\" x2=\"281.74603174603175\" y1=\"180.0\" y2=\"168.33333333333334\"/><line x1=\"281.74603174603175\" x2=\"279.76190476190476\" y1=\"168.33333333333334\" y2=\"168.33333333333334\"/><line x1=\"326.4508928571429\" x2=\"326.4508928571429\" y1=\"88.33333333333333\" y2=\"83.33333333333333\"/><line x1=\"326.4508928571429\" x2=\"251.27108134920638\" y1=\"83.33333333333333\" y2=\"83.33333333333333\"/><line x1=\"287.6984126984127\" x2=\"287.6984126984127\" y1=\"178.33333333333334\" y2=\"88.33333333333333\"/><line x1=\"287.6984126984127\" x2=\"326.4508928571429\" y1=\"88.33333333333333\" y2=\"88.33333333333333\"/><line x1=\"285.7142857142857\" x2=\"285.7142857142857\" y1=\"180.0\" y2=\"178.33333333333334\"/><line x1=\"285.7142857142857\" x2=\"287.6984126984127\" y1=\"178.33333333333334\" y2=\"178.33333333333334\"/><line x1=\"289.6825396825397\" x2=\"289.6825396825397\" y1=\"180.0\" y2=\"178.33333333333334\"/><line x1=\"289.6825396825397\" x2=\"287.6984126984127\" y1=\"178.33333333333334\" y2=\"178.33333333333334\"/><line x1=\"365.203373015873\" x2=\"365.203373015873\" y1=\"100.0\" y2=\"88.33333333333333\"/><line x1=\"365.203373015873\" x2=\"326.4508928571429\" y1=\"88.33333333333333\" y2=\"88.33333333333333\"/><line x1=\"293.6507936507937\" x2=\"293.6507936507937\" y1=\"180.0\" y2=\"100.0\"/><line x1=\"293.6507936507937\" x2=\"365.203373015873\" y1=\"100.0\" y2=\"100.0\"/><line x1=\"297.61904761904765\" x2=\"297.61904761904765\" y1=\"180.0\" y2=\"100.0\"/><line x1=\"297.61904761904765\" x2=\"365.203373015873\" y1=\"100.0\" y2=\"100.0\"/><line x1=\"301.58730158730157\" x2=\"301.58730158730157\" y1=\"180.0\" y2=\"100.0\"/><line x1=\"301.58730158730157\" x2=\"365.203373015873\" y1=\"100.0\" y2=\"100.0\"/><line x1=\"305.55555555555554\" x2=\"305.55555555555554\" y1=\"180.0\" y2=\"100.0\"/><line x1=\"305.55555555555554\" x2=\"365.203373015873\" y1=\"100.0\" y2=\"100.0\"/><line x1=\"309.5238095238095\" x2=\"309.5238095238095\" y1=\"180.0\" y2=\"100.0\"/><line x1=\"309.5238095238095\" x2=\"365.203373015873\" y1=\"100.0\" y2=\"100.0\"/><line x1=\"313.4920634920635\" x2=\"313.4920634920635\" y1=\"180.0\" y2=\"100.0\"/><line x1=\"313.4920634920635\" x2=\"365.203373015873\" y1=\"100.0\" y2=\"100.0\"/><line x1=\"317.46031746031747\" x2=\"317.46031746031747\" y1=\"180.0\" y2=\"100.0\"/><line x1=\"317.46031746031747\" x2=\"365.203373015873\" y1=\"100.0\" y2=\"100.0\"/><line x1=\"321.42857142857144\" x2=\"321.42857142857144\" y1=\"180.0\" y2=\"100.0\"/><line x1=\"321.42857142857144\" x2=\"365.203373015873\" y1=\"100.0\" y2=\"100.0\"/><line x1=\"325.3968253968254\" x2=\"325.3968253968254\" y1=\"180.0\" y2=\"100.0\"/><line x1=\"325.3968253968254\" x2=\"365.203373015873\" y1=\"100.0\" y2=\"100.0\"/><line x1=\"329.3650793650794\" x2=\"329.3650793650794\" y1=\"180.0\" y2=\"100.0\"/><line x1=\"329.3650793650794\" x2=\"365.203373015873\" y1=\"100.0\" y2=\"100.0\"/><line x1=\"333.33333333333337\" x2=\"333.33333333333337\" y1=\"180.0\" y2=\"100.0\"/><line x1=\"333.33333333333337\" x2=\"365.203373015873\" y1=\"100.0\" y2=\"100.0\"/><line x1=\"339.2857142857143\" x2=\"339.2857142857143\" y1=\"178.33333333333334\" y2=\"100.0\"/><line x1=\"339.2857142857143\" x2=\"365.203373015873\" y1=\"100.0\" y2=\"100.0\"/><line x1=\"337.3015873015873\" x2=\"337.3015873015873\" y1=\"180.0\" y2=\"178.33333333333334\"/><line x1=\"337.3015873015873\" x2=\"339.2857142857143\" y1=\"178.33333333333334\" y2=\"178.33333333333334\"/><line x1=\"341.26984126984127\" x2=\"341.26984126984127\" y1=\"180.0\" y2=\"178.33333333333334\"/><line x1=\"341.26984126984127\" x2=\"339.2857142857143\" y1=\"178.33333333333334\" y2=\"178.33333333333334\"/><line x1=\"347.22222222222223\" x2=\"347.22222222222223\" y1=\"178.33333333333334\" y2=\"100.0\"/><line x1=\"347.22222222222223\" x2=\"365.203373015873\" y1=\"100.0\" y2=\"100.0\"/><line x1=\"345.23809523809524\" x2=\"345.23809523809524\" y1=\"180.0\" y2=\"178.33333333333334\"/><line x1=\"345.23809523809524\" x2=\"347.22222222222223\" y1=\"178.33333333333334\" y2=\"178.33333333333334\"/><line x1=\"349.2063492063492\" x2=\"349.2063492063492\" y1=\"180.0\" y2=\"178.33333333333334\"/><line x1=\"349.2063492063492\" x2=\"347.22222222222223\" y1=\"178.33333333333334\" y2=\"178.33333333333334\"/><line x1=\"355.1587301587302\" x2=\"355.1587301587302\" y1=\"176.66666666666666\" y2=\"100.0\"/><line x1=\"355.1587301587302\" x2=\"365.203373015873\" y1=\"100.0\" y2=\"100.0\"/><line x1=\"353.1746031746032\" x2=\"353.1746031746032\" y1=\"180.0\" y2=\"176.66666666666666\"/><line x1=\"353.1746031746032\" x2=\"355.1587301587302\" y1=\"176.66666666666666\" y2=\"176.66666666666666\"/><line x1=\"357.14285714285717\" x2=\"357.14285714285717\" y1=\"180.0\" y2=\"176.66666666666666\"/><line x1=\"357.14285714285717\" x2=\"355.1587301587302\" y1=\"176.66666666666666\" y2=\"176.66666666666666\"/><line x1=\"365.07936507936506\" x2=\"365.07936507936506\" y1=\"173.33333333333334\" y2=\"100.0\"/><line x1=\"365.07936507936506\" x2=\"365.203373015873\" y1=\"100.0\" y2=\"100.0\"/><line x1=\"361.11111111111114\" x2=\"361.11111111111114\" y1=\"180.0\" y2=\"173.33333333333334\"/><line x1=\"361.11111111111114\" x2=\"365.07936507936506\" y1=\"173.33333333333334\" y2=\"173.33333333333334\"/><line x1=\"365.07936507936506\" x2=\"365.07936507936506\" y1=\"180.0\" y2=\"173.33333333333334\"/><line x1=\"365.07936507936506\" x2=\"365.07936507936506\" y1=\"173.33333333333334\" y2=\"173.33333333333334\"/><line x1=\"369.04761904761904\" x2=\"369.04761904761904\" y1=\"180.0\" y2=\"173.33333333333334\"/><line x1=\"369.04761904761904\" x2=\"365.07936507936506\" y1=\"173.33333333333334\" y2=\"173.33333333333334\"/><line x1=\"378.47222222222223\" x2=\"378.47222222222223\" y1=\"168.33333333333334\" y2=\"100.0\"/><line x1=\"378.47222222222223\" x2=\"365.203373015873\" y1=\"100.0\" y2=\"100.0\"/><line x1=\"373.015873015873\" x2=\"373.015873015873\" y1=\"180.0\" y2=\"168.33333333333334\"/><line x1=\"373.015873015873\" x2=\"378.47222222222223\" y1=\"168.33333333333334\" y2=\"168.33333333333334\"/><line x1=\"376.984126984127\" x2=\"376.984126984127\" y1=\"180.0\" y2=\"168.33333333333334\"/><line x1=\"376.984126984127\" x2=\"378.47222222222223\" y1=\"168.33333333333334\" y2=\"168.33333333333334\"/><line x1=\"383.92857142857144\" x2=\"383.92857142857144\" y1=\"175.0\" y2=\"168.33333333333334\"/><line x1=\"383.92857142857144\" x2=\"378.47222222222223\" y1=\"168.33333333333334\" y2=\"168.33333333333334\"/><line x1=\"380.95238095238096\" x2=\"380.95238095238096\" y1=\"180.0\" y2=\"175.0\"/><line x1=\"380.95238095238096\" x2=\"383.92857142857144\" y1=\"175.0\" y2=\"175.0\"/><line x1=\"386.9047619047619\" x2=\"386.9047619047619\" y1=\"178.33333333333334\" y2=\"175.0\"/><line x1=\"386.9047619047619\" x2=\"383.92857142857144\" y1=\"175.0\" y2=\"175.0\"/><line x1=\"384.92063492063494\" x2=\"384.92063492063494\" y1=\"180.0\" y2=\"178.33333333333334\"/><line x1=\"384.92063492063494\" x2=\"386.9047619047619\" y1=\"178.33333333333334\" y2=\"178.33333333333334\"/><line x1=\"388.8888888888889\" x2=\"388.8888888888889\" y1=\"180.0\" y2=\"178.33333333333334\"/><line x1=\"388.8888888888889\" x2=\"386.9047619047619\" y1=\"178.33333333333334\" y2=\"178.33333333333334\"/><line x1=\"397.81746031746036\" x2=\"397.81746031746036\" y1=\"143.33333333333331\" y2=\"100.0\"/><line x1=\"397.81746031746036\" x2=\"365.203373015873\" y1=\"100.0\" y2=\"100.0\"/><line x1=\"392.8571428571429\" x2=\"392.8571428571429\" y1=\"180.0\" y2=\"143.33333333333331\"/><line x1=\"392.8571428571429\" x2=\"397.81746031746036\" y1=\"143.33333333333331\" y2=\"143.33333333333331\"/><line x1=\"396.82539682539687\" x2=\"396.82539682539687\" y1=\"180.0\" y2=\"143.33333333333331\"/><line x1=\"396.82539682539687\" x2=\"397.81746031746036\" y1=\"143.33333333333331\" y2=\"143.33333333333331\"/><line x1=\"402.77777777777777\" x2=\"402.77777777777777\" y1=\"173.33333333333334\" y2=\"143.33333333333331\"/><line x1=\"402.77777777777777\" x2=\"397.81746031746036\" y1=\"143.33333333333331\" y2=\"143.33333333333331\"/><line x1=\"400.7936507936508\" x2=\"400.7936507936508\" y1=\"180.0\" y2=\"173.33333333333334\"/><line x1=\"400.7936507936508\" x2=\"402.77777777777777\" y1=\"173.33333333333334\" y2=\"173.33333333333334\"/><line x1=\"404.76190476190476\" x2=\"404.76190476190476\" y1=\"180.0\" y2=\"173.33333333333334\"/><line x1=\"404.76190476190476\" x2=\"402.77777777777777\" y1=\"173.33333333333334\" y2=\"173.33333333333334\"/><line x1=\"436.7559523809524\" x2=\"436.7559523809524\" y1=\"128.33333333333331\" y2=\"100.0\"/><line x1=\"436.7559523809524\" x2=\"365.203373015873\" y1=\"100.0\" y2=\"100.0\"/><line x1=\"408.73015873015873\" x2=\"408.73015873015873\" y1=\"180.0\" y2=\"128.33333333333331\"/><line x1=\"408.73015873015873\" x2=\"436.7559523809524\" y1=\"128.33333333333331\" y2=\"128.33333333333331\"/><line x1=\"412.6984126984127\" x2=\"412.6984126984127\" y1=\"180.0\" y2=\"128.33333333333331\"/><line x1=\"412.6984126984127\" x2=\"436.7559523809524\" y1=\"128.33333333333331\" y2=\"128.33333333333331\"/><line x1=\"418.6507936507937\" x2=\"418.6507936507937\" y1=\"178.33333333333334\" y2=\"128.33333333333331\"/><line x1=\"418.6507936507937\" x2=\"436.7559523809524\" y1=\"128.33333333333331\" y2=\"128.33333333333331\"/><line x1=\"416.6666666666667\" x2=\"416.6666666666667\" y1=\"180.0\" y2=\"178.33333333333334\"/><line x1=\"416.6666666666667\" x2=\"418.6507936507937\" y1=\"178.33333333333334\" y2=\"178.33333333333334\"/><line x1=\"420.63492063492066\" x2=\"420.63492063492066\" y1=\"180.0\" y2=\"178.33333333333334\"/><line x1=\"420.63492063492066\" x2=\"418.6507936507937\" y1=\"178.33333333333334\" y2=\"178.33333333333334\"/><line x1=\"426.58730158730157\" x2=\"426.58730158730157\" y1=\"178.33333333333334\" y2=\"128.33333333333331\"/><line x1=\"426.58730158730157\" x2=\"436.7559523809524\" y1=\"128.33333333333331\" y2=\"128.33333333333331\"/><line x1=\"424.60317460317464\" x2=\"424.60317460317464\" y1=\"180.0\" y2=\"178.33333333333334\"/><line x1=\"424.60317460317464\" x2=\"426.58730158730157\" y1=\"178.33333333333334\" y2=\"178.33333333333334\"/><line x1=\"428.57142857142856\" x2=\"428.57142857142856\" y1=\"180.0\" y2=\"178.33333333333334\"/><line x1=\"428.57142857142856\" x2=\"426.58730158730157\" y1=\"178.33333333333334\" y2=\"178.33333333333334\"/><line x1=\"438.4920634920635\" x2=\"438.4920634920635\" y1=\"176.66666666666666\" y2=\"128.33333333333331\"/><line x1=\"438.4920634920635\" x2=\"436.7559523809524\" y1=\"128.33333333333331\" y2=\"128.33333333333331\"/><line x1=\"432.53968253968253\" x2=\"432.53968253968253\" y1=\"180.0\" y2=\"176.66666666666666\"/><line x1=\"432.53968253968253\" x2=\"438.4920634920635\" y1=\"176.66666666666666\" y2=\"176.66666666666666\"/><line x1=\"436.5079365079365\" x2=\"436.5079365079365\" y1=\"180.0\" y2=\"176.66666666666666\"/><line x1=\"436.5079365079365\" x2=\"438.4920634920635\" y1=\"176.66666666666666\" y2=\"176.66666666666666\"/><line x1=\"440.4761904761905\" x2=\"440.4761904761905\" y1=\"180.0\" y2=\"176.66666666666666\"/><line x1=\"440.4761904761905\" x2=\"438.4920634920635\" y1=\"176.66666666666666\" y2=\"176.66666666666666\"/><line x1=\"444.44444444444446\" x2=\"444.44444444444446\" y1=\"180.0\" y2=\"176.66666666666666\"/><line x1=\"444.44444444444446\" x2=\"438.4920634920635\" y1=\"176.66666666666666\" y2=\"176.66666666666666\"/><line x1=\"464.781746031746\" x2=\"464.781746031746\" y1=\"145.0\" y2=\"128.33333333333331\"/><line x1=\"464.781746031746\" x2=\"436.7559523809524\" y1=\"128.33333333333331\" y2=\"128.33333333333331\"/><line x1=\"448.41269841269843\" x2=\"448.41269841269843\" y1=\"180.0\" y2=\"145.0\"/><line x1=\"448.41269841269843\" x2=\"464.781746031746\" y1=\"145.0\" y2=\"145.0\"/><line x1=\"452.3809523809524\" x2=\"452.3809523809524\" y1=\"180.0\" y2=\"145.0\"/><line x1=\"452.3809523809524\" x2=\"464.781746031746\" y1=\"145.0\" y2=\"145.0\"/><line x1=\"456.3492063492064\" x2=\"456.3492063492064\" y1=\"180.0\" y2=\"145.0\"/><line x1=\"456.3492063492064\" x2=\"464.781746031746\" y1=\"145.0\" y2=\"145.0\"/><line x1=\"460.31746031746036\" x2=\"460.31746031746036\" y1=\"180.0\" y2=\"145.0\"/><line x1=\"460.31746031746036\" x2=\"464.781746031746\" y1=\"145.0\" y2=\"145.0\"/><line x1=\"464.2857142857143\" x2=\"464.2857142857143\" y1=\"180.0\" y2=\"145.0\"/><line x1=\"464.2857142857143\" x2=\"464.781746031746\" y1=\"145.0\" y2=\"145.0\"/><line x1=\"468.25396825396825\" x2=\"468.25396825396825\" y1=\"180.0\" y2=\"145.0\"/><line x1=\"468.25396825396825\" x2=\"464.781746031746\" y1=\"145.0\" y2=\"145.0\"/><line x1=\"481.1507936507936\" x2=\"481.1507936507936\" y1=\"176.66666666666666\" y2=\"145.0\"/><line x1=\"481.1507936507936\" x2=\"464.781746031746\" y1=\"145.0\" y2=\"145.0\"/><line x1=\"472.22222222222223\" x2=\"472.22222222222223\" y1=\"180.0\" y2=\"176.66666666666666\"/><line x1=\"472.22222222222223\" x2=\"481.1507936507936\" y1=\"176.66666666666666\" y2=\"176.66666666666666\"/><line x1=\"476.1904761904762\" x2=\"476.1904761904762\" y1=\"180.0\" y2=\"176.66666666666666\"/><line x1=\"476.1904761904762\" x2=\"481.1507936507936\" y1=\"176.66666666666666\" y2=\"176.66666666666666\"/><line x1=\"480.1587301587302\" x2=\"480.1587301587302\" y1=\"180.0\" y2=\"176.66666666666666\"/><line x1=\"480.1587301587302\" x2=\"481.1507936507936\" y1=\"176.66666666666666\" y2=\"176.66666666666666\"/><line x1=\"484.12698412698415\" x2=\"484.12698412698415\" y1=\"180.0\" y2=\"176.66666666666666\"/><line x1=\"484.12698412698415\" x2=\"481.1507936507936\" y1=\"176.66666666666666\" y2=\"176.66666666666666\"/><line x1=\"490.07936507936506\" x2=\"490.07936507936506\" y1=\"178.33333333333334\" y2=\"176.66666666666666\"/><line x1=\"490.07936507936506\" x2=\"481.1507936507936\" y1=\"176.66666666666666\" y2=\"176.66666666666666\"/><line x1=\"488.09523809523813\" x2=\"488.09523809523813\" y1=\"180.0\" y2=\"178.33333333333334\"/><line x1=\"488.09523809523813\" x2=\"490.07936507936506\" y1=\"178.33333333333334\" y2=\"178.33333333333334\"/><line x1=\"492.06349206349205\" x2=\"492.06349206349205\" y1=\"180.0\" y2=\"178.33333333333334\"/><line x1=\"492.06349206349205\" x2=\"490.07936507936506\" y1=\"178.33333333333334\" y2=\"178.33333333333334\"/></g><g font-size=\"14\" text-anchor=\"start\"><text x=\"50.63492063492063\" y=\"173.33333333333334\">329</text><text x=\"60.55555555555556\" y=\"171.66666666666666\">887</text><text x=\"72.46031746031747\" y=\"171.66666666666666\">1028</text><text x=\"86.34920634920636\" y=\"170.0\">1154</text><text x=\"256.2710813492064\" y=\"78.33333333333333\">1816</text><text x=\"173.65079365079367\" y=\"173.33333333333334\">315</text><text x=\"185.55555555555554\" y=\"173.33333333333334\">481</text><text x=\"193.4920634920635\" y=\"173.33333333333334\">561</text><text x=\"201.42857142857144\" y=\"171.66666666666666\">931</text><text x=\"215.3174603174603\" y=\"161.66666666666666\">1561</text><text x=\"234.16666666666669\" y=\"156.66666666666666\">1613</text><text x=\"241.11111111111111\" y=\"173.33333333333334\">735</text><text x=\"265.91269841269843\" y=\"153.33333333333334\">1639</text><text x=\"260.95238095238096\" y=\"173.33333333333334\">391</text><text x=\"272.8571428571429\" y=\"171.66666666666666\">1037</text><text x=\"284.76190476190476\" y=\"163.33333333333334\">1531</text><text x=\"331.4508928571429\" y=\"83.33333333333333\">1810</text><text x=\"370.203373015873\" y=\"95.0\">1792</text><text x=\"344.2857142857143\" y=\"173.33333333333334\">130</text><text x=\"352.22222222222223\" y=\"173.33333333333334\">218</text><text x=\"360.1587301587302\" y=\"171.66666666666666\">919</text><text x=\"370.07936507936506\" y=\"168.33333333333334\">1329</text><text x=\"383.47222222222223\" y=\"163.33333333333334\">1533</text><text x=\"388.92857142857144\" y=\"170.0\">1242</text><text x=\"391.9047619047619\" y=\"173.33333333333334\">680</text><text x=\"402.81746031746036\" y=\"138.33333333333331\">1704</text><text x=\"407.77777777777777\" y=\"168.33333333333334\">1319</text><text x=\"441.7559523809524\" y=\"123.33333333333331\">1742</text><text x=\"423.6507936507937\" y=\"173.33333333333334\">165</text><text x=\"431.58730158730157\" y=\"173.33333333333334\">262</text><text x=\"443.4920634920635\" y=\"171.66666666666666\">782</text><text x=\"469.781746031746\" y=\"140.0\">1692</text><text x=\"486.1507936507936\" y=\"171.66666666666666\">949</text><text x=\"495.07936507936506\" y=\"173.33333333333334\">302</text></g><g font-size=\"14\" text-anchor=\"end\"><text x=\"171.09126984126985\" y=\"96.66666666666666\">1790</text><text x=\"282.6984126984127\" y=\"173.33333333333334\">587</text></g><g font-size=\"14\" text-anchor=\"middle\"><text x=\"127.61966765873018\" y=\"15.0\">1874</text><text x=\"3.9682539682539684\" y=\"200.0\">14</text><text x=\"7.936507936507937\" y=\"200.0\">26</text><text x=\"11.904761904761905\" y=\"200.0\">39</text><text x=\"15.873015873015873\" y=\"200.0\">47</text><text x=\"19.841269841269842\" y=\"200.0\">50</text><text x=\"23.80952380952381\" y=\"200.0\">52</text><text x=\"27.77777777777778\" y=\"200.0\">54</text><text x=\"31.746031746031747\" y=\"200.0\">67</text><text x=\"35.714285714285715\" y=\"200.0\">83</text><text x=\"39.682539682539684\" y=\"200.0\">87</text><text x=\"43.65079365079365\" y=\"200.0\">73</text><text x=\"47.61904761904762\" y=\"200.0\">88</text><text x=\"51.58730158730159\" y=\"200.0\">57</text><text x=\"55.55555555555556\" y=\"200.0\">58</text><text x=\"59.523809523809526\" y=\"200.0\">59</text><text x=\"63.492063492063494\" y=\"200.0\">41</text><text x=\"67.46031746031747\" y=\"200.0\">51</text><text x=\"71.42857142857143\" y=\"200.0\">119</text><text x=\"75.39682539682539\" y=\"200.0\">48</text><text x=\"79.36507936507937\" y=\"200.0\">62</text><text x=\"83.33333333333334\" y=\"200.0\">71</text><text x=\"87.3015873015873\" y=\"200.0\">110</text><text x=\"91.26984126984127\" y=\"200.0\">0</text><text x=\"95.23809523809524\" y=\"200.0\">2</text><text x=\"99.20634920634922\" y=\"200.0\">5</text><text x=\"103.17460317460318\" y=\"200.0\">11</text><text x=\"107.14285714285714\" y=\"200.0\">15</text><text x=\"111.11111111111111\" y=\"200.0\">17</text><text x=\"115.07936507936509\" y=\"200.0\">23</text><text x=\"119.04761904761905\" y=\"200.0\">24</text><text x=\"123.01587301587301\" y=\"200.0\">25</text><text x=\"126.98412698412699\" y=\"200.0\">31</text><text x=\"130.95238095238096\" y=\"200.0\">34</text><text x=\"134.92063492063494\" y=\"200.0\">44</text><text x=\"138.88888888888889\" y=\"200.0\">66</text><text x=\"142.85714285714286\" y=\"200.0\">72</text><text x=\"146.82539682539684\" y=\"200.0\">97</text><text x=\"150.79365079365078\" y=\"200.0\">105</text><text x=\"154.76190476190476\" y=\"200.0\">111</text><text x=\"158.73015873015873\" y=\"200.0\">116</text><text x=\"162.6984126984127\" y=\"200.0\">74</text><text x=\"166.66666666666669\" y=\"200.0\">93</text><text x=\"170.63492063492063\" y=\"200.0\">94</text><text x=\"174.6031746031746\" y=\"200.0\">107</text><text x=\"178.57142857142858\" y=\"200.0\">32</text><text x=\"182.53968253968253\" y=\"200.0\">114</text><text x=\"186.5079365079365\" y=\"200.0\">22</text><text x=\"190.47619047619048\" y=\"200.0\">27</text><text x=\"194.44444444444446\" y=\"200.0\">106</text><text x=\"198.41269841269843\" y=\"200.0\">118</text><text x=\"202.38095238095238\" y=\"200.0\">6</text><text x=\"206.34920634920636\" y=\"200.0\">10</text><text x=\"210.31746031746033\" y=\"200.0\">56</text><text x=\"214.28571428571428\" y=\"200.0\">65</text><text x=\"218.25396825396825\" y=\"200.0\">113</text><text x=\"222.22222222222223\" y=\"200.0\">3</text><text x=\"226.1904761904762\" y=\"200.0\">19</text><text x=\"230.15873015873018\" y=\"200.0\">35</text><text x=\"234.12698412698413\" y=\"200.0\">1</text><text x=\"238.0952380952381\" y=\"200.0\">37</text><text x=\"242.06349206349208\" y=\"200.0\">9</text><text x=\"246.03174603174602\" y=\"200.0\">49</text><text x=\"250.0\" y=\"200.0\">95</text><text x=\"253.96825396825398\" y=\"200.0\">55</text><text x=\"257.93650793650795\" y=\"200.0\">70</text><text x=\"261.9047619047619\" y=\"200.0\">12</text><text x=\"265.8730158730159\" y=\"200.0\">16</text><text x=\"269.8412698412699\" y=\"200.0\">28</text><text x=\"273.8095238095238\" y=\"200.0\">108</text><text x=\"277.77777777777777\" y=\"200.0\">21</text><text x=\"281.74603174603175\" y=\"200.0\">45</text><text x=\"285.7142857142857\" y=\"200.0\">18</text><text x=\"289.6825396825397\" y=\"200.0\">120</text><text x=\"293.6507936507937\" y=\"200.0\">30</text><text x=\"297.61904761904765\" y=\"200.0\">38</text><text x=\"301.58730158730157\" y=\"200.0\">60</text><text x=\"305.55555555555554\" y=\"200.0\">61</text><text x=\"309.5238095238095\" y=\"200.0\">63</text><text x=\"313.4920634920635\" y=\"200.0\">76</text><text x=\"317.46031746031747\" y=\"200.0\">79</text><text x=\"321.42857142857144\" y=\"200.0\">90</text><text x=\"325.3968253968254\" y=\"200.0\">101</text><text x=\"329.3650793650794\" y=\"200.0\">109</text><text x=\"333.33333333333337\" y=\"200.0\">112</text><text x=\"337.3015873015873\" y=\"200.0\">4</text><text x=\"341.26984126984127\" y=\"200.0\">117</text><text x=\"345.23809523809524\" y=\"200.0\">86</text><text x=\"349.2063492063492\" y=\"200.0\">89</text><text x=\"353.1746031746032\" y=\"200.0\">53</text><text x=\"357.14285714285717\" y=\"200.0\">69</text><text x=\"361.11111111111114\" y=\"200.0\">20</text><text x=\"365.07936507936506\" y=\"200.0\">29</text><text x=\"369.04761904761904\" y=\"200.0\">46</text><text x=\"373.015873015873\" y=\"200.0\">36</text><text x=\"376.984126984127\" y=\"200.0\">121</text><text x=\"380.95238095238096\" y=\"200.0\">40</text><text x=\"384.92063492063494\" y=\"200.0\">7</text><text x=\"388.8888888888889\" y=\"200.0\">43</text><text x=\"392.8571428571429\" y=\"200.0\">68</text><text x=\"396.82539682539687\" y=\"200.0\">115</text><text x=\"400.7936507936508\" y=\"200.0\">33</text><text x=\"404.76190476190476\" y=\"200.0\">64</text><text x=\"408.73015873015873\" y=\"200.0\">78</text><text x=\"412.6984126984127\" y=\"200.0\">82</text><text x=\"416.6666666666667\" y=\"200.0\">99</text><text x=\"420.63492063492066\" y=\"200.0\">102</text><text x=\"424.60317460317464\" y=\"200.0\">80</text><text x=\"428.57142857142856\" y=\"200.0\">81</text><text x=\"432.53968253968253\" y=\"200.0\">77</text><text x=\"436.5079365079365\" y=\"200.0\">98</text><text x=\"440.4761904761905\" y=\"200.0\">100</text><text x=\"444.44444444444446\" y=\"200.0\">104</text><text x=\"448.41269841269843\" y=\"200.0\">13</text><text x=\"452.3809523809524\" y=\"200.0\">85</text><text x=\"456.3492063492064\" y=\"200.0\">91</text><text x=\"460.31746031746036\" y=\"200.0\">92</text><text x=\"464.2857142857143\" y=\"200.0\">103</text><text x=\"468.25396825396825\" y=\"200.0\">122</text><text x=\"472.22222222222223\" y=\"200.0\">8</text><text x=\"476.1904761904762\" y=\"200.0\">42</text><text x=\"480.1587301587302\" y=\"200.0\">84</text><text x=\"484.12698412698415\" y=\"200.0\">123</text><text x=\"488.09523809523813\" y=\"200.0\">75</text><text x=\"492.06349206349205\" y=\"200.0\">96</text></g><circle cx=\"127.61966765873018\" cy=\"20.0\" fill=\"black\" r=\"3\"/><circle cx=\"3.9682539682539684\" cy=\"180.0\" fill=\"black\" r=\"3\"/><circle cx=\"7.936507936507937\" cy=\"180.0\" fill=\"black\" r=\"3\"/><circle cx=\"11.904761904761905\" cy=\"180.0\" fill=\"black\" r=\"3\"/><circle cx=\"15.873015873015873\" cy=\"180.0\" fill=\"black\" r=\"3\"/><circle cx=\"19.841269841269842\" cy=\"180.0\" fill=\"black\" r=\"3\"/><circle cx=\"23.80952380952381\" cy=\"180.0\" fill=\"black\" r=\"3\"/><circle cx=\"27.77777777777778\" cy=\"180.0\" fill=\"black\" r=\"3\"/><circle cx=\"31.746031746031747\" cy=\"180.0\" fill=\"black\" r=\"3\"/><circle cx=\"35.714285714285715\" cy=\"180.0\" fill=\"black\" r=\"3\"/><circle cx=\"39.682539682539684\" cy=\"180.0\" fill=\"black\" r=\"3\"/><circle cx=\"45.63492063492063\" cy=\"178.33333333333334\" fill=\"black\" r=\"3\"/><circle cx=\"43.65079365079365\" cy=\"180.0\" fill=\"black\" r=\"3\"/><circle cx=\"47.61904761904762\" cy=\"180.0\" fill=\"black\" r=\"3\"/><circle cx=\"55.55555555555556\" cy=\"176.66666666666666\" fill=\"black\" r=\"3\"/><circle cx=\"51.58730158730159\" cy=\"180.0\" fill=\"black\" r=\"3\"/><circle cx=\"55.55555555555556\" cy=\"180.0\" fill=\"black\" r=\"3\"/><circle cx=\"59.523809523809526\" cy=\"180.0\" fill=\"black\" r=\"3\"/><circle cx=\"67.46031746031747\" cy=\"176.66666666666666\" fill=\"black\" r=\"3\"/><circle cx=\"63.492063492063494\" cy=\"180.0\" fill=\"black\" r=\"3\"/><circle cx=\"67.46031746031747\" cy=\"180.0\" fill=\"black\" r=\"3\"/><circle cx=\"71.42857142857143\" cy=\"180.0\" fill=\"black\" r=\"3\"/><circle cx=\"81.34920634920636\" cy=\"175.0\" fill=\"black\" r=\"3\"/><circle cx=\"75.39682539682539\" cy=\"180.0\" fill=\"black\" r=\"3\"/><circle cx=\"79.36507936507937\" cy=\"180.0\" fill=\"black\" r=\"3\"/><circle cx=\"83.33333333333334\" cy=\"180.0\" fill=\"black\" r=\"3\"/><circle cx=\"87.3015873015873\" cy=\"180.0\" fill=\"black\" r=\"3\"/><circle cx=\"251.27108134920638\" cy=\"83.33333333333333\" fill=\"black\" r=\"3\"/><circle cx=\"176.09126984126985\" cy=\"101.66666666666666\" fill=\"black\" r=\"3\"/><circle cx=\"91.26984126984127\" cy=\"180.0\" fill=\"black\" r=\"3\"/><circle cx=\"95.23809523809524\" cy=\"180.0\" fill=\"black\" r=\"3\"/><circle cx=\"99.20634920634922\" cy=\"180.0\" fill=\"black\" r=\"3\"/><circle cx=\"103.17460317460318\" cy=\"180.0\" fill=\"black\" r=\"3\"/><circle cx=\"107.14285714285714\" cy=\"180.0\" fill=\"black\" r=\"3\"/><circle cx=\"111.11111111111111\" cy=\"180.0\" fill=\"black\" r=\"3\"/><circle cx=\"115.07936507936509\" cy=\"180.0\" fill=\"black\" r=\"3\"/><circle cx=\"119.04761904761905\" cy=\"180.0\" fill=\"black\" r=\"3\"/><circle cx=\"123.01587301587301\" cy=\"180.0\" fill=\"black\" r=\"3\"/><circle cx=\"126.98412698412699\" cy=\"180.0\" fill=\"black\" r=\"3\"/><circle cx=\"130.95238095238096\" cy=\"180.0\" fill=\"black\" r=\"3\"/><circle cx=\"134.92063492063494\" cy=\"180.0\" fill=\"black\" r=\"3\"/><circle cx=\"138.88888888888889\" cy=\"180.0\" fill=\"black\" r=\"3\"/><circle cx=\"142.85714285714286\" cy=\"180.0\" fill=\"black\" r=\"3\"/><circle cx=\"146.82539682539684\" cy=\"180.0\" fill=\"black\" r=\"3\"/><circle cx=\"150.79365079365078\" cy=\"180.0\" fill=\"black\" r=\"3\"/><circle cx=\"154.76190476190476\" cy=\"180.0\" fill=\"black\" r=\"3\"/><circle cx=\"158.73015873015873\" cy=\"180.0\" fill=\"black\" r=\"3\"/><circle cx=\"168.65079365079367\" cy=\"178.33333333333334\" fill=\"black\" r=\"3\"/><circle cx=\"162.6984126984127\" cy=\"180.0\" fill=\"black\" r=\"3\"/><circle cx=\"166.66666666666669\" cy=\"180.0\" fill=\"black\" r=\"3\"/><circle cx=\"170.63492063492063\" cy=\"180.0\" fill=\"black\" r=\"3\"/><circle cx=\"174.6031746031746\" cy=\"180.0\" fill=\"black\" r=\"3\"/><circle cx=\"180.55555555555554\" cy=\"178.33333333333334\" fill=\"black\" r=\"3\"/><circle cx=\"178.57142857142858\" cy=\"180.0\" fill=\"black\" r=\"3\"/><circle cx=\"182.53968253968253\" cy=\"180.0\" fill=\"black\" r=\"3\"/><circle cx=\"188.4920634920635\" cy=\"178.33333333333334\" fill=\"black\" r=\"3\"/><circle cx=\"186.5079365079365\" cy=\"180.0\" fill=\"black\" r=\"3\"/><circle cx=\"190.47619047619048\" cy=\"180.0\" fill=\"black\" r=\"3\"/><circle cx=\"196.42857142857144\" cy=\"176.66666666666666\" fill=\"black\" r=\"3\"/><circle cx=\"194.44444444444446\" cy=\"180.0\" fill=\"black\" r=\"3\"/><circle cx=\"198.41269841269843\" cy=\"180.0\" fill=\"black\" r=\"3\"/><circle cx=\"210.3174603174603\" cy=\"166.66666666666666\" fill=\"black\" r=\"3\"/><circle cx=\"202.38095238095238\" cy=\"180.0\" fill=\"black\" r=\"3\"/><circle cx=\"206.34920634920636\" cy=\"180.0\" fill=\"black\" r=\"3\"/><circle cx=\"210.31746031746033\" cy=\"180.0\" fill=\"black\" r=\"3\"/><circle cx=\"214.28571428571428\" cy=\"180.0\" fill=\"black\" r=\"3\"/><circle cx=\"218.25396825396825\" cy=\"180.0\" fill=\"black\" r=\"3\"/><circle cx=\"229.16666666666669\" cy=\"161.66666666666666\" fill=\"black\" r=\"3\"/><circle cx=\"222.22222222222223\" cy=\"180.0\" fill=\"black\" r=\"3\"/><circle cx=\"226.1904761904762\" cy=\"180.0\" fill=\"black\" r=\"3\"/><circle cx=\"230.15873015873018\" cy=\"180.0\" fill=\"black\" r=\"3\"/><circle cx=\"236.11111111111111\" cy=\"178.33333333333334\" fill=\"black\" r=\"3\"/><circle cx=\"234.12698412698413\" cy=\"180.0\" fill=\"black\" r=\"3\"/><circle cx=\"238.0952380952381\" cy=\"180.0\" fill=\"black\" r=\"3\"/><circle cx=\"260.91269841269843\" cy=\"158.33333333333334\" fill=\"black\" r=\"3\"/><circle cx=\"242.06349206349208\" cy=\"180.0\" fill=\"black\" r=\"3\"/><circle cx=\"246.03174603174602\" cy=\"180.0\" fill=\"black\" r=\"3\"/><circle cx=\"250.0\" cy=\"180.0\" fill=\"black\" r=\"3\"/><circle cx=\"255.95238095238096\" cy=\"178.33333333333334\" fill=\"black\" r=\"3\"/><circle cx=\"253.96825396825398\" cy=\"180.0\" fill=\"black\" r=\"3\"/><circle cx=\"257.93650793650795\" cy=\"180.0\" fill=\"black\" r=\"3\"/><circle cx=\"267.8571428571429\" cy=\"176.66666666666666\" fill=\"black\" r=\"3\"/><circle cx=\"261.9047619047619\" cy=\"180.0\" fill=\"black\" r=\"3\"/><circle cx=\"265.8730158730159\" cy=\"180.0\" fill=\"black\" r=\"3\"/><circle cx=\"269.8412698412699\" cy=\"180.0\" fill=\"black\" r=\"3\"/><circle cx=\"273.8095238095238\" cy=\"180.0\" fill=\"black\" r=\"3\"/><circle cx=\"279.76190476190476\" cy=\"168.33333333333334\" fill=\"black\" r=\"3\"/><circle cx=\"277.77777777777777\" cy=\"180.0\" fill=\"black\" r=\"3\"/><circle cx=\"281.74603174603175\" cy=\"180.0\" fill=\"black\" r=\"3\"/><circle cx=\"326.4508928571429\" cy=\"88.33333333333333\" fill=\"black\" r=\"3\"/><circle cx=\"287.6984126984127\" cy=\"178.33333333333334\" fill=\"black\" r=\"3\"/><circle cx=\"285.7142857142857\" cy=\"180.0\" fill=\"black\" r=\"3\"/><circle cx=\"289.6825396825397\" cy=\"180.0\" fill=\"black\" r=\"3\"/><circle cx=\"365.203373015873\" cy=\"100.0\" fill=\"black\" r=\"3\"/><circle cx=\"293.6507936507937\" cy=\"180.0\" fill=\"black\" r=\"3\"/><circle cx=\"297.61904761904765\" cy=\"180.0\" fill=\"black\" r=\"3\"/><circle cx=\"301.58730158730157\" cy=\"180.0\" fill=\"black\" r=\"3\"/><circle cx=\"305.55555555555554\" cy=\"180.0\" fill=\"black\" r=\"3\"/><circle cx=\"309.5238095238095\" cy=\"180.0\" fill=\"black\" r=\"3\"/><circle cx=\"313.4920634920635\" cy=\"180.0\" fill=\"black\" r=\"3\"/><circle cx=\"317.46031746031747\" cy=\"180.0\" fill=\"black\" r=\"3\"/><circle cx=\"321.42857142857144\" cy=\"180.0\" fill=\"black\" r=\"3\"/><circle cx=\"325.3968253968254\" cy=\"180.0\" fill=\"black\" r=\"3\"/><circle cx=\"329.3650793650794\" cy=\"180.0\" fill=\"black\" r=\"3\"/><circle cx=\"333.33333333333337\" cy=\"180.0\" fill=\"black\" r=\"3\"/><circle cx=\"339.2857142857143\" cy=\"178.33333333333334\" fill=\"black\" r=\"3\"/><circle cx=\"337.3015873015873\" cy=\"180.0\" fill=\"black\" r=\"3\"/><circle cx=\"341.26984126984127\" cy=\"180.0\" fill=\"black\" r=\"3\"/><circle cx=\"347.22222222222223\" cy=\"178.33333333333334\" fill=\"black\" r=\"3\"/><circle cx=\"345.23809523809524\" cy=\"180.0\" fill=\"black\" r=\"3\"/><circle cx=\"349.2063492063492\" cy=\"180.0\" fill=\"black\" r=\"3\"/><circle cx=\"355.1587301587302\" cy=\"176.66666666666666\" fill=\"black\" r=\"3\"/><circle cx=\"353.1746031746032\" cy=\"180.0\" fill=\"black\" r=\"3\"/><circle cx=\"357.14285714285717\" cy=\"180.0\" fill=\"black\" r=\"3\"/><circle cx=\"365.07936507936506\" cy=\"173.33333333333334\" fill=\"black\" r=\"3\"/><circle cx=\"361.11111111111114\" cy=\"180.0\" fill=\"black\" r=\"3\"/><circle cx=\"365.07936507936506\" cy=\"180.0\" fill=\"black\" r=\"3\"/><circle cx=\"369.04761904761904\" cy=\"180.0\" fill=\"black\" r=\"3\"/><circle cx=\"378.47222222222223\" cy=\"168.33333333333334\" fill=\"black\" r=\"3\"/><circle cx=\"373.015873015873\" cy=\"180.0\" fill=\"black\" r=\"3\"/><circle cx=\"376.984126984127\" cy=\"180.0\" fill=\"black\" r=\"3\"/><circle cx=\"383.92857142857144\" cy=\"175.0\" fill=\"black\" r=\"3\"/><circle cx=\"380.95238095238096\" cy=\"180.0\" fill=\"black\" r=\"3\"/><circle cx=\"386.9047619047619\" cy=\"178.33333333333334\" fill=\"black\" r=\"3\"/><circle cx=\"384.92063492063494\" cy=\"180.0\" fill=\"black\" r=\"3\"/><circle cx=\"388.8888888888889\" cy=\"180.0\" fill=\"black\" r=\"3\"/><circle cx=\"397.81746031746036\" cy=\"143.33333333333331\" fill=\"black\" r=\"3\"/><circle cx=\"392.8571428571429\" cy=\"180.0\" fill=\"black\" r=\"3\"/><circle cx=\"396.82539682539687\" cy=\"180.0\" fill=\"black\" r=\"3\"/><circle cx=\"402.77777777777777\" cy=\"173.33333333333334\" fill=\"black\" r=\"3\"/><circle cx=\"400.7936507936508\" cy=\"180.0\" fill=\"black\" r=\"3\"/><circle cx=\"404.76190476190476\" cy=\"180.0\" fill=\"black\" r=\"3\"/><circle cx=\"436.7559523809524\" cy=\"128.33333333333331\" fill=\"black\" r=\"3\"/><circle cx=\"408.73015873015873\" cy=\"180.0\" fill=\"black\" r=\"3\"/><circle cx=\"412.6984126984127\" cy=\"180.0\" fill=\"black\" r=\"3\"/><circle cx=\"418.6507936507937\" cy=\"178.33333333333334\" fill=\"black\" r=\"3\"/><circle cx=\"416.6666666666667\" cy=\"180.0\" fill=\"black\" r=\"3\"/><circle cx=\"420.63492063492066\" cy=\"180.0\" fill=\"black\" r=\"3\"/><circle cx=\"426.58730158730157\" cy=\"178.33333333333334\" fill=\"black\" r=\"3\"/><circle cx=\"424.60317460317464\" cy=\"180.0\" fill=\"black\" r=\"3\"/><circle cx=\"428.57142857142856\" cy=\"180.0\" fill=\"black\" r=\"3\"/><circle cx=\"438.4920634920635\" cy=\"176.66666666666666\" fill=\"black\" r=\"3\"/><circle cx=\"432.53968253968253\" cy=\"180.0\" fill=\"black\" r=\"3\"/><circle cx=\"436.5079365079365\" cy=\"180.0\" fill=\"black\" r=\"3\"/><circle cx=\"440.4761904761905\" cy=\"180.0\" fill=\"black\" r=\"3\"/><circle cx=\"444.44444444444446\" cy=\"180.0\" fill=\"black\" r=\"3\"/><circle cx=\"464.781746031746\" cy=\"145.0\" fill=\"black\" r=\"3\"/><circle cx=\"448.41269841269843\" cy=\"180.0\" fill=\"black\" r=\"3\"/><circle cx=\"452.3809523809524\" cy=\"180.0\" fill=\"black\" r=\"3\"/><circle cx=\"456.3492063492064\" cy=\"180.0\" fill=\"black\" r=\"3\"/><circle cx=\"460.31746031746036\" cy=\"180.0\" fill=\"black\" r=\"3\"/><circle cx=\"464.2857142857143\" cy=\"180.0\" fill=\"black\" r=\"3\"/><circle cx=\"468.25396825396825\" cy=\"180.0\" fill=\"black\" r=\"3\"/><circle cx=\"481.1507936507936\" cy=\"176.66666666666666\" fill=\"black\" r=\"3\"/><circle cx=\"472.22222222222223\" cy=\"180.0\" fill=\"black\" r=\"3\"/><circle cx=\"476.1904761904762\" cy=\"180.0\" fill=\"black\" r=\"3\"/><circle cx=\"480.1587301587302\" cy=\"180.0\" fill=\"black\" r=\"3\"/><circle cx=\"484.12698412698415\" cy=\"180.0\" fill=\"black\" r=\"3\"/><circle cx=\"490.07936507936506\" cy=\"178.33333333333334\" fill=\"black\" r=\"3\"/><circle cx=\"488.09523809523813\" cy=\"180.0\" fill=\"black\" r=\"3\"/><circle cx=\"492.06349206349205\" cy=\"180.0\" fill=\"black\" r=\"3\"/><g alignment-baseline=\"middle\" font-size=\"14\" font-style=\"italic\" text-anchor=\"start\"><text x=\"241.11111111111111\" y=\"174.5\">0</text><text x=\"86.34920634920636\" y=\"102.0\">1</text><text x=\"147.85714285714286\" y=\"145.33333333333331\">2</text></g><g alignment-baseline=\"middle\" font-size=\"14\" font-style=\"italic\" text-anchor=\"end\"/><rect fill=\"red\" height=\"6\" width=\"6\" x=\"233.11111111111111\" y=\"167.0\"/><rect fill=\"red\" height=\"6\" width=\"6\" x=\"78.34920634920636\" y=\"94.5\"/><rect fill=\"red\" height=\"6\" width=\"6\" x=\"139.85714285714286\" y=\"137.83333333333331\"/></svg>"
      ],
      "text/plain": [
       "<IPython.core.display.SVG object>"
      ]
     },
     "execution_count": 29,
     "metadata": {},
     "output_type": "execute_result"
    }
   ],
   "source": [
    "first_tree = vivax_inferred_ts.first()\n",
    "SVG(first_tree.draw(width=500))"
   ]
  },
  {
   "cell_type": "markdown",
   "metadata": {},
   "source": [
    "Clearly, with 124 samples, the tree is unintelligible. We can use the powerful [ete3 tree drawing engine](http://etetoolkit.org/docs/latest/tutorial/tutorial_drawing.html) to draw the first tree with a circular output:\n",
    "\n",
    "<img src=\"images/circular_vivax_tree.png\">\n"
   ]
  },
  {
   "cell_type": "code",
   "execution_count": 30,
   "metadata": {},
   "outputs": [],
   "source": [
    "#if you're curious how this tree was created here is the code\n",
    "#it won't run on jupyter hub however\n",
    "\n",
    "# first_tree_newick=Tree(first_tree.newick())\n",
    "# ts = TreeStyle()\n",
    "# ts.mode = \"c\"\n",
    "# ts.arc_start = 0 # 0 degrees = 3 o'clock\n",
    "# ts.arc_span = 360\n",
    "# #ts.scale = 20\n",
    "# ts.show_leaf_name = True\n",
    "# ts.show_scale = False\n",
    "# first_tree_newick.render(\"%%inline\",tree_style=ts,w=500)  "
   ]
  },
  {
   "cell_type": "markdown",
   "metadata": {},
   "source": [
    "This is better, but it would be helpful to know where the samples came from!\n",
    "\n",
    "Luckily the country of origin of the 124 sequences we are considering was stored in the vivax sample data file. Cleverly, this metadata has been transferred into the inferred tree sequence too, which we can query using the `populations()` iterator:"
   ]
  },
  {
   "cell_type": "code",
   "execution_count": 11,
   "metadata": {},
   "outputs": [
    {
     "name": "stdout",
     "output_type": "stream",
     "text": [
      "Sample IDs from population West Thailand\n",
      "[ 0  1  2  3  4  5  6  7  8  9 10 11 12 13 14 15 16 17 18 19 20 21 22 23\n",
      " 24 25 26 27 28 29 30 31 32 33 34 35 36 37 38 39 40 41 42 43 44 45 46 47\n",
      " 48 49 50]\n",
      "Sample IDs from population East Thailand\n",
      "[51]\n",
      "Sample IDs from population West Cambodia\n",
      "[52 53 54 55 56 57 58 59 60 61 62 63 64 65 66 67 68 69 70 71]\n",
      "Sample IDs from population Northeast Cambodia\n",
      "[72]\n",
      "Sample IDs from population Indonesia\n",
      "[73 74 75 76 77 78 79 80 81 82 83 84 85 86 87 88 89 90 91 92 93 94 95 96]\n",
      "Sample IDs from population Papua New Guinea\n",
      "[ 97  98  99 100 101 102 103 104]\n",
      "Sample IDs from population Brazil\n",
      "[105]\n",
      "Sample IDs from population Sri Lanka\n",
      "[106]\n",
      "Sample IDs from population Vietnam\n",
      "[107 108 109 110 111 112 113]\n",
      "Sample IDs from population India\n",
      "[114]\n",
      "Sample IDs from population Malaysia\n",
      "[115 116 117 118 119]\n",
      "Sample IDs from population Myanmar\n",
      "[120]\n",
      "Sample IDs from population Laos\n",
      "[121]\n",
      "Sample IDs from population Madagascar\n",
      "[122]\n",
      "Sample IDs from population China\n",
      "[123]\n"
     ]
    }
   ],
   "source": [
    "for p in vivax_inferred_ts.populations():\n",
    "    print(\"Sample IDs from population\", json.loads(p.metadata)['name'])\n",
    "    print(vivax_inferred_ts.samples(population=p.id))"
   ]
  },
  {
   "cell_type": "markdown",
   "metadata": {},
   "source": [
    "We can use these to redraw the tree, coloring the tips by the country of origin. We won't show all the code here as it gets a bit messy, but here is the output:"
   ]
  },
  {
   "cell_type": "markdown",
   "metadata": {},
   "source": [
    "<img src=\"images/malaria_circular.png\">"
   ]
  },
  {
   "cell_type": "markdown",
   "metadata": {},
   "source": [
    "This sort of representation at a region of interest could certainly be informative, but with 1475 marginal trees we need other ways to summarize the relationships between samples. "
   ]
  },
  {
   "cell_type": "markdown",
   "metadata": {},
   "source": [
    "## Genealogical Nearest Neighbours\n",
    "A useful metric for understanding population level relationships from a tree sequence is genealogical nearest neighbours. \n",
    "Given K sets of reference nodes (e.g., the samples for each of the 15 populations of clonal *vivax* samples), the GNN statistic for a specific node is a K-vector describing the proportion of its immediate neighbours within the tree from each of these reference sets. Think of this as looking at the most recent node, or ancestor, of each sample and determining what population the other daughter sample(s) of that node came from.  \n",
    "<br>\n",
    "In the tsinfer preprint, we determined the GNN matrix for the UK Biobank. Here we show a much smaller example from the same clonal *vivax* dataset, removing populations with only one sample. \n"
   ]
  },
  {
   "cell_type": "markdown",
   "metadata": {},
   "source": [
    "We begin by creating the reference set of populations for which the GNN statistic will be calculated."
   ]
  },
  {
   "cell_type": "code",
   "execution_count": 14,
   "metadata": {},
   "outputs": [],
   "source": [
    "import json\n",
    "tables = vivax_inferred_ts.dump_tables()\n",
    "reference_sets = []\n",
    "\n",
    "for pop in vivax_inferred_ts.populations():\n",
    "    reference_sets.append(np.where(tables.nodes.population == pop.id)[0].astype(np.int32))\n",
    "    name = json.loads(pop.metadata.decode())[\"name\"]"
   ]
  },
  {
   "cell_type": "markdown",
   "metadata": {},
   "source": [
    "We then run the genealogical_nearest_neighbours function, converting the resulting array into a Pandas DataFrame and adding a Population column."
   ]
  },
  {
   "cell_type": "code",
   "execution_count": 15,
   "metadata": {},
   "outputs": [],
   "source": [
    "A = vivax_inferred_ts.genealogical_nearest_neighbours(\n",
    "vivax_inferred_ts.samples(), reference_sets)\n",
    "gnn = pd.DataFrame(A)\n",
    "gnn[\"Population\"] = \"\""
   ]
  },
  {
   "cell_type": "markdown",
   "metadata": {},
   "source": [
    "We create a dictionary listing the samples belonging to each population from the metadata."
   ]
  },
  {
   "cell_type": "code",
   "execution_count": 55,
   "metadata": {},
   "outputs": [],
   "source": [
    "pop_dict = {}\n",
    "for p in vivax_inferred_ts.populations():\n",
    "    pop_dict[json.loads(p.metadata)['name']] = list(vivax_inferred_ts.samples(population=p.id))"
   ]
  },
  {
   "cell_type": "markdown",
   "metadata": {},
   "source": [
    "We then use this dictionary to assign a population to each sample and rename the columns by the population they represent."
   ]
  },
  {
   "cell_type": "code",
   "execution_count": 59,
   "metadata": {},
   "outputs": [],
   "source": [
    "i = 0\n",
    "for pop in pop_dict.items():\n",
    "    for indiv in pop[1]:\n",
    "        gnn.iloc[i,15] = pop[0]\n",
    "        i += 1\n",
    "gnn = gnn.rename(index=str, columns={v: k for v, k in enumerate(list(pop_dict.keys()))})"
   ]
  },
  {
   "cell_type": "markdown",
   "metadata": {},
   "source": [
    "We keep populations with more than one sample."
   ]
  },
  {
   "cell_type": "code",
   "execution_count": 61,
   "metadata": {},
   "outputs": [],
   "source": [
    "gnn_removed_singletons=gnn[gnn[\"Population\"].isin(['West Thailand','Indonesia',\"West Cambodia\",\"Papua New Guinea\",\n",
    "                                                   \"Vietnam\",\"Malaysia\"])]\n",
    "gnn_small = gnn_removed_singletons[['West Thailand','Indonesia',\"West Cambodia\",\"Papua New Guinea\",\n",
    "                                                   \"Vietnam\",\"Malaysia\",\"Population\"]]\n"
   ]
  },
  {
   "cell_type": "markdown",
   "metadata": {},
   "source": [
    "And we determine the Z-score normalised GNN proportions for clonal *vivax* samples by population. \n",
    "The GNN matrix is first z-score normalised by column and the rows are then hierarchically clustered."
   ]
  },
  {
   "cell_type": "code",
   "execution_count": 62,
   "metadata": {},
   "outputs": [
    {
     "data": {
      "text/plain": [
       "<seaborn.matrix.ClusterGrid at 0x122487588>"
      ]
     },
     "execution_count": 62,
     "metadata": {},
     "output_type": "execute_result"
    },
    {
     "data": {
      "image/png": "[encoded data removed]",
      "text/plain": [
       "<Figure size 720x720 with 4 Axes>"
      ]
     },
     "metadata": {},
     "output_type": "display_data"
    }
   ],
   "source": [
    "import seaborn as sns\n",
    "import scipy\n",
    "import matplotlib as plt\n",
    "dfg = gnn_small.groupby(\"Population\").mean()\n",
    "\n",
    "# Zscore normalise\n",
    "for col in list(dfg):\n",
    "    dfg[col] = scipy.stats.zscore(dfg[col])\n",
    "\n",
    "row_linkage = scipy.cluster.hierarchy.linkage(dfg, method=\"average\")\n",
    "order = scipy.cluster.hierarchy.leaves_list(row_linkage)\n",
    "x_pop = dfg.index.values[order]\n",
    "\n",
    "sns.clustermap(dfg[x_pop],row_linkage=row_linkage,col_cluster=False)"
   ]
  },
  {
   "cell_type": "markdown",
   "metadata": {},
   "source": [
    "<a id='metadata'></a>\n",
    "# 6. Storing metadata in tree sequences\n",
    "\n",
    "We have already seen that metadata such as population names can be saved into, and passed between, `SampleData` and  `TreeSequence` objects. Most other objects in a tree sequence can have associated metadata: perhaps the most common use is storing names and locations of individuals or samples, but you can also tag nodes, mutations, sites, etc. \n",
    "\n",
    "Another example of metadata storage is [provenance information](https://msprime.readthedocs.io/en/stable/provenance.html), which tells you how the tree sequence was generated. For inferred data, this might include details of the source of the VCF files, and so forth. For simulated data, it should reveal the simulation tool, the specs of the computer used to run the simulations, the simulation parameters, etc. We can peek at these for our previously simulated examples."
   ]
  },
  {
   "cell_type": "code",
   "execution_count": 24,
   "metadata": {},
   "outputs": [
    {
     "name": "stdout",
     "output_type": "stream",
     "text": [
      "\n",
      "== Out of Africa simulation with subsequent mutations ==\n",
      "> Simulated using software: {'name': 'msprime', 'version': '0.6.2'} \n",
      "> with parameters {'command': 'simulate', 'random_seed': 11, 'TODO': 'add other simulation parameters'}\n",
      "> Simulated using software: {'name': 'msprime', 'version': '0.6.2'} \n",
      "> with parameters {'command': 'mutate', 'rate': 1e-06, 'random_seed': 1, 'keep': True}\n",
      "\n",
      "== Forward simulation with selection ==\n",
      "> Simulated using software: {'name': 'SLiM', 'version': '3.2'} \n",
      "> using command ['slim', '-seed', '123', '/var/folders/wc/ywg2jvp92pvbjyc7sqcz_1_m0000gn/T/tmpu2j3qq26'] \n",
      "> Eidos script was: \n",
      "initialize() {\n",
      "    initializeTreeSeq();\n",
      "    initializeMutationRate(1e-08);\n",
      "    initializeMutationType(\"m2\", 0.5, \"g\", -0.01, 1.0);  // deleterious\n",
      "    initializeMutationType(\"m3\", 1.0, \"f\", 0.05);       // advantageous\n",
      "    // only deleterious mutations (type m2) should be introduced automatically\n",
      "    initializeGenomicElementType(\"g1\", m2, 1.0);\n",
      "    initializeGenomicElement(g1, 0, 99999);\n",
      "    initializeRecombinationRate(1e-07);\n",
      "}\n",
      "\n",
      "1 { // in the first generation, add a standard population of 500 diploids\n",
      "    defineConstant(\"simID\", getSeed());\n",
      "    sim.addSubpop(\"p1\", 500);\n",
      "}\n",
      "\n",
      "1000 late() { // after 1000 introduce an advantageous mutation\n",
      "    target = sample(p1.genomes, 1);\n",
      "    target.addNewDrawnMutation(m3, 50000);\n",
      "    sim.treeSeqOutput(\"data/slim_init.trees\"); // save in case restart needed\n",
      "}\n",
      "\n",
      "1000:100000 late() { // check every subsequent generation for fixation or loss\n",
      "    if (sim.countOfMutationsOfType(m3) == 0) {\n",
      "        if (sum(sim.substitutions.mutationType == m3) == 1) {\n",
      "            fn = \"data/slim_fixed.trees\";\n",
      "            sim.treeSeqOutput(fn);\n",
      "            catn(simID + \": fixed and saved to '\" + fn + \"'\");\n",
      "            sim.simulationFinished();\n",
      "        } else {\n",
      "            catn(simID + \": lost - restarting\");\n",
      "            sim.readFromPopulationFile(\"data/slim_init.trees\");\n",
      "            setSeed(getSeed() + 1); // try again with a different seed\n",
      "        }\n",
      "    }\n",
      "}\n",
      "> Simulated using software: {'name': 'SLiM', 'version': '3.2'} \n",
      "> using command ['slim', '-seed', '123', '/var/folders/wc/ywg2jvp92pvbjyc7sqcz_1_m0000gn/T/tmpu2j3qq26'] \n",
      "> Eidos script was: \n",
      "initialize() {\n",
      "    initializeTreeSeq();\n",
      "    initializeMutationRate(1e-08);\n",
      "    initializeMutationType(\"m2\", 0.5, \"g\", -0.01, 1.0);  // deleterious\n",
      "    initializeMutationType(\"m3\", 1.0, \"f\", 0.05);       // advantageous\n",
      "    // only deleterious mutations (type m2) should be introduced automatically\n",
      "    initializeGenomicElementType(\"g1\", m2, 1.0);\n",
      "    initializeGenomicElement(g1, 0, 99999);\n",
      "    initializeRecombinationRate(1e-07);\n",
      "}\n",
      "\n",
      "1 { // in the first generation, add a standard population of 500 diploids\n",
      "    defineConstant(\"simID\", getSeed());\n",
      "    sim.addSubpop(\"p1\", 500);\n",
      "}\n",
      "\n",
      "1000 late() { // after 1000 introduce an advantageous mutation\n",
      "    target = sample(p1.genomes, 1);\n",
      "    target.addNewDrawnMutation(m3, 50000);\n",
      "    sim.treeSeqOutput(\"data/slim_init.trees\"); // save in case restart needed\n",
      "}\n",
      "\n",
      "1000:100000 late() { // check every subsequent generation for fixation or loss\n",
      "    if (sim.countOfMutationsOfType(m3) == 0) {\n",
      "        if (sum(sim.substitutions.mutationType == m3) == 1) {\n",
      "            fn = \"data/slim_fixed.trees\";\n",
      "            sim.treeSeqOutput(fn);\n",
      "            catn(simID + \": fixed and saved to '\" + fn + \"'\");\n",
      "            sim.simulationFinished();\n",
      "        } else {\n",
      "            catn(simID + \": lost - restarting\");\n",
      "            sim.readFromPopulationFile(\"data/slim_init.trees\");\n",
      "            setSeed(getSeed() + 1); // try again with a different seed\n",
      "        }\n",
      "    }\n",
      "}\n"
     ]
    }
   ],
   "source": [
    "import json # arbitrary metadata tends to use JSON formatting\n",
    "\n",
    "print(\"\\n== Out of Africa simulation with subsequent mutations ==\")\n",
    "for p in tskit.load(\"data/OOA.trees\").provenances():\n",
    "  rec = json.loads(p.record)\n",
    "  print(\"> Simulated using software:\", rec['software'],\n",
    "       \"\\n> with parameters\", rec['parameters'])\n",
    "\n",
    "print(\"\\n== Forward simulation with selection ==\")\n",
    "for p in tskit.load(\"data/slim_fixed.trees\").provenances():\n",
    "  rec = json.loads(p.record)\n",
    "  print(\"> Simulated using software:\", rec['software'],\n",
    "       \"\\n> using command\", rec['parameters']['command'],\n",
    "       \"\\n> Eidos script was:\", rec['parameters']['model'])\n"
   ]
  },
  {
   "cell_type": "markdown",
   "metadata": {
    "colab_type": "text",
    "id": "jn-7eQK-aejV"
   },
   "source": [
    "<a id='ref'></a>\n",
    "# 5. References and Documentation"
   ]
  },
  {
   "cell_type": "markdown",
   "metadata": {
    "colab_type": "text",
    "id": "RC8ZlIADaejW"
   },
   "source": [
    "$\\texttt{msprime}$: <br>\n",
    "Reference: Kelleher, J., Etheridge, A.M. and McVean, G., 2016. Efficient coalescent simulation and genealogical analysis for large sample sizes. PLoS computational biology, 12(5), p.e1004842.\n",
    "<br>\n",
    "Documentation: https://msprime.readthedocs.io/en/stable/index.html\n",
    "\n",
    "$\\texttt{SLiM}$: <br>\n",
    "Reference: Haller, B.C., Galloway, J., Kelleher, J., Messer, P.W. and Ralph, P.L., 2018. Tree‐sequence recording in SL iM opens new horizons for forward‐time simulation of whole genomes. Molecular Ecology Resources.\n",
    "<br>\n",
    "Documentation: http://benhaller.com/slim/SLiM_Manual.pdf\n",
    "\n",
    "$\\texttt{tsinfer}$: <br>\n",
    "Reference:  Kelleher, J., Wong, Y., Albers, P., Wohns, A.W. and McVean, G., 2018. Inferring the ancestry of everyone. bioRxiv, p.458067.\n",
    "<br>\n",
    "Documentation: https://tsinfer.readthedocs.io/en/latest/api.html?highlight=sample_data\n",
    "\n",
    "Out of Africa Model used in section 3: <br>\n",
    "Gutenkunst, R.N., Hernandez, R.D., Williamson, S.H. and Bustamante, C.D., 2009. Inferring the joint demographic history of multiple populations from multidimensional SNP frequency data. PLoS genetics, 5(10), p.e1000695."
   ]
  },
  {
   "cell_type": "code",
   "execution_count": 0,
   "metadata": {
    "colab": {},
    "colab_type": "code",
    "id": "ce0NEqUPaejX"
   },
   "outputs": [],
   "source": []
  }
 ],
 "metadata": {
  "colab": {
   "collapsed_sections": [],
   "name": "wilders_additions_ts_workshop.ipynb",
   "provenance": [],
   "toc_visible": true,
   "version": "0.3.2"
  },
  "kernelspec": {
   "display_name": "Python 3",
   "language": "python",
   "name": "python3"
  },
  "language_info": {
   "codemirror_mode": {
    "name": "ipython",
    "version": 3
   },
   "file_extension": ".py",
   "mimetype": "text/x-python",
   "name": "python",
   "nbconvert_exporter": "python",
   "pygments_lexer": "ipython3",
   "version": "3.6.6"
  }
 },
 "nbformat": 4,
 "nbformat_minor": 1
}
